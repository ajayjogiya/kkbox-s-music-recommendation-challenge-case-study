{
 "cells": [
  {
   "cell_type": "markdown",
   "metadata": {
    "id": "UXl-v7E6QIU1"
   },
   "source": [
    "# **Feature Engineering**"
   ]
  },
  {
   "cell_type": "code",
   "execution_count": 4,
   "metadata": {
    "executionInfo": {
     "elapsed": 961,
     "status": "ok",
     "timestamp": 1615729037105,
     "user": {
      "displayName": "Ajay Jogiya",
      "photoUrl": "",
      "userId": "12844089788344129075"
     },
     "user_tz": -330
    },
    "id": "I6lRMhWzFnBf"
   },
   "outputs": [],
   "source": [
    "import os\n",
    "import pandas as pd\n",
    "import numpy as np\n",
    "import matplotlib.pyplot as plt\n",
    "import seaborn as sns\n",
    "from collections import Counter\n",
    "from wordcloud import WordCloud\n",
    "import missingno as msno\n",
    "import warnings\n",
    "warnings.filterwarnings(\"ignore\")\n",
    "#from tqdm.notebook import tqdm\n",
    "from sklearn.preprocessing import StandardScaler\n",
    "import time\n",
    "from sklearn.decomposition import PCA\n",
    "from sklearn.preprocessing import LabelEncoder\n",
    "from sklearn.ensemble import RandomForestClassifier\n",
    "from sklearn.decomposition import TruncatedSVD\n",
    "from tqdm.notebook import tqdm\n",
    "from sklearn.impute import KNNImputer"
   ]
  },
  {
   "cell_type": "code",
   "execution_count": 5,
   "metadata": {
    "colab": {
     "base_uri": "https://localhost:8080/"
    },
    "executionInfo": {
     "elapsed": 684,
     "status": "ok",
     "timestamp": 1615729038528,
     "user": {
      "displayName": "Ajay Jogiya",
      "photoUrl": "",
      "userId": "12844089788344129075"
     },
     "user_tz": -330
    },
    "id": "nyj9qx5TGEDX",
    "outputId": "fb48a94f-0c42-41fe-e7f6-fab9389acd7e"
   },
   "outputs": [
    {
     "name": "stdout",
     "output_type": "stream",
     "text": [
      "Drive already mounted at /content/drive; to attempt to forcibly remount, call drive.mount(\"/content/drive\", force_remount=True).\n"
     ]
    }
   ],
   "source": [
    "from google.colab import drive\n",
    "drive.mount('/content/drive')"
   ]
  },
  {
   "cell_type": "code",
   "execution_count": null,
   "metadata": {
    "executionInfo": {
     "elapsed": 1254,
     "status": "ok",
     "timestamp": 1615752641954,
     "user": {
      "displayName": "Ajay Jogiya",
      "photoUrl": "",
      "userId": "12844089788344129075"
     },
     "user_tz": -330
    },
    "id": "QPtyIXkHFnBq"
   },
   "outputs": [],
   "source": [
    "os.chdir(\"/content/drive/MyDrive/Case_study_1/original_csv_files/csv_files\")\n",
    "files = os.listdir()"
   ]
  },
  {
   "cell_type": "markdown",
   "metadata": {
    "id": "dBrEXZR4pxsp"
   },
   "source": [
    "# **knn imputation**"
   ]
  },
  {
   "cell_type": "code",
   "execution_count": null,
   "metadata": {
    "colab": {
     "base_uri": "https://localhost:8080/",
     "height": 150
    },
    "executionInfo": {
     "elapsed": 1856,
     "status": "ok",
     "timestamp": 1615707665412,
     "user": {
      "displayName": "ajay jogiya",
      "photoUrl": "https://lh3.googleusercontent.com/a-/AOh14GgRAXM6e1-9rIRgaPP756Iug7UkbP0azqriVDFLww=s64",
      "userId": "14152685769056492470"
     },
     "user_tz": -330
    },
    "id": "TM5KEUT4vcnG",
    "outputId": "285869fb-ba6a-4ee3-afa7-69f8d89523b4"
   },
   "outputs": [
    {
     "name": "stdout",
     "output_type": "stream",
     "text": [
      "(34403, 7)\n"
     ]
    },
    {
     "data": {
      "text/html": [
       "<div>\n",
       "<style scoped>\n",
       "    .dataframe tbody tr th:only-of-type {\n",
       "        vertical-align: middle;\n",
       "    }\n",
       "\n",
       "    .dataframe tbody tr th {\n",
       "        vertical-align: top;\n",
       "    }\n",
       "\n",
       "    .dataframe thead th {\n",
       "        text-align: right;\n",
       "    }\n",
       "</style>\n",
       "<table border=\"1\" class=\"dataframe\">\n",
       "  <thead>\n",
       "    <tr style=\"text-align: right;\">\n",
       "      <th></th>\n",
       "      <th>msno</th>\n",
       "      <th>city</th>\n",
       "      <th>bd</th>\n",
       "      <th>gender</th>\n",
       "      <th>registered_via</th>\n",
       "      <th>registration_init_time</th>\n",
       "      <th>expiration_date</th>\n",
       "    </tr>\n",
       "  </thead>\n",
       "  <tbody>\n",
       "    <tr>\n",
       "      <th>0</th>\n",
       "      <td>XQxgAYj3klVKjR3oxPPXYYFp4soD4TuBghkhMTD4oTw=</td>\n",
       "      <td>1</td>\n",
       "      <td>0</td>\n",
       "      <td>NaN</td>\n",
       "      <td>7</td>\n",
       "      <td>20110820</td>\n",
       "      <td>20170920</td>\n",
       "    </tr>\n",
       "    <tr>\n",
       "      <th>1</th>\n",
       "      <td>UizsfmJb9mV54qE9hCYyU07Va97c0lCRLEQX3ae+ztM=</td>\n",
       "      <td>1</td>\n",
       "      <td>0</td>\n",
       "      <td>NaN</td>\n",
       "      <td>7</td>\n",
       "      <td>20150628</td>\n",
       "      <td>20170622</td>\n",
       "    </tr>\n",
       "    <tr>\n",
       "      <th>2</th>\n",
       "      <td>D8nEhsIOBSoE6VthTaqDX8U6lqjJ7dLdr72mOyLya2A=</td>\n",
       "      <td>1</td>\n",
       "      <td>0</td>\n",
       "      <td>NaN</td>\n",
       "      <td>4</td>\n",
       "      <td>20160411</td>\n",
       "      <td>20170712</td>\n",
       "    </tr>\n",
       "  </tbody>\n",
       "</table>\n",
       "</div>"
      ],
      "text/plain": [
       "                                           msno  ...  expiration_date\n",
       "0  XQxgAYj3klVKjR3oxPPXYYFp4soD4TuBghkhMTD4oTw=  ...         20170920\n",
       "1  UizsfmJb9mV54qE9hCYyU07Va97c0lCRLEQX3ae+ztM=  ...         20170622\n",
       "2  D8nEhsIOBSoE6VthTaqDX8U6lqjJ7dLdr72mOyLya2A=  ...         20170712\n",
       "\n",
       "[3 rows x 7 columns]"
      ]
     },
     "execution_count": 6,
     "metadata": {
      "tags": []
     },
     "output_type": "execute_result"
    }
   ],
   "source": [
    "member = pd.read_csv('members_1.csv')\n",
    "print(member.shape)\n",
    "member.head(3)"
   ]
  },
  {
   "cell_type": "code",
   "execution_count": null,
   "metadata": {
    "id": "L07BfYJqFo5p"
   },
   "outputs": [],
   "source": [
    "# make zero age to nan because we know that any user not have zero age.EX-if age <= 0 than age = np.nan.\n",
    "# make large age to 80. EX- if age > 80 than age = 80.\n",
    "def age_replace(data):\n",
    "\n",
    "    new_age = []\n",
    "    for i in data['bd'].values:\n",
    "        if i <= 0 :\n",
    "            new_age.append(np.nan)\n",
    "        elif i > 55 :\n",
    "            new_age.append(55)\n",
    "        elif i > 60:\n",
    "            new_age.append(np.nan)\n",
    "        else :\n",
    "            new_age.append(i)\n",
    "    data['new_bd'] = new_age\n",
    "    return data\n",
    "\n",
    "def get_d_m_y(sample_data):\n",
    "\n",
    "    regi_date = sample_data['registration_init_time'].values\n",
    "    expi_date = sample_data['expiration_date'].values\n",
    "\n",
    "    day   = []\n",
    "    month = []\n",
    "    year  = []\n",
    "\n",
    "    for i in regi_date:\n",
    "        i = str(i)\n",
    "        day.append(int(i[:4]))\n",
    "        month.append(int(i[4:6]))\n",
    "        year.append(int(i[6:]))\n",
    "    sample_data['regi_day']   = day\n",
    "    sample_data['regi_month'] = month\n",
    "    sample_data['regi_year']  = year\n",
    "\n",
    "    day   = []\n",
    "    month = []\n",
    "    year  = []\n",
    "\n",
    "    for i in expi_date:\n",
    "        i = str(i)\n",
    "        day.append(int(i[:4]))\n",
    "        month.append(int(i[4:6]))\n",
    "        year.append(int(i[6:]))\n",
    "    sample_data['expire_day']   = day\n",
    "    sample_data['expire_month'] = month\n",
    "    sample_data['expire_year']  = year\n",
    "\n",
    "    sample_data = sample_data.drop(['expiration_date','registration_init_time'],axis =1)\n",
    "\n",
    "    return sample_data\n"
   ]
  },
  {
   "cell_type": "code",
   "execution_count": null,
   "metadata": {
    "colab": {
     "base_uri": "https://localhost:8080/",
     "height": 170
    },
    "executionInfo": {
     "elapsed": 1035,
     "status": "ok",
     "timestamp": 1615707894829,
     "user": {
      "displayName": "ajay jogiya",
      "photoUrl": "https://lh3.googleusercontent.com/a-/AOh14GgRAXM6e1-9rIRgaPP756Iug7UkbP0azqriVDFLww=s64",
      "userId": "14152685769056492470"
     },
     "user_tz": -330
    },
    "id": "3vnk1aGV1HFP",
    "outputId": "cf21fc65-fd36-4461-dd66-10b243348457"
   },
   "outputs": [
    {
     "name": "stdout",
     "output_type": "stream",
     "text": [
      "(34403, 12)\n"
     ]
    },
    {
     "data": {
      "text/html": [
       "<div>\n",
       "<style scoped>\n",
       "    .dataframe tbody tr th:only-of-type {\n",
       "        vertical-align: middle;\n",
       "    }\n",
       "\n",
       "    .dataframe tbody tr th {\n",
       "        vertical-align: top;\n",
       "    }\n",
       "\n",
       "    .dataframe thead th {\n",
       "        text-align: right;\n",
       "    }\n",
       "</style>\n",
       "<table border=\"1\" class=\"dataframe\">\n",
       "  <thead>\n",
       "    <tr style=\"text-align: right;\">\n",
       "      <th></th>\n",
       "      <th>msno</th>\n",
       "      <th>city</th>\n",
       "      <th>bd</th>\n",
       "      <th>gender</th>\n",
       "      <th>registered_via</th>\n",
       "      <th>new_bd</th>\n",
       "      <th>regi_day</th>\n",
       "      <th>regi_month</th>\n",
       "      <th>regi_year</th>\n",
       "      <th>expire_day</th>\n",
       "      <th>expire_month</th>\n",
       "      <th>expire_year</th>\n",
       "    </tr>\n",
       "  </thead>\n",
       "  <tbody>\n",
       "    <tr>\n",
       "      <th>0</th>\n",
       "      <td>XQxgAYj3klVKjR3oxPPXYYFp4soD4TuBghkhMTD4oTw=</td>\n",
       "      <td>1</td>\n",
       "      <td>0</td>\n",
       "      <td>NaN</td>\n",
       "      <td>7</td>\n",
       "      <td>NaN</td>\n",
       "      <td>2011</td>\n",
       "      <td>8</td>\n",
       "      <td>20</td>\n",
       "      <td>2017</td>\n",
       "      <td>9</td>\n",
       "      <td>20</td>\n",
       "    </tr>\n",
       "    <tr>\n",
       "      <th>1</th>\n",
       "      <td>UizsfmJb9mV54qE9hCYyU07Va97c0lCRLEQX3ae+ztM=</td>\n",
       "      <td>1</td>\n",
       "      <td>0</td>\n",
       "      <td>NaN</td>\n",
       "      <td>7</td>\n",
       "      <td>NaN</td>\n",
       "      <td>2015</td>\n",
       "      <td>6</td>\n",
       "      <td>28</td>\n",
       "      <td>2017</td>\n",
       "      <td>6</td>\n",
       "      <td>22</td>\n",
       "    </tr>\n",
       "    <tr>\n",
       "      <th>2</th>\n",
       "      <td>D8nEhsIOBSoE6VthTaqDX8U6lqjJ7dLdr72mOyLya2A=</td>\n",
       "      <td>1</td>\n",
       "      <td>0</td>\n",
       "      <td>NaN</td>\n",
       "      <td>4</td>\n",
       "      <td>NaN</td>\n",
       "      <td>2016</td>\n",
       "      <td>4</td>\n",
       "      <td>11</td>\n",
       "      <td>2017</td>\n",
       "      <td>7</td>\n",
       "      <td>12</td>\n",
       "    </tr>\n",
       "  </tbody>\n",
       "</table>\n",
       "</div>"
      ],
      "text/plain": [
       "                                           msno  ...  expire_year\n",
       "0  XQxgAYj3klVKjR3oxPPXYYFp4soD4TuBghkhMTD4oTw=  ...           20\n",
       "1  UizsfmJb9mV54qE9hCYyU07Va97c0lCRLEQX3ae+ztM=  ...           22\n",
       "2  D8nEhsIOBSoE6VthTaqDX8U6lqjJ7dLdr72mOyLya2A=  ...           12\n",
       "\n",
       "[3 rows x 12 columns]"
      ]
     },
     "execution_count": 12,
     "metadata": {
      "tags": []
     },
     "output_type": "execute_result"
    }
   ],
   "source": [
    "member = age_replace(member)\n",
    "member = get_d_m_y(member)\n",
    "print(member.shape)\n",
    "member.head(3)"
   ]
  },
  {
   "cell_type": "code",
   "execution_count": null,
   "metadata": {
    "colab": {
     "base_uri": "https://localhost:8080/",
     "height": 150
    },
    "executionInfo": {
     "elapsed": 1471,
     "status": "ok",
     "timestamp": 1615707934201,
     "user": {
      "displayName": "ajay jogiya",
      "photoUrl": "https://lh3.googleusercontent.com/a-/AOh14GgRAXM6e1-9rIRgaPP756Iug7UkbP0azqriVDFLww=s64",
      "userId": "14152685769056492470"
     },
     "user_tz": -330
    },
    "id": "68kb7uMozfkJ",
    "outputId": "154398a4-bdeb-4466-dbda-f22dfaf1837e"
   },
   "outputs": [
    {
     "name": "stdout",
     "output_type": "stream",
     "text": [
      "(34403, 9)\n"
     ]
    },
    {
     "data": {
      "text/html": [
       "<div>\n",
       "<style scoped>\n",
       "    .dataframe tbody tr th:only-of-type {\n",
       "        vertical-align: middle;\n",
       "    }\n",
       "\n",
       "    .dataframe tbody tr th {\n",
       "        vertical-align: top;\n",
       "    }\n",
       "\n",
       "    .dataframe thead th {\n",
       "        text-align: right;\n",
       "    }\n",
       "</style>\n",
       "<table border=\"1\" class=\"dataframe\">\n",
       "  <thead>\n",
       "    <tr style=\"text-align: right;\">\n",
       "      <th></th>\n",
       "      <th>city</th>\n",
       "      <th>new_bd</th>\n",
       "      <th>registered_via</th>\n",
       "      <th>regi_day</th>\n",
       "      <th>regi_month</th>\n",
       "      <th>regi_year</th>\n",
       "      <th>expire_day</th>\n",
       "      <th>expire_month</th>\n",
       "      <th>expire_year</th>\n",
       "    </tr>\n",
       "  </thead>\n",
       "  <tbody>\n",
       "    <tr>\n",
       "      <th>0</th>\n",
       "      <td>1</td>\n",
       "      <td>NaN</td>\n",
       "      <td>7</td>\n",
       "      <td>2011</td>\n",
       "      <td>8</td>\n",
       "      <td>20</td>\n",
       "      <td>2017</td>\n",
       "      <td>9</td>\n",
       "      <td>20</td>\n",
       "    </tr>\n",
       "    <tr>\n",
       "      <th>1</th>\n",
       "      <td>1</td>\n",
       "      <td>NaN</td>\n",
       "      <td>7</td>\n",
       "      <td>2015</td>\n",
       "      <td>6</td>\n",
       "      <td>28</td>\n",
       "      <td>2017</td>\n",
       "      <td>6</td>\n",
       "      <td>22</td>\n",
       "    </tr>\n",
       "    <tr>\n",
       "      <th>2</th>\n",
       "      <td>1</td>\n",
       "      <td>NaN</td>\n",
       "      <td>4</td>\n",
       "      <td>2016</td>\n",
       "      <td>4</td>\n",
       "      <td>11</td>\n",
       "      <td>2017</td>\n",
       "      <td>7</td>\n",
       "      <td>12</td>\n",
       "    </tr>\n",
       "  </tbody>\n",
       "</table>\n",
       "</div>"
      ],
      "text/plain": [
       "   city  new_bd  registered_via  ...  expire_day  expire_month  expire_year\n",
       "0     1     NaN               7  ...        2017             9           20\n",
       "1     1     NaN               7  ...        2017             6           22\n",
       "2     1     NaN               4  ...        2017             7           12\n",
       "\n",
       "[3 rows x 9 columns]"
      ]
     },
     "execution_count": 13,
     "metadata": {
      "tags": []
     },
     "output_type": "execute_result"
    }
   ],
   "source": [
    "new_data = member[['city','new_bd','registered_via' , 'regi_day' ,'regi_month' , 'regi_year' ,'expire_day','expire_month' ,'expire_year' ]]\n",
    "print(new_data.shape)\n",
    "new_data.head(3)"
   ]
  },
  {
   "cell_type": "code",
   "execution_count": null,
   "metadata": {
    "colab": {
     "base_uri": "https://localhost:8080/"
    },
    "executionInfo": {
     "elapsed": 1393,
     "status": "ok",
     "timestamp": 1615707975732,
     "user": {
      "displayName": "ajay jogiya",
      "photoUrl": "https://lh3.googleusercontent.com/a-/AOh14GgRAXM6e1-9rIRgaPP756Iug7UkbP0azqriVDFLww=s64",
      "userId": "14152685769056492470"
     },
     "user_tz": -330
    },
    "id": "WpiTb3mQ3O8L",
    "outputId": "db8c5393-477f-4bca-f57d-44cd0cf6fb30"
   },
   "outputs": [
    {
     "data": {
      "text/plain": [
       "KNNImputer(add_indicator=False, copy=True, metric='nan_euclidean',\n",
       "           missing_values=nan, n_neighbors=10, weights='uniform')"
      ]
     },
     "execution_count": 16,
     "metadata": {
      "tags": []
     },
     "output_type": "execute_result"
    }
   ],
   "source": [
    "imputer = KNNImputer(n_neighbors=10)\n",
    "imputer.fit(new_data)"
   ]
  },
  {
   "cell_type": "code",
   "execution_count": null,
   "metadata": {
    "colab": {
     "base_uri": "https://localhost:8080/"
    },
    "executionInfo": {
     "elapsed": 35279,
     "status": "ok",
     "timestamp": 1615708015252,
     "user": {
      "displayName": "ajay jogiya",
      "photoUrl": "https://lh3.googleusercontent.com/a-/AOh14GgRAXM6e1-9rIRgaPP756Iug7UkbP0azqriVDFLww=s64",
      "userId": "14152685769056492470"
     },
     "user_tz": -330
    },
    "id": "fDzNDHJW1g6a",
    "outputId": "245d2da6-1a48-48e9-8478-c6da54f0dbb8"
   },
   "outputs": [
    {
     "name": "stdout",
     "output_type": "stream",
     "text": [
      "0.5658482670783996\n"
     ]
    }
   ],
   "source": [
    "start = time.time()\n",
    "X = imputer.transform(new_data)\n",
    "print((time.time() - start) /  60)"
   ]
  },
  {
   "cell_type": "code",
   "execution_count": null,
   "metadata": {
    "colab": {
     "base_uri": "https://localhost:8080/",
     "height": 150
    },
    "executionInfo": {
     "elapsed": 2590,
     "status": "ok",
     "timestamp": 1615708021222,
     "user": {
      "displayName": "ajay jogiya",
      "photoUrl": "https://lh3.googleusercontent.com/a-/AOh14GgRAXM6e1-9rIRgaPP756Iug7UkbP0azqriVDFLww=s64",
      "userId": "14152685769056492470"
     },
     "user_tz": -330
    },
    "id": "TNDvXWaA1g3w",
    "outputId": "7de634c0-eac0-424e-eadf-51afff026673"
   },
   "outputs": [
    {
     "name": "stdout",
     "output_type": "stream",
     "text": [
      "(34403, 9)\n"
     ]
    },
    {
     "data": {
      "text/html": [
       "<div>\n",
       "<style scoped>\n",
       "    .dataframe tbody tr th:only-of-type {\n",
       "        vertical-align: middle;\n",
       "    }\n",
       "\n",
       "    .dataframe tbody tr th {\n",
       "        vertical-align: top;\n",
       "    }\n",
       "\n",
       "    .dataframe thead th {\n",
       "        text-align: right;\n",
       "    }\n",
       "</style>\n",
       "<table border=\"1\" class=\"dataframe\">\n",
       "  <thead>\n",
       "    <tr style=\"text-align: right;\">\n",
       "      <th></th>\n",
       "      <th>city</th>\n",
       "      <th>new_bd</th>\n",
       "      <th>registered_via</th>\n",
       "      <th>regi_day</th>\n",
       "      <th>regi_month</th>\n",
       "      <th>regi_year</th>\n",
       "      <th>expire_day</th>\n",
       "      <th>expire_month</th>\n",
       "      <th>expire_year</th>\n",
       "    </tr>\n",
       "  </thead>\n",
       "  <tbody>\n",
       "    <tr>\n",
       "      <th>0</th>\n",
       "      <td>1.0</td>\n",
       "      <td>31.7</td>\n",
       "      <td>7.0</td>\n",
       "      <td>2011.0</td>\n",
       "      <td>8.0</td>\n",
       "      <td>20.0</td>\n",
       "      <td>2017.0</td>\n",
       "      <td>9.0</td>\n",
       "      <td>20.0</td>\n",
       "    </tr>\n",
       "    <tr>\n",
       "      <th>1</th>\n",
       "      <td>1.0</td>\n",
       "      <td>26.3</td>\n",
       "      <td>7.0</td>\n",
       "      <td>2015.0</td>\n",
       "      <td>6.0</td>\n",
       "      <td>28.0</td>\n",
       "      <td>2017.0</td>\n",
       "      <td>6.0</td>\n",
       "      <td>22.0</td>\n",
       "    </tr>\n",
       "    <tr>\n",
       "      <th>2</th>\n",
       "      <td>1.0</td>\n",
       "      <td>28.2</td>\n",
       "      <td>4.0</td>\n",
       "      <td>2016.0</td>\n",
       "      <td>4.0</td>\n",
       "      <td>11.0</td>\n",
       "      <td>2017.0</td>\n",
       "      <td>7.0</td>\n",
       "      <td>12.0</td>\n",
       "    </tr>\n",
       "  </tbody>\n",
       "</table>\n",
       "</div>"
      ],
      "text/plain": [
       "   city  new_bd  registered_via  ...  expire_day  expire_month  expire_year\n",
       "0   1.0    31.7             7.0  ...      2017.0           9.0         20.0\n",
       "1   1.0    26.3             7.0  ...      2017.0           6.0         22.0\n",
       "2   1.0    28.2             4.0  ...      2017.0           7.0         12.0\n",
       "\n",
       "[3 rows x 9 columns]"
      ]
     },
     "execution_count": 18,
     "metadata": {
      "tags": []
     },
     "output_type": "execute_result"
    }
   ],
   "source": [
    "for i in range(len(new_data.columns)):\n",
    "    new_data[new_data.columns[i]] = X[:,i]\n",
    "print(new_data.shape)\n",
    "new_data.head(3)"
   ]
  },
  {
   "cell_type": "markdown",
   "metadata": {
    "id": "C2_npP0c_5rP"
   },
   "source": [
    "### **Before Imputation of bd**"
   ]
  },
  {
   "cell_type": "code",
   "execution_count": null,
   "metadata": {
    "colab": {
     "base_uri": "https://localhost:8080/",
     "height": 620
    },
    "executionInfo": {
     "elapsed": 4020,
     "status": "ok",
     "timestamp": 1615708032270,
     "user": {
      "displayName": "ajay jogiya",
      "photoUrl": "https://lh3.googleusercontent.com/a-/AOh14GgRAXM6e1-9rIRgaPP756Iug7UkbP0azqriVDFLww=s64",
      "userId": "14152685769056492470"
     },
     "user_tz": -330
    },
    "id": "CqV6gqUH_SG9",
    "outputId": "18d19a09-9ab6-4014-fef2-cd956e8a5a50"
   },
   "outputs": [
    {
     "data": {
      "image/png": "[encoded data removed]",
      "text/plain": [
       "<Figure size 720x720 with 1 Axes>"
      ]
     },
     "metadata": {
      "needs_background": "light",
      "tags": []
     },
     "output_type": "display_data"
    }
   ],
   "source": [
    "plt.figure(figsize = (10,10))\n",
    "ax = sns.distplot(member['bd'], bins = 100,hist = True)\n",
    "#h,l = ax.get_legend_handles_labels()\n",
    "#ax.legend(h ,l,bbox_to_anchor=(1.05, 1) ,loc = 'upper left')\n",
    "#plt.setp(ax.get_xticklabels() , rotation = 90 )\n",
    "plt.title('PDF of {}'.format(\"Age\"))\n",
    "plt.show()"
   ]
  },
  {
   "cell_type": "markdown",
   "metadata": {
    "id": "yg6zpKxB_xGQ"
   },
   "source": [
    "### **After Imputation of bd**"
   ]
  },
  {
   "cell_type": "code",
   "execution_count": null,
   "metadata": {
    "colab": {
     "base_uri": "https://localhost:8080/",
     "height": 621
    },
    "executionInfo": {
     "elapsed": 1983,
     "status": "ok",
     "timestamp": 1615708041750,
     "user": {
      "displayName": "ajay jogiya",
      "photoUrl": "https://lh3.googleusercontent.com/a-/AOh14GgRAXM6e1-9rIRgaPP756Iug7UkbP0azqriVDFLww=s64",
      "userId": "14152685769056492470"
     },
     "user_tz": -330
    },
    "id": "HPQFi9qgvl2p",
    "outputId": "879b8e7c-aec3-4b7f-da06-72695960bcd3"
   },
   "outputs": [
    {
     "data": {
      "image/png": "[encoded data removed]",
      "text/plain": [
       "<Figure size 720x720 with 1 Axes>"
      ]
     },
     "metadata": {
      "needs_background": "light",
      "tags": []
     },
     "output_type": "display_data"
    }
   ],
   "source": [
    "plt.figure(figsize = (10,10))\n",
    "ax = sns.distplot(new_data['new_bd'], bins = 100,hist = True)\n",
    "#h,l = ax.get_legend_handles_labels()\n",
    "#ax.legend(h ,l,bbox_to_anchor=(1.05, 1) ,loc = 'upper left')\n",
    "#plt.setp(ax.get_xticklabels() , rotation = 90 )\n",
    "plt.title('PDF of {}'.format(\"Age\"))\n",
    "plt.show()"
   ]
  },
  {
   "cell_type": "code",
   "execution_count": null,
   "metadata": {
    "colab": {
     "base_uri": "https://localhost:8080/"
    },
    "executionInfo": {
     "elapsed": 1523,
     "status": "ok",
     "timestamp": 1615708054171,
     "user": {
      "displayName": "ajay jogiya",
      "photoUrl": "https://lh3.googleusercontent.com/a-/AOh14GgRAXM6e1-9rIRgaPP756Iug7UkbP0azqriVDFLww=s64",
      "userId": "14152685769056492470"
     },
     "user_tz": -330
    },
    "id": "D2EBa7QDLPVQ",
    "outputId": "1cf7bbd8-3cc8-43dc-c76c-526685d811d2"
   },
   "outputs": [
    {
     "name": "stdout",
     "output_type": "stream",
     "text": [
      "(34403, 13)\n"
     ]
    }
   ],
   "source": [
    "member['imputed_bd'] = new_data['new_bd']\n",
    "print(member.shape)"
   ]
  },
  {
   "cell_type": "code",
   "execution_count": null,
   "metadata": {
    "colab": {
     "base_uri": "https://localhost:8080/",
     "height": 170
    },
    "executionInfo": {
     "elapsed": 1713,
     "status": "ok",
     "timestamp": 1615708159078,
     "user": {
      "displayName": "ajay jogiya",
      "photoUrl": "https://lh3.googleusercontent.com/a-/AOh14GgRAXM6e1-9rIRgaPP756Iug7UkbP0azqriVDFLww=s64",
      "userId": "14152685769056492470"
     },
     "user_tz": -330
    },
    "id": "RSl-U3nNtHsh",
    "outputId": "cfe5b704-6581-4efe-e59b-912e8ec4f544"
   },
   "outputs": [
    {
     "name": "stdout",
     "output_type": "stream",
     "text": [
      "(34403, 12)\n"
     ]
    },
    {
     "data": {
      "text/html": [
       "<div>\n",
       "<style scoped>\n",
       "    .dataframe tbody tr th:only-of-type {\n",
       "        vertical-align: middle;\n",
       "    }\n",
       "\n",
       "    .dataframe tbody tr th {\n",
       "        vertical-align: top;\n",
       "    }\n",
       "\n",
       "    .dataframe thead th {\n",
       "        text-align: right;\n",
       "    }\n",
       "</style>\n",
       "<table border=\"1\" class=\"dataframe\">\n",
       "  <thead>\n",
       "    <tr style=\"text-align: right;\">\n",
       "      <th></th>\n",
       "      <th>msno</th>\n",
       "      <th>city</th>\n",
       "      <th>bd</th>\n",
       "      <th>gender</th>\n",
       "      <th>registered_via</th>\n",
       "      <th>regi_day</th>\n",
       "      <th>regi_month</th>\n",
       "      <th>regi_year</th>\n",
       "      <th>expire_day</th>\n",
       "      <th>expire_month</th>\n",
       "      <th>expire_year</th>\n",
       "      <th>imputed_bd</th>\n",
       "    </tr>\n",
       "  </thead>\n",
       "  <tbody>\n",
       "    <tr>\n",
       "      <th>0</th>\n",
       "      <td>XQxgAYj3klVKjR3oxPPXYYFp4soD4TuBghkhMTD4oTw=</td>\n",
       "      <td>1</td>\n",
       "      <td>0</td>\n",
       "      <td>NaN</td>\n",
       "      <td>7</td>\n",
       "      <td>2011</td>\n",
       "      <td>8</td>\n",
       "      <td>20</td>\n",
       "      <td>2017</td>\n",
       "      <td>9</td>\n",
       "      <td>20</td>\n",
       "      <td>31.7</td>\n",
       "    </tr>\n",
       "    <tr>\n",
       "      <th>1</th>\n",
       "      <td>UizsfmJb9mV54qE9hCYyU07Va97c0lCRLEQX3ae+ztM=</td>\n",
       "      <td>1</td>\n",
       "      <td>0</td>\n",
       "      <td>NaN</td>\n",
       "      <td>7</td>\n",
       "      <td>2015</td>\n",
       "      <td>6</td>\n",
       "      <td>28</td>\n",
       "      <td>2017</td>\n",
       "      <td>6</td>\n",
       "      <td>22</td>\n",
       "      <td>26.3</td>\n",
       "    </tr>\n",
       "    <tr>\n",
       "      <th>2</th>\n",
       "      <td>D8nEhsIOBSoE6VthTaqDX8U6lqjJ7dLdr72mOyLya2A=</td>\n",
       "      <td>1</td>\n",
       "      <td>0</td>\n",
       "      <td>NaN</td>\n",
       "      <td>4</td>\n",
       "      <td>2016</td>\n",
       "      <td>4</td>\n",
       "      <td>11</td>\n",
       "      <td>2017</td>\n",
       "      <td>7</td>\n",
       "      <td>12</td>\n",
       "      <td>28.2</td>\n",
       "    </tr>\n",
       "  </tbody>\n",
       "</table>\n",
       "</div>"
      ],
      "text/plain": [
       "                                           msno  city  ...  expire_year imputed_bd\n",
       "0  XQxgAYj3klVKjR3oxPPXYYFp4soD4TuBghkhMTD4oTw=     1  ...           20       31.7\n",
       "1  UizsfmJb9mV54qE9hCYyU07Va97c0lCRLEQX3ae+ztM=     1  ...           22       26.3\n",
       "2  D8nEhsIOBSoE6VthTaqDX8U6lqjJ7dLdr72mOyLya2A=     1  ...           12       28.2\n",
       "\n",
       "[3 rows x 12 columns]"
      ]
     },
     "execution_count": 26,
     "metadata": {
      "tags": []
     },
     "output_type": "execute_result"
    }
   ],
   "source": [
    "member = member.drop('new_bd',axis = 1)\n",
    "print(member.shape)\n",
    "member.head(3)"
   ]
  },
  {
   "cell_type": "code",
   "execution_count": null,
   "metadata": {
    "id": "SlVKTW9O7DtX"
   },
   "outputs": [],
   "source": [
    "member.to_csv('new_member.csv')"
   ]
  },
  {
   "cell_type": "code",
   "execution_count": 4,
   "metadata": {
    "executionInfo": {
     "elapsed": 1156,
     "status": "ok",
     "timestamp": 1615727644667,
     "user": {
      "displayName": "Ajay Jogiya",
      "photoUrl": "",
      "userId": "12844089788344129075"
     },
     "user_tz": -330
    },
    "id": "g6OfIPALFnBr"
   },
   "outputs": [],
   "source": [
    "# function for remove columns which name start with 'Unnamed:'\n",
    "# input  : dataframe\n",
    "# output : dataframe without 'Unnamed:' columns\n",
    "def remove_funtion(data):\n",
    "    for i in data.columns:\n",
    "        if i.split()[0] == 'Unnamed:':\n",
    "            data = data.drop(i,axis = 1)\n",
    "    return data\n",
    "\n",
    "# function for find unique values \n",
    "# input  : dataframe\n",
    "# output : list of unique values in each columns of dataframe\n",
    "def info(data):\n",
    "    \n",
    "    columns_name = list(data.columns)\n",
    "    print('columns_name',' '*(10),'unique_values' , ' '*(7),'Type' )\n",
    "    print('-'*50)\n",
    "    \n",
    "    for name in columns_name:\n",
    "        length = str(len(list(set(data[name].values)))) \n",
    "        print(name ,(25-len(name))*' ','|', length ,(10 - len(length) )*' ','|', data[name].dtype) \n",
    "    print('_'*50)\n",
    "    return \n",
    "\n",
    "# function for find missing value\n",
    "# input  : dataframe\n",
    "# output : percentage of missing value in each columns\n",
    "def find_missing_values(songs_info):\n",
    "    print('='*30)\n",
    "    print('Shape of file :',songs_info.shape)\n",
    "    print('='*30)\n",
    "    print('columns_name',' '*(7),'missing_values in %')\n",
    "\n",
    "    print('-'*30)\n",
    "    \n",
    "    columns_name = list(songs_info.columns)\n",
    "    for name in columns_name:\n",
    "        null_value = sum(songs_info[name].isnull())\n",
    "        percentage = (null_value * 100) / songs_info.shape[0]\n",
    "        print(name ,(25-len(name))*' ',':', percentage) \n",
    "    print('='*30)\n",
    "    return"
   ]
  },
  {
   "cell_type": "markdown",
   "metadata": {
    "id": "eWkCz2BVqx7U"
   },
   "source": [
    "# **Merge all files**"
   ]
  },
  {
   "cell_type": "code",
   "execution_count": 7,
   "metadata": {
    "colab": {
     "base_uri": "https://localhost:8080/"
    },
    "executionInfo": {
     "elapsed": 42375,
     "status": "ok",
     "timestamp": 1615729092605,
     "user": {
      "displayName": "Ajay Jogiya",
      "photoUrl": "",
      "userId": "12844089788344129075"
     },
     "user_tz": -330
    },
    "id": "jlRmvgbAF2V7",
    "outputId": "a7a2ae08-541e-40fb-d900-2410ea478d45"
   },
   "outputs": [
    {
     "name": "stdout",
     "output_type": "stream",
     "text": [
      "member shape : (34403, 13)\n",
      "train shape : (7377418, 6)\n",
      "song_extra_info shape : (2295971, 3)\n",
      "songs shape : (2296320, 7)\n",
      "train_data shape : (7377418, 26)\n"
     ]
    }
   ],
   "source": [
    "# merge data\n",
    "member = pd.read_csv('new_member.csv')\n",
    "print('member shape :',member.shape)\n",
    "\n",
    "train = pd.read_csv('train_1.csv')\n",
    "print('train shape :',train.shape)\n",
    "\n",
    "song_extra_info = pd.read_csv('song_extra_info_1.csv')\n",
    "print('song_extra_info shape :',song_extra_info.shape)\n",
    "\n",
    "songs = pd.read_csv('songs_1.csv')\n",
    "print('songs shape :' , songs.shape)\n",
    "\n",
    "songs_info = songs.merge(song_extra_info, how='left', on='song_id')\n",
    "train_member = train.merge(member , how = 'left' , on = 'msno')\n",
    "train_data = train_member.merge(songs_info, how='left', on='song_id')\n",
    "print('train_data shape :',train_data.shape)"
   ]
  },
  {
   "cell_type": "code",
   "execution_count": null,
   "metadata": {
    "colab": {
     "base_uri": "https://localhost:8080/"
    },
    "executionInfo": {
     "elapsed": 61735,
     "status": "ok",
     "timestamp": 1615709288932,
     "user": {
      "displayName": "ajay jogiya",
      "photoUrl": "https://lh3.googleusercontent.com/a-/AOh14GgRAXM6e1-9rIRgaPP756Iug7UkbP0azqriVDFLww=s64",
      "userId": "14152685769056492470"
     },
     "user_tz": -330
    },
    "id": "G0Hn5qC9-faI",
    "outputId": "8218989f-4e55-4ddd-b8b9-3afda4e02d02"
   },
   "outputs": [
    {
     "name": "stdout",
     "output_type": "stream",
     "text": [
      "test shape : (2556790, 6)\n",
      "test data shape : (2556790, 26)\n"
     ]
    }
   ],
   "source": [
    "test = pd.read_csv('test_1.csv')\n",
    "print('test shape :',test.shape)\n",
    "\n",
    "# merge data on test file\n",
    "test_member = test.merge(member , how = 'left' , on = 'msno')\n",
    "test_data = test_member.merge(songs_info, how='left', on='song_id')\n",
    "print('test data shape :',test_data.shape)"
   ]
  },
  {
   "cell_type": "code",
   "execution_count": null,
   "metadata": {
    "colab": {
     "base_uri": "https://localhost:8080/",
     "height": 338
    },
    "executionInfo": {
     "elapsed": 1582,
     "status": "ok",
     "timestamp": 1615709391913,
     "user": {
      "displayName": "ajay jogiya",
      "photoUrl": "https://lh3.googleusercontent.com/a-/AOh14GgRAXM6e1-9rIRgaPP756Iug7UkbP0azqriVDFLww=s64",
      "userId": "14152685769056492470"
     },
     "user_tz": -330
    },
    "id": "QBDkAgkH-uAh",
    "outputId": "82aec199-0283-4fa8-98c7-8e5beaaebdb4"
   },
   "outputs": [
    {
     "name": "stdout",
     "output_type": "stream",
     "text": [
      "(7377418, 25)\n"
     ]
    },
    {
     "data": {
      "text/html": [
       "<div>\n",
       "<style scoped>\n",
       "    .dataframe tbody tr th:only-of-type {\n",
       "        vertical-align: middle;\n",
       "    }\n",
       "\n",
       "    .dataframe tbody tr th {\n",
       "        vertical-align: top;\n",
       "    }\n",
       "\n",
       "    .dataframe thead th {\n",
       "        text-align: right;\n",
       "    }\n",
       "</style>\n",
       "<table border=\"1\" class=\"dataframe\">\n",
       "  <thead>\n",
       "    <tr style=\"text-align: right;\">\n",
       "      <th></th>\n",
       "      <th>msno</th>\n",
       "      <th>song_id</th>\n",
       "      <th>source_system_tab</th>\n",
       "      <th>source_screen_name</th>\n",
       "      <th>source_type</th>\n",
       "      <th>target</th>\n",
       "      <th>city</th>\n",
       "      <th>bd</th>\n",
       "      <th>gender</th>\n",
       "      <th>registered_via</th>\n",
       "      <th>regi_day</th>\n",
       "      <th>regi_month</th>\n",
       "      <th>regi_year</th>\n",
       "      <th>expire_day</th>\n",
       "      <th>expire_month</th>\n",
       "      <th>expire_year</th>\n",
       "      <th>imputed_bd</th>\n",
       "      <th>song_length</th>\n",
       "      <th>genre_ids</th>\n",
       "      <th>artist_name</th>\n",
       "      <th>composer</th>\n",
       "      <th>lyricist</th>\n",
       "      <th>language</th>\n",
       "      <th>name</th>\n",
       "      <th>isrc</th>\n",
       "    </tr>\n",
       "  </thead>\n",
       "  <tbody>\n",
       "    <tr>\n",
       "      <th>0</th>\n",
       "      <td>FGtllVqz18RPiwJj/edr2gV78zirAiY/9SmYvia+kCg=</td>\n",
       "      <td>BBzumQNXUHKdEBOB7mAJuzok+IJA1c2Ryg/yzTF6tik=</td>\n",
       "      <td>explore</td>\n",
       "      <td>Explore</td>\n",
       "      <td>online-playlist</td>\n",
       "      <td>1</td>\n",
       "      <td>1</td>\n",
       "      <td>0</td>\n",
       "      <td>NaN</td>\n",
       "      <td>7</td>\n",
       "      <td>2012</td>\n",
       "      <td>1</td>\n",
       "      <td>2</td>\n",
       "      <td>2017</td>\n",
       "      <td>10</td>\n",
       "      <td>5</td>\n",
       "      <td>28.3</td>\n",
       "      <td>206471.0</td>\n",
       "      <td>359</td>\n",
       "      <td>Bastille</td>\n",
       "      <td>Dan Smith| Mark Crew</td>\n",
       "      <td>NaN</td>\n",
       "      <td>52.0</td>\n",
       "      <td>Good Grief</td>\n",
       "      <td>GBUM71602854</td>\n",
       "    </tr>\n",
       "    <tr>\n",
       "      <th>1</th>\n",
       "      <td>Xumu+NIjS6QYVxDS4/t3SawvJ7viT9hPKXmf0RtLNx8=</td>\n",
       "      <td>bhp/MpSNoqoxOIB+/l8WPqu6jldth4DIpCm3ayXnJqM=</td>\n",
       "      <td>my library</td>\n",
       "      <td>Local playlist more</td>\n",
       "      <td>local-playlist</td>\n",
       "      <td>1</td>\n",
       "      <td>13</td>\n",
       "      <td>24</td>\n",
       "      <td>female</td>\n",
       "      <td>9</td>\n",
       "      <td>2011</td>\n",
       "      <td>5</td>\n",
       "      <td>25</td>\n",
       "      <td>2017</td>\n",
       "      <td>9</td>\n",
       "      <td>11</td>\n",
       "      <td>24.0</td>\n",
       "      <td>284584.0</td>\n",
       "      <td>1259</td>\n",
       "      <td>Various Artists</td>\n",
       "      <td>NaN</td>\n",
       "      <td>NaN</td>\n",
       "      <td>52.0</td>\n",
       "      <td>Lords of Cardboard</td>\n",
       "      <td>US3C69910183</td>\n",
       "    </tr>\n",
       "    <tr>\n",
       "      <th>2</th>\n",
       "      <td>Xumu+NIjS6QYVxDS4/t3SawvJ7viT9hPKXmf0RtLNx8=</td>\n",
       "      <td>JNWfrrC7zNN7BdMpsISKa4Mw+xVJYNnxXh3/Epw7QgY=</td>\n",
       "      <td>my library</td>\n",
       "      <td>Local playlist more</td>\n",
       "      <td>local-playlist</td>\n",
       "      <td>1</td>\n",
       "      <td>13</td>\n",
       "      <td>24</td>\n",
       "      <td>female</td>\n",
       "      <td>9</td>\n",
       "      <td>2011</td>\n",
       "      <td>5</td>\n",
       "      <td>25</td>\n",
       "      <td>2017</td>\n",
       "      <td>9</td>\n",
       "      <td>11</td>\n",
       "      <td>24.0</td>\n",
       "      <td>225396.0</td>\n",
       "      <td>1259</td>\n",
       "      <td>Nas</td>\n",
       "      <td>N. Jones、W. Adams、J. Lordan、D. Ingle</td>\n",
       "      <td>NaN</td>\n",
       "      <td>52.0</td>\n",
       "      <td>Hip Hop Is Dead(Album Version (Edited))</td>\n",
       "      <td>USUM70618761</td>\n",
       "    </tr>\n",
       "  </tbody>\n",
       "</table>\n",
       "</div>"
      ],
      "text/plain": [
       "                                           msno  ...          isrc\n",
       "0  FGtllVqz18RPiwJj/edr2gV78zirAiY/9SmYvia+kCg=  ...  GBUM71602854\n",
       "1  Xumu+NIjS6QYVxDS4/t3SawvJ7viT9hPKXmf0RtLNx8=  ...  US3C69910183\n",
       "2  Xumu+NIjS6QYVxDS4/t3SawvJ7viT9hPKXmf0RtLNx8=  ...  USUM70618761\n",
       "\n",
       "[3 rows x 25 columns]"
      ]
     },
     "execution_count": 57,
     "metadata": {
      "tags": []
     },
     "output_type": "execute_result"
    }
   ],
   "source": [
    "train_data = remove_funtion(train_data)\n",
    "print(train_data.shape)\n",
    "train_data.head(3)"
   ]
  },
  {
   "cell_type": "code",
   "execution_count": null,
   "metadata": {
    "colab": {
     "base_uri": "https://localhost:8080/",
     "height": 237
    },
    "executionInfo": {
     "elapsed": 1079,
     "status": "ok",
     "timestamp": 1615709391915,
     "user": {
      "displayName": "ajay jogiya",
      "photoUrl": "https://lh3.googleusercontent.com/a-/AOh14GgRAXM6e1-9rIRgaPP756Iug7UkbP0azqriVDFLww=s64",
      "userId": "14152685769056492470"
     },
     "user_tz": -330
    },
    "id": "Wl1qcfDI-8f6",
    "outputId": "e32cd189-cf55-4950-83a1-f49ed79ed277"
   },
   "outputs": [
    {
     "name": "stdout",
     "output_type": "stream",
     "text": [
      "(2556790, 25)\n"
     ]
    },
    {
     "data": {
      "text/html": [
       "<div>\n",
       "<style scoped>\n",
       "    .dataframe tbody tr th:only-of-type {\n",
       "        vertical-align: middle;\n",
       "    }\n",
       "\n",
       "    .dataframe tbody tr th {\n",
       "        vertical-align: top;\n",
       "    }\n",
       "\n",
       "    .dataframe thead th {\n",
       "        text-align: right;\n",
       "    }\n",
       "</style>\n",
       "<table border=\"1\" class=\"dataframe\">\n",
       "  <thead>\n",
       "    <tr style=\"text-align: right;\">\n",
       "      <th></th>\n",
       "      <th>id</th>\n",
       "      <th>msno</th>\n",
       "      <th>song_id</th>\n",
       "      <th>source_system_tab</th>\n",
       "      <th>source_screen_name</th>\n",
       "      <th>source_type</th>\n",
       "      <th>city</th>\n",
       "      <th>bd</th>\n",
       "      <th>gender</th>\n",
       "      <th>registered_via</th>\n",
       "      <th>regi_day</th>\n",
       "      <th>regi_month</th>\n",
       "      <th>regi_year</th>\n",
       "      <th>expire_day</th>\n",
       "      <th>expire_month</th>\n",
       "      <th>expire_year</th>\n",
       "      <th>imputed_bd</th>\n",
       "      <th>song_length</th>\n",
       "      <th>genre_ids</th>\n",
       "      <th>artist_name</th>\n",
       "      <th>composer</th>\n",
       "      <th>lyricist</th>\n",
       "      <th>language</th>\n",
       "      <th>name</th>\n",
       "      <th>isrc</th>\n",
       "    </tr>\n",
       "  </thead>\n",
       "  <tbody>\n",
       "    <tr>\n",
       "      <th>0</th>\n",
       "      <td>0</td>\n",
       "      <td>V8ruy7SGk7tDm3zA51DPpn6qutt+vmKMBKa21dp54uM=</td>\n",
       "      <td>WmHKgKMlp1lQMecNdNvDMkvIycZYHnFwDT72I5sIssc=</td>\n",
       "      <td>my library</td>\n",
       "      <td>Local playlist more</td>\n",
       "      <td>local-library</td>\n",
       "      <td>1</td>\n",
       "      <td>0</td>\n",
       "      <td>NaN</td>\n",
       "      <td>7</td>\n",
       "      <td>2016</td>\n",
       "      <td>2</td>\n",
       "      <td>19</td>\n",
       "      <td>2017</td>\n",
       "      <td>9</td>\n",
       "      <td>18</td>\n",
       "      <td>21.3</td>\n",
       "      <td>224130.0</td>\n",
       "      <td>458</td>\n",
       "      <td>梁文音 (Rachel Liang)</td>\n",
       "      <td>Qi Zheng Zhang</td>\n",
       "      <td>NaN</td>\n",
       "      <td>3.0</td>\n",
       "      <td>愛其實很殘忍</td>\n",
       "      <td>TWUM71400047</td>\n",
       "    </tr>\n",
       "    <tr>\n",
       "      <th>1</th>\n",
       "      <td>1</td>\n",
       "      <td>V8ruy7SGk7tDm3zA51DPpn6qutt+vmKMBKa21dp54uM=</td>\n",
       "      <td>y/rsZ9DC7FwK5F2PK2D5mj+aOBUJAjuu3dZ14NgE0vM=</td>\n",
       "      <td>my library</td>\n",
       "      <td>Local playlist more</td>\n",
       "      <td>local-library</td>\n",
       "      <td>1</td>\n",
       "      <td>0</td>\n",
       "      <td>NaN</td>\n",
       "      <td>7</td>\n",
       "      <td>2016</td>\n",
       "      <td>2</td>\n",
       "      <td>19</td>\n",
       "      <td>2017</td>\n",
       "      <td>9</td>\n",
       "      <td>18</td>\n",
       "      <td>21.3</td>\n",
       "      <td>320470.0</td>\n",
       "      <td>465</td>\n",
       "      <td>林俊傑 (JJ Lin)</td>\n",
       "      <td>林俊傑</td>\n",
       "      <td>孫燕姿/易家揚</td>\n",
       "      <td>3.0</td>\n",
       "      <td>她說</td>\n",
       "      <td>TWB671005201</td>\n",
       "    </tr>\n",
       "    <tr>\n",
       "      <th>2</th>\n",
       "      <td>2</td>\n",
       "      <td>/uQAlrAkaczV+nWCd2sPF2ekvXPRipV7q0l+gbLuxjw=</td>\n",
       "      <td>8eZLFOdGVdXBSqoAv5nsLigeH2BvKXzTQYtUM53I0k4=</td>\n",
       "      <td>discover</td>\n",
       "      <td>NaN</td>\n",
       "      <td>song-based-playlist</td>\n",
       "      <td>1</td>\n",
       "      <td>0</td>\n",
       "      <td>NaN</td>\n",
       "      <td>4</td>\n",
       "      <td>2016</td>\n",
       "      <td>11</td>\n",
       "      <td>17</td>\n",
       "      <td>2016</td>\n",
       "      <td>11</td>\n",
       "      <td>24</td>\n",
       "      <td>25.5</td>\n",
       "      <td>315899.0</td>\n",
       "      <td>2022</td>\n",
       "      <td>Yu Takahashi (高橋優)</td>\n",
       "      <td>Yu Takahashi</td>\n",
       "      <td>Yu Takahashi</td>\n",
       "      <td>17.0</td>\n",
       "      <td>subarashiki nichijo</td>\n",
       "      <td>JPWP01070260</td>\n",
       "    </tr>\n",
       "  </tbody>\n",
       "</table>\n",
       "</div>"
      ],
      "text/plain": [
       "   id  ...          isrc\n",
       "0   0  ...  TWUM71400047\n",
       "1   1  ...  TWB671005201\n",
       "2   2  ...  JPWP01070260\n",
       "\n",
       "[3 rows x 25 columns]"
      ]
     },
     "execution_count": 58,
     "metadata": {
      "tags": []
     },
     "output_type": "execute_result"
    }
   ],
   "source": [
    "test_data = remove_funtion(test_data)\n",
    "print(test_data.shape)\n",
    "test_data.head(3)"
   ]
  },
  {
   "cell_type": "markdown",
   "metadata": {
    "id": "r63ZP9-knBMA"
   },
   "source": [
    "# **train_test_split**"
   ]
  },
  {
   "cell_type": "code",
   "execution_count": null,
   "metadata": {
    "colab": {
     "base_uri": "https://localhost:8080/"
    },
    "executionInfo": {
     "elapsed": 1335,
     "status": "ok",
     "timestamp": 1615709395257,
     "user": {
      "displayName": "ajay jogiya",
      "photoUrl": "https://lh3.googleusercontent.com/a-/AOh14GgRAXM6e1-9rIRgaPP756Iug7UkbP0azqriVDFLww=s64",
      "userId": "14152685769056492470"
     },
     "user_tz": -330
    },
    "id": "8Ci1NWUrJXxE",
    "outputId": "66285a66-d0dd-4ca9-ca43-f3fd584befbe"
   },
   "outputs": [
    {
     "name": "stdout",
     "output_type": "stream",
     "text": [
      "(7377418, 25)\n",
      "(2556790, 25)\n"
     ]
    }
   ],
   "source": [
    "print(train_data.shape)\n",
    "print(test_data.shape)"
   ]
  },
  {
   "cell_type": "code",
   "execution_count": null,
   "metadata": {
    "colab": {
     "base_uri": "https://localhost:8080/"
    },
    "executionInfo": {
     "elapsed": 1683,
     "status": "ok",
     "timestamp": 1615709397961,
     "user": {
      "displayName": "ajay jogiya",
      "photoUrl": "https://lh3.googleusercontent.com/a-/AOh14GgRAXM6e1-9rIRgaPP756Iug7UkbP0azqriVDFLww=s64",
      "userId": "14152685769056492470"
     },
     "user_tz": -330
    },
    "id": "K0YkVtpDLNh4",
    "outputId": "665957aa-fb77-43f5-8814-ca5d026f398f"
   },
   "outputs": [
    {
     "data": {
      "text/plain": [
       "5901934"
      ]
     },
     "execution_count": 60,
     "metadata": {
      "tags": []
     },
     "output_type": "execute_result"
    }
   ],
   "source": [
    "split_val = round((80 * 7377418) / 100)\n",
    "split_val"
   ]
  },
  {
   "cell_type": "code",
   "execution_count": null,
   "metadata": {
    "colab": {
     "base_uri": "https://localhost:8080/"
    },
    "executionInfo": {
     "elapsed": 1198,
     "status": "ok",
     "timestamp": 1615709397963,
     "user": {
      "displayName": "ajay jogiya",
      "photoUrl": "https://lh3.googleusercontent.com/a-/AOh14GgRAXM6e1-9rIRgaPP756Iug7UkbP0azqriVDFLww=s64",
      "userId": "14152685769056492470"
     },
     "user_tz": -330
    },
    "id": "Ush-8CD0F9iP",
    "outputId": "d0f14150-e4f5-42c2-b159-73a1ccb1abfd"
   },
   "outputs": [
    {
     "name": "stdout",
     "output_type": "stream",
     "text": [
      "(5901934, 25) (1475484, 25) (2556790, 25)\n"
     ]
    }
   ],
   "source": [
    "# split data\n",
    "val_data   = train_data[split_val:]\n",
    "train_data = train_data[:split_val]\n",
    "\n",
    "print(train_data.shape , val_data.shape , test_data.shape)"
   ]
  },
  {
   "cell_type": "code",
   "execution_count": null,
   "metadata": {
    "id": "HshBCDAc_Gm-"
   },
   "outputs": [],
   "source": [
    "# seprate genre_ids and make seprate columns for each genre_ids\n",
    "def separate_genre(data):\n",
    "    genre = data['genre_ids'].values\n",
    "    genre_category  = []\n",
    "\n",
    "    # seprate all genre and store in genre_category\n",
    "    for i in genre:\n",
    "        lis = []\n",
    "        i = str(i)\n",
    "        if '|' in i:\n",
    "            sen = i.split('|')\n",
    "            genre_category.append(sen)\n",
    "        else:\n",
    "            lis.append(i)\n",
    "            genre_category.append(lis)\n",
    "    # if len(genre) < 8 than fill 0 to make all len(genre) == 8        \n",
    "    genre_id_list = []\n",
    "    for i in genre_category:\n",
    "        while len(i) < 8:\n",
    "            i.append(0)\n",
    "        genre_id_list.append(i)\n",
    "\n",
    "    genre_ids = np.array(genre_id_list)\n",
    "\n",
    "    # make seprate columns for all genre_ids \n",
    "    data['one_genre']   = genre_ids[:,0]\n",
    "    data['two_genre']   = genre_ids[:,1] \n",
    "    data['three_genre'] = genre_ids[:,2]\n",
    "    data['four_genre']  = genre_ids[:,3]\n",
    "    data['five_genre']  = genre_ids[:,4]\n",
    "    data['six_genre']   = genre_ids[:,5]\n",
    "    data['seven_genre'] = genre_ids[:,6]\n",
    "    data['eight_genre'] = genre_ids[:,7]\n",
    "\n",
    "    data = data.drop('genre_ids' , axis = 1)\n",
    "\n",
    "    return data"
   ]
  },
  {
   "cell_type": "code",
   "execution_count": null,
   "metadata": {
    "id": "EfJrS118_Gdx"
   },
   "outputs": [],
   "source": [
    "train_data = separate_genre(train_data)\n",
    "val_data   = separate_genre(val_data)\n",
    "test_data  = separate_genre(test_data)\n"
   ]
  },
  {
   "cell_type": "code",
   "execution_count": null,
   "metadata": {
    "colab": {
     "base_uri": "https://localhost:8080/"
    },
    "executionInfo": {
     "elapsed": 31382,
     "status": "ok",
     "timestamp": 1615709470719,
     "user": {
      "displayName": "ajay jogiya",
      "photoUrl": "https://lh3.googleusercontent.com/a-/AOh14GgRAXM6e1-9rIRgaPP756Iug7UkbP0azqriVDFLww=s64",
      "userId": "14152685769056492470"
     },
     "user_tz": -330
    },
    "id": "5ajmZkCXxKcu",
    "outputId": "791be842-7c20-4f2f-eb6d-89228eb31685"
   },
   "outputs": [
    {
     "name": "stdout",
     "output_type": "stream",
     "text": [
      "Train Shape : (5901934, 32)\n",
      "Vali  Shape : (1475484, 32)\n",
      "Test  shape : (2556790, 32)\n"
     ]
    }
   ],
   "source": [
    "print('Train Shape :',train_data.shape)\n",
    "print('Vali  Shape :',val_data.shape)\n",
    "print('Test  shape :',test_data.shape)"
   ]
  },
  {
   "cell_type": "markdown",
   "metadata": {
    "id": "mqUoMOZeFnBu"
   },
   "source": [
    "# Feature Engineering"
   ]
  },
  {
   "cell_type": "markdown",
   "metadata": {
    "id": "WDvyRNK92hid"
   },
   "source": [
    "https://towardsdatascience.com/feature-engineering-for-machine-learning-3a5e293a5114"
   ]
  },
  {
   "cell_type": "code",
   "execution_count": null,
   "metadata": {
    "colab": {
     "base_uri": "https://localhost:8080/"
    },
    "executionInfo": {
     "elapsed": 40186,
     "status": "ok",
     "timestamp": 1615709518813,
     "user": {
      "displayName": "ajay jogiya",
      "photoUrl": "https://lh3.googleusercontent.com/a-/AOh14GgRAXM6e1-9rIRgaPP756Iug7UkbP0azqriVDFLww=s64",
      "userId": "14152685769056492470"
     },
     "user_tz": -330
    },
    "id": "8pSd34TMFnBv",
    "outputId": "bda03fb9-c5b2-4580-c4d0-9a1f15003072"
   },
   "outputs": [
    {
     "name": "stdout",
     "output_type": "stream",
     "text": [
      "==============================\n",
      "Shape of file : (5901934, 32)\n",
      "==============================\n",
      "columns_name         missing_values in %\n",
      "------------------------------\n",
      "msno                       : 0.0\n",
      "song_id                    : 0.0\n",
      "source_system_tab          : 0.3391769545372754\n",
      "source_screen_name         : 5.459972951239373\n",
      "source_type                : 0.2842288646399638\n",
      "target                     : 0.0\n",
      "city                       : 0.0\n",
      "bd                         : 0.0\n",
      "gender                     : 39.76235586504356\n",
      "registered_via             : 0.0\n",
      "regi_day                   : 0.0\n",
      "regi_month                 : 0.0\n",
      "regi_year                  : 0.0\n",
      "expire_day                 : 0.0\n",
      "expire_month               : 0.0\n",
      "expire_year                : 0.0\n",
      "imputed_bd                 : 0.0\n",
      "song_length                : 0.001660472651845988\n",
      "artist_name                : 0.001660472651845988\n",
      "composer                   : 22.635783456744857\n",
      "lyricist                   : 42.84673464664295\n",
      "language                   : 0.0021348934095162704\n",
      "name                       : 0.017333301253453528\n",
      "isrc                       : 7.797749009053643\n",
      "one_genre                  : 0.0\n",
      "two_genre                  : 0.0\n",
      "three_genre                : 0.0\n",
      "four_genre                 : 0.0\n",
      "five_genre                 : 0.0\n",
      "six_genre                  : 0.0\n",
      "seven_genre                : 0.0\n",
      "eight_genre                : 0.0\n",
      "==============================\n",
      "columns_name            unique_values         Type\n",
      "--------------------------------------------------\n",
      "msno                       | 28026       | object\n",
      "song_id                    | 319912      | object\n",
      "source_system_tab          | 9           | object\n",
      "source_screen_name         | 21          | object\n",
      "source_type                | 12          | object\n",
      "target                     | 2           | int64\n",
      "city                       | 21          | int64\n",
      "bd                         | 90          | int64\n",
      "gender                     | 3           | object\n",
      "registered_via             | 5           | int64\n",
      "regi_day                   | 14          | int64\n",
      "regi_month                 | 12          | int64\n",
      "regi_year                  | 31          | int64\n",
      "expire_day                 | 18          | int64\n",
      "expire_month               | 12          | int64\n",
      "expire_year                | 31          | int64\n",
      "imputed_bd                 | 242         | float64\n",
      "song_length                | 56394       | float64\n",
      "artist_name                | 36531       | object\n",
      "composer                   | 69032       | object\n",
      "lyricist                   | 31161       | object\n",
      "language                   | 136         | float64\n",
      "name                       | 210398      | object\n",
      "isrc                       | 239826      | object\n",
      "one_genre                  | 158         | object\n",
      "two_genre                  | 82          | object\n",
      "three_genre                | 34          | object\n",
      "four_genre                 | 15          | object\n",
      "five_genre                 | 9           | object\n",
      "six_genre                  | 5           | object\n",
      "seven_genre                | 4           | object\n",
      "eight_genre                | 2           | object\n",
      "__________________________________________________\n"
     ]
    }
   ],
   "source": [
    "find_missing_values(train_data)\n",
    "info(train_data)"
   ]
  },
  {
   "cell_type": "code",
   "execution_count": null,
   "metadata": {
    "colab": {
     "base_uri": "https://localhost:8080/"
    },
    "executionInfo": {
     "elapsed": 49115,
     "status": "ok",
     "timestamp": 1615709528911,
     "user": {
      "displayName": "ajay jogiya",
      "photoUrl": "https://lh3.googleusercontent.com/a-/AOh14GgRAXM6e1-9rIRgaPP756Iug7UkbP0azqriVDFLww=s64",
      "userId": "14152685769056492470"
     },
     "user_tz": -330
    },
    "id": "P5LZpCWwd9u1",
    "outputId": "f7c9328c-f069-4e10-aeba-45af70bd09bb"
   },
   "outputs": [
    {
     "name": "stdout",
     "output_type": "stream",
     "text": [
      "==============================\n",
      "Shape of file : (1475484, 32)\n",
      "==============================\n",
      "columns_name         missing_values in %\n",
      "------------------------------\n",
      "msno                       : 0.0\n",
      "song_id                    : 0.0\n",
      "source_system_tab          : 0.32741798623366974\n",
      "source_screen_name         : 6.27319577846998\n",
      "source_type                : 0.32287710337760356\n",
      "target                     : 0.0\n",
      "city                       : 0.0\n",
      "bd                         : 0.0\n",
      "gender                     : 41.66300685063342\n",
      "registered_via             : 0.0\n",
      "regi_day                   : 0.0\n",
      "regi_month                 : 0.0\n",
      "regi_year                  : 0.0\n",
      "expire_day                 : 0.0\n",
      "expire_month               : 0.0\n",
      "expire_year                : 0.0\n",
      "imputed_bd                 : 0.0\n",
      "song_length                : 0.001084389935777006\n",
      "artist_name                : 0.001084389935777006\n",
      "composer                   : 23.026816963111767\n",
      "lyricist                   : 44.0541544333927\n",
      "language                   : 0.001626584903665509\n",
      "name                       : 0.03714035530036246\n",
      "isrc                       : 7.980093311753974\n",
      "one_genre                  : 0.0\n",
      "two_genre                  : 0.0\n",
      "three_genre                : 0.0\n",
      "four_genre                 : 0.0\n",
      "five_genre                 : 0.0\n",
      "six_genre                  : 0.0\n",
      "seven_genre                : 0.0\n",
      "eight_genre                : 0.0\n",
      "==============================\n",
      "columns_name            unique_values         Type\n",
      "--------------------------------------------------\n",
      "msno                       | 22619       | object\n",
      "song_id                    | 163366      | object\n",
      "source_system_tab          | 9           | object\n",
      "source_screen_name         | 21          | object\n",
      "source_type                | 13          | object\n",
      "target                     | 2           | int64\n",
      "city                       | 21          | int64\n",
      "bd                         | 85          | int64\n",
      "gender                     | 3           | object\n",
      "registered_via             | 5           | int64\n",
      "regi_day                   | 14          | int64\n",
      "regi_month                 | 12          | int64\n",
      "regi_year                  | 31          | int64\n",
      "expire_day                 | 16          | int64\n",
      "expire_month               | 12          | int64\n",
      "expire_year                | 31          | int64\n",
      "imputed_bd                 | 238         | float64\n",
      "song_length                | 37534       | float64\n",
      "artist_name                | 21685       | object\n",
      "composer                   | 40339       | object\n",
      "lyricist                   | 19751       | object\n",
      "language                   | 34          | float64\n",
      "name                       | 115802      | object\n",
      "isrc                       | 123902      | object\n",
      "one_genre                  | 141         | object\n",
      "two_genre                  | 73          | object\n",
      "three_genre                | 25          | object\n",
      "four_genre                 | 16          | object\n",
      "five_genre                 | 7           | object\n",
      "six_genre                  | 4           | object\n",
      "seven_genre                | 2           | object\n",
      "eight_genre                | 1           | object\n",
      "__________________________________________________\n"
     ]
    }
   ],
   "source": [
    "find_missing_values(val_data)\n",
    "info(val_data)"
   ]
  },
  {
   "cell_type": "code",
   "execution_count": null,
   "metadata": {
    "colab": {
     "base_uri": "https://localhost:8080/"
    },
    "executionInfo": {
     "elapsed": 65324,
     "status": "ok",
     "timestamp": 1615709545836,
     "user": {
      "displayName": "ajay jogiya",
      "photoUrl": "https://lh3.googleusercontent.com/a-/AOh14GgRAXM6e1-9rIRgaPP756Iug7UkbP0azqriVDFLww=s64",
      "userId": "14152685769056492470"
     },
     "user_tz": -330
    },
    "id": "qLLZi4ZsOLP_",
    "outputId": "31fa42ea-f14f-44b0-ee2a-20900d66428c"
   },
   "outputs": [
    {
     "name": "stdout",
     "output_type": "stream",
     "text": [
      "==============================\n",
      "Shape of file : (2556790, 32)\n",
      "==============================\n",
      "columns_name         missing_values in %\n",
      "------------------------------\n",
      "id                         : 0.0\n",
      "msno                       : 0.0\n",
      "song_id                    : 0.0\n",
      "source_system_tab          : 0.33017963931335775\n",
      "source_screen_name         : 6.3706053293387415\n",
      "source_type                : 0.28539692348608997\n",
      "city                       : 0.0\n",
      "bd                         : 0.0\n",
      "gender                     : 41.15410338745067\n",
      "registered_via             : 0.0\n",
      "regi_day                   : 0.0\n",
      "regi_month                 : 0.0\n",
      "regi_year                  : 0.0\n",
      "expire_day                 : 0.0\n",
      "expire_month               : 0.0\n",
      "expire_year                : 0.0\n",
      "imputed_bd                 : 0.0\n",
      "song_length                : 0.0009777885551805192\n",
      "artist_name                : 0.0009777885551805192\n",
      "composer                   : 24.221934535100655\n",
      "lyricist                   : 47.901626649040395\n",
      "language                   : 0.0016426847727032724\n",
      "name                       : 0.03140656839239828\n",
      "isrc                       : 7.691871448183074\n",
      "one_genre                  : 0.0\n",
      "two_genre                  : 0.0\n",
      "three_genre                : 0.0\n",
      "four_genre                 : 0.0\n",
      "five_genre                 : 0.0\n",
      "six_genre                  : 0.0\n",
      "seven_genre                : 0.0\n",
      "eight_genre                : 0.0\n",
      "==============================\n",
      "columns_name            unique_values         Type\n",
      "--------------------------------------------------\n",
      "id                         | 2556790     | int64\n",
      "msno                       | 25131       | object\n",
      "song_id                    | 224753      | object\n",
      "source_system_tab          | 9           | object\n",
      "source_screen_name         | 23          | object\n",
      "source_type                | 13          | object\n",
      "city                       | 21          | int64\n",
      "bd                         | 89          | int64\n",
      "gender                     | 3           | object\n",
      "registered_via             | 6           | int64\n",
      "regi_day                   | 14          | int64\n",
      "regi_month                 | 12          | int64\n",
      "regi_year                  | 31          | int64\n",
      "expire_day                 | 16          | int64\n",
      "expire_month               | 12          | int64\n",
      "expire_year                | 31          | int64\n",
      "imputed_bd                 | 238         | float64\n",
      "song_length                | 45682       | float64\n",
      "artist_name                | 27564       | object\n",
      "composer                   | 52307       | object\n",
      "lyricist                   | 24911       | object\n",
      "language                   | 52          | float64\n",
      "name                       | 154708      | object\n",
      "isrc                       | 170980      | object\n",
      "one_genre                  | 155         | object\n",
      "two_genre                  | 75          | object\n",
      "three_genre                | 30          | object\n",
      "four_genre                 | 17          | object\n",
      "five_genre                 | 8           | object\n",
      "six_genre                  | 6           | object\n",
      "seven_genre                | 4           | object\n",
      "eight_genre                | 2           | object\n",
      "__________________________________________________\n"
     ]
    }
   ],
   "source": [
    "find_missing_values(test_data)\n",
    "info(test_data)"
   ]
  },
  {
   "cell_type": "code",
   "execution_count": null,
   "metadata": {
    "colab": {
     "base_uri": "https://localhost:8080/"
    },
    "executionInfo": {
     "elapsed": 3758,
     "status": "ok",
     "timestamp": 1615709552116,
     "user": {
      "displayName": "ajay jogiya",
      "photoUrl": "https://lh3.googleusercontent.com/a-/AOh14GgRAXM6e1-9rIRgaPP756Iug7UkbP0azqriVDFLww=s64",
      "userId": "14152685769056492470"
     },
     "user_tz": -330
    },
    "id": "hZdrT_PxZ1Na",
    "outputId": "68160205-5f9e-4e33-cbc3-9aeb17f087bf"
   },
   "outputs": [
    {
     "name": "stdout",
     "output_type": "stream",
     "text": [
      "Mode of source_system_tab : my library\n",
      "Mode of source_type       : local-library\n",
      "Mode of name              : 演員\n",
      "Mode of artist_name       : Various Artists\n",
      "Mode of language          : 3.0\n"
     ]
    }
   ],
   "source": [
    "# replace missing value with mode\n",
    "mode_system_tab  = str(train_data[ 'source_system_tab'].mode()[0])\n",
    "mode_source_type = str(train_data['source_type'].mode()[0])\n",
    "mode_name        = str(train_data['name'].mode()[0])\n",
    "mode_artist_name = str(train_data['artist_name'].mode()[0])\n",
    "mode_language    = str(train_data['language'].mode()[0])\n",
    "\n",
    "print( 'Mode of source_system_tab :',mode_system_tab)\n",
    "print( 'Mode of source_type       :',mode_source_type)\n",
    "print( 'Mode of name              :',mode_name)\n",
    "print( 'Mode of artist_name       :',mode_artist_name)\n",
    "print( 'Mode of language          :',mode_language)"
   ]
  },
  {
   "cell_type": "markdown",
   "metadata": {
    "id": "nmdPV89DYY6s"
   },
   "source": [
    "# **Deal With Missing Values**"
   ]
  },
  {
   "cell_type": "markdown",
   "metadata": {
    "id": "rz-sHNg8XmWZ"
   },
   "source": [
    "* If Missing value rate is < 1% than we will fill with mode of that feature.\n",
    "* For Categorical feature we will define nan values as 'not_define' categories.\n",
    "* For Numeric categorical feature we will fill with 0.\n",
    "* For Numeric (continuous variable) values we will fill with median."
   ]
  },
  {
   "cell_type": "code",
   "execution_count": null,
   "metadata": {
    "id": "4C5MaZHxY7TR"
   },
   "outputs": [],
   "source": [
    "\n",
    "# replace missing values with new category EX- for categorical data fill not_define and for numerical data fill zeros.\n",
    "train_data['composer'] = train_data['composer'].fillna('no_name')\n",
    "val_data['composer'] = val_data['composer'].fillna('no_name')\n",
    "test_data['composer'] = test_data['composer'].fillna('no_name')\n",
    "\n",
    "train_data['lyricist'] = train_data['lyricist'].fillna('no_name')\n",
    "val_data['lyricist'] = val_data['lyricist'].fillna('no_name')\n",
    "test_data['lyricist'] = test_data['lyricist'].fillna('no_name')\n",
    "\n",
    "train_data['source_screen_name'] = train_data['source_screen_name'].fillna('not_define')\n",
    "val_data['source_screen_name'] = val_data['source_screen_name'].fillna('not_define')\n",
    "test_data['source_screen_name'] = test_data['source_screen_name'].fillna('not_define')\n",
    "\n",
    "train_data['gender'] = train_data['gender'].fillna('not_define')\n",
    "val_data['gender'] = val_data['gender'].fillna('not_define')\n",
    "test_data['gender'] = test_data['gender'].fillna('not_define')\n",
    "\n",
    "# for numeric feature\n",
    "train_data['isrc'] = train_data['isrc'].fillna('0')\n",
    "val_data['isrc'] = val_data['isrc'].fillna('0')\n",
    "test_data['isrc'] = test_data['isrc'].fillna('0')\n",
    "\n",
    "# replace missing values with mode \n",
    "train_data['source_system_tab'] = train_data['source_system_tab'].fillna(mode_system_tab)\n",
    "val_data['source_system_tab'] = val_data['source_system_tab'].fillna(mode_system_tab)\n",
    "test_data['source_system_tab'] = test_data['source_system_tab'].fillna(mode_system_tab)\n",
    "\n",
    "train_data['source_type'] = train_data['source_type'].fillna(mode_source_type)\n",
    "val_data['source_type'] = val_data['source_type'].fillna(mode_source_type)\n",
    "test_data['source_type'] = test_data['source_type'].fillna(mode_source_type)\n",
    "\n",
    "train_data['name'] = train_data['name'].fillna(mode_name)\n",
    "val_data['name'] = val_data['name'].fillna(mode_name)\n",
    "test_data['name'] = test_data['name'].fillna(mode_name)\n",
    "\n",
    "train_data['song_length'] = train_data['song_length'].fillna(train_data['song_length'].median())\n",
    "val_data['song_length'] = val_data['song_length'].fillna(train_data['song_length'].median())\n",
    "test_data['song_length'] = test_data['song_length'].fillna(train_data['song_length'].median())\n",
    "\n",
    "train_data['artist_name'] = train_data['artist_name'].fillna(mode_artist_name)\n",
    "val_data['artist_name'] = val_data['artist_name'].fillna(mode_artist_name)\n",
    "test_data['artist_name'] = test_data['artist_name'].fillna(mode_artist_name)\n",
    "\n",
    "train_data['language'] = train_data['language'].fillna(mode_language)\n",
    "val_data['language'] = val_data['language'].fillna(mode_language)\n",
    "test_data['language'] = test_data['language'].fillna(mode_language)"
   ]
  },
  {
   "cell_type": "code",
   "execution_count": null,
   "metadata": {
    "colab": {
     "base_uri": "https://localhost:8080/"
    },
    "executionInfo": {
     "elapsed": 12143,
     "status": "ok",
     "timestamp": 1615709566834,
     "user": {
      "displayName": "ajay jogiya",
      "photoUrl": "https://lh3.googleusercontent.com/a-/AOh14GgRAXM6e1-9rIRgaPP756Iug7UkbP0azqriVDFLww=s64",
      "userId": "14152685769056492470"
     },
     "user_tz": -330
    },
    "id": "OWCq9SmD04eI",
    "outputId": "0a7659f6-54a5-41aa-fb06-28148aeede51"
   },
   "outputs": [
    {
     "data": {
      "text/plain": [
       "msno                  False\n",
       "song_id               False\n",
       "source_system_tab     False\n",
       "source_screen_name    False\n",
       "source_type           False\n",
       "target                False\n",
       "city                  False\n",
       "bd                    False\n",
       "gender                False\n",
       "registered_via        False\n",
       "regi_day              False\n",
       "regi_month            False\n",
       "regi_year             False\n",
       "expire_day            False\n",
       "expire_month          False\n",
       "expire_year           False\n",
       "imputed_bd            False\n",
       "song_length           False\n",
       "artist_name           False\n",
       "composer              False\n",
       "lyricist              False\n",
       "language              False\n",
       "name                  False\n",
       "isrc                  False\n",
       "one_genre             False\n",
       "two_genre             False\n",
       "three_genre           False\n",
       "four_genre            False\n",
       "five_genre            False\n",
       "six_genre             False\n",
       "seven_genre           False\n",
       "eight_genre           False\n",
       "dtype: bool"
      ]
     },
     "execution_count": 70,
     "metadata": {
      "tags": []
     },
     "output_type": "execute_result"
    }
   ],
   "source": [
    "train_data.isnull().any()"
   ]
  },
  {
   "cell_type": "code",
   "execution_count": null,
   "metadata": {
    "colab": {
     "base_uri": "https://localhost:8080/"
    },
    "executionInfo": {
     "elapsed": 12435,
     "status": "ok",
     "timestamp": 1615709567657,
     "user": {
      "displayName": "ajay jogiya",
      "photoUrl": "https://lh3.googleusercontent.com/a-/AOh14GgRAXM6e1-9rIRgaPP756Iug7UkbP0azqriVDFLww=s64",
      "userId": "14152685769056492470"
     },
     "user_tz": -330
    },
    "id": "LvPUAm_j0-pK",
    "outputId": "bdeb9553-db30-4f97-a0b5-1298656226a0"
   },
   "outputs": [
    {
     "data": {
      "text/plain": [
       "msno                  False\n",
       "song_id               False\n",
       "source_system_tab     False\n",
       "source_screen_name    False\n",
       "source_type           False\n",
       "target                False\n",
       "city                  False\n",
       "bd                    False\n",
       "gender                False\n",
       "registered_via        False\n",
       "regi_day              False\n",
       "regi_month            False\n",
       "regi_year             False\n",
       "expire_day            False\n",
       "expire_month          False\n",
       "expire_year           False\n",
       "imputed_bd            False\n",
       "song_length           False\n",
       "artist_name           False\n",
       "composer              False\n",
       "lyricist              False\n",
       "language              False\n",
       "name                  False\n",
       "isrc                  False\n",
       "one_genre             False\n",
       "two_genre             False\n",
       "three_genre           False\n",
       "four_genre            False\n",
       "five_genre            False\n",
       "six_genre             False\n",
       "seven_genre           False\n",
       "eight_genre           False\n",
       "dtype: bool"
      ]
     },
     "execution_count": 71,
     "metadata": {
      "tags": []
     },
     "output_type": "execute_result"
    }
   ],
   "source": [
    "val_data.isnull().any()"
   ]
  },
  {
   "cell_type": "code",
   "execution_count": null,
   "metadata": {
    "colab": {
     "base_uri": "https://localhost:8080/"
    },
    "executionInfo": {
     "elapsed": 14087,
     "status": "ok",
     "timestamp": 1615709569965,
     "user": {
      "displayName": "ajay jogiya",
      "photoUrl": "https://lh3.googleusercontent.com/a-/AOh14GgRAXM6e1-9rIRgaPP756Iug7UkbP0azqriVDFLww=s64",
      "userId": "14152685769056492470"
     },
     "user_tz": -330
    },
    "id": "N1pkqpcX1Dnp",
    "outputId": "431c6d36-a590-4150-9603-5dfcb29799e0"
   },
   "outputs": [
    {
     "data": {
      "text/plain": [
       "id                    False\n",
       "msno                  False\n",
       "song_id               False\n",
       "source_system_tab     False\n",
       "source_screen_name    False\n",
       "source_type           False\n",
       "city                  False\n",
       "bd                    False\n",
       "gender                False\n",
       "registered_via        False\n",
       "regi_day              False\n",
       "regi_month            False\n",
       "regi_year             False\n",
       "expire_day            False\n",
       "expire_month          False\n",
       "expire_year           False\n",
       "imputed_bd            False\n",
       "song_length           False\n",
       "artist_name           False\n",
       "composer              False\n",
       "lyricist              False\n",
       "language              False\n",
       "name                  False\n",
       "isrc                  False\n",
       "one_genre             False\n",
       "two_genre             False\n",
       "three_genre           False\n",
       "four_genre            False\n",
       "five_genre            False\n",
       "six_genre             False\n",
       "seven_genre           False\n",
       "eight_genre           False\n",
       "dtype: bool"
      ]
     },
     "execution_count": 72,
     "metadata": {
      "tags": []
     },
     "output_type": "execute_result"
    }
   ],
   "source": [
    "test_data.isnull().any()"
   ]
  },
  {
   "cell_type": "markdown",
   "metadata": {
    "id": "CN1LpoWZYyXr"
   },
   "source": [
    "# **Feature Extraction**"
   ]
  },
  {
   "cell_type": "code",
   "execution_count": null,
   "metadata": {
    "colab": {
     "base_uri": "https://localhost:8080/"
    },
    "executionInfo": {
     "elapsed": 1454,
     "status": "ok",
     "timestamp": 1615709778761,
     "user": {
      "displayName": "ajay jogiya",
      "photoUrl": "https://lh3.googleusercontent.com/a-/AOh14GgRAXM6e1-9rIRgaPP756Iug7UkbP0azqriVDFLww=s64",
      "userId": "14152685769056492470"
     },
     "user_tz": -330
    },
    "id": "bOnguK10zpPn",
    "outputId": "31a1aa67-92c6-4a03-89de-5fab46bf230f"
   },
   "outputs": [
    {
     "name": "stdout",
     "output_type": "stream",
     "text": [
      "Train Shape : (5901934, 32)\n",
      "Vali  Shape : (1475484, 32)\n",
      "Test  shape : (2556790, 32)\n"
     ]
    }
   ],
   "source": [
    "print('Train Shape :',train_data.shape)\n",
    "print('Vali  Shape :',val_data.shape)\n",
    "print('Test  shape :',test_data.shape)"
   ]
  },
  {
   "cell_type": "code",
   "execution_count": null,
   "metadata": {
    "colab": {
     "base_uri": "https://localhost:8080/"
    },
    "executionInfo": {
     "elapsed": 7965,
     "status": "ok",
     "timestamp": 1615709787884,
     "user": {
      "displayName": "ajay jogiya",
      "photoUrl": "https://lh3.googleusercontent.com/a-/AOh14GgRAXM6e1-9rIRgaPP756Iug7UkbP0azqriVDFLww=s64",
      "userId": "14152685769056492470"
     },
     "user_tz": -330
    },
    "id": "s6TCYh-LFnBx",
    "outputId": "4de6d315-d8fb-463d-a307-5bf25d5bbfd7"
   },
   "outputs": [
    {
     "name": "stdout",
     "output_type": "stream",
     "text": [
      "Train Shape : (5901934, 33)\n",
      "Vali  Shape : (1475484, 33)\n",
      "Test  shape : (2556790, 33)\n"
     ]
    }
   ],
   "source": [
    "''' make new feature : if song len < mean : 1, else: 0 '''\n",
    "mean = train_data['song_length'].mean()\n",
    "def song_len(sample_data):\n",
    "    \n",
    "    #print(mean)\n",
    "    binary_feature = []\n",
    "    #sample_data.head()\n",
    "\n",
    "    song_len = sample_data['song_length'].values\n",
    "\n",
    "    for i in song_len:\n",
    "        if i < mean:\n",
    "            binary_feature.append(1)\n",
    "        else:\n",
    "            binary_feature.append(0)\n",
    "    sample_data['binary_song_length'] = binary_feature\n",
    "    return sample_data\n",
    "\n",
    "train_data = song_len(train_data)\n",
    "val_data   = song_len(val_data)\n",
    "test_data  = song_len(test_data)\n",
    "\n",
    "print('Train Shape :',train_data.shape)\n",
    "print('Vali  Shape :',val_data.shape)\n",
    "print('Test  shape :',test_data.shape)"
   ]
  },
  {
   "cell_type": "code",
   "execution_count": null,
   "metadata": {
    "colab": {
     "base_uri": "https://localhost:8080/"
    },
    "executionInfo": {
     "elapsed": 5414,
     "status": "ok",
     "timestamp": 1615709796591,
     "user": {
      "displayName": "ajay jogiya",
      "photoUrl": "https://lh3.googleusercontent.com/a-/AOh14GgRAXM6e1-9rIRgaPP756Iug7UkbP0azqriVDFLww=s64",
      "userId": "14152685769056492470"
     },
     "user_tz": -330
    },
    "id": "JH1tIIbuFnBy",
    "outputId": "a6a39ffa-aedb-4469-c6e9-ad6563b5cdff"
   },
   "outputs": [
    {
     "name": "stdout",
     "output_type": "stream",
     "text": [
      "Train Shape : (5901934, 34)\n",
      "Vali  Shape : (1475484, 34)\n",
      "Test  shape : (2556790, 34)\n"
     ]
    }
   ],
   "source": [
    "# create new feature \n",
    "# if language = 3 or 52 than 1 else: 0\n",
    "# we know that most song language are 3 or 52.\n",
    "def like_language(sample_data):\n",
    "    language = sample_data['language'].values\n",
    "    like_language = []\n",
    "    for i in language:\n",
    "        if i == 3 or i == 52:\n",
    "            like_language.append(1)\n",
    "        else:\n",
    "            like_language.append(0)\n",
    "    sample_data['like_language'] = like_language\n",
    "    return sample_data\n",
    "    \n",
    "train_data = like_language(train_data)\n",
    "val_data   = like_language(val_data)\n",
    "test_dat   = like_language(test_data)\n",
    "\n",
    "print('Train Shape :',train_data.shape)\n",
    "print('Vali  Shape :',val_data.shape)\n",
    "print('Test  shape :',test_data.shape)"
   ]
  },
  {
   "cell_type": "code",
   "execution_count": null,
   "metadata": {
    "id": "FVIAGHBzcApk"
   },
   "outputs": [],
   "source": [
    "#count how many name\n",
    "def count_funtion(x,zero):\n",
    "\n",
    "    if x != zero:\n",
    "        split_lis = ['|',',','/','\\\\',';','、']\n",
    "        sum = 0\n",
    "        for i in split_lis:\n",
    "            sum += x.count(i)\n",
    "        return sum + 1\n",
    "    else:\n",
    "        return 0"
   ]
  },
  {
   "cell_type": "code",
   "execution_count": null,
   "metadata": {
    "colab": {
     "base_uri": "https://localhost:8080/"
    },
    "executionInfo": {
     "elapsed": 18101,
     "status": "ok",
     "timestamp": 1615709826362,
     "user": {
      "displayName": "ajay jogiya",
      "photoUrl": "https://lh3.googleusercontent.com/a-/AOh14GgRAXM6e1-9rIRgaPP756Iug7UkbP0azqriVDFLww=s64",
      "userId": "14152685769056492470"
     },
     "user_tz": -330
    },
    "id": "YSk_a1MUQU10",
    "outputId": "9be389c8-f06f-4374-b561-93d06d14a439"
   },
   "outputs": [
    {
     "name": "stdout",
     "output_type": "stream",
     "text": [
      "Train Shape : (5901934, 35)\n",
      "Vali  Shape : (1475484, 35)\n",
      "Test  shape : (2556790, 35)\n"
     ]
    }
   ],
   "source": [
    "# create new feature : count of composer artist\n",
    "train_composer_count = []\n",
    "for i in train_data['composer']:\n",
    "    s = count_funtion(i,'no_name')\n",
    "    train_composer_count.append(s)\n",
    "train_data['composer_count'] = train_composer_count\n",
    "\n",
    "val_composer_count = []\n",
    "for i in val_data['composer']:\n",
    "    s = count_funtion(i,'no_name')\n",
    "    val_composer_count.append(s)\n",
    "val_data['composer_count'] = val_composer_count\n",
    "\n",
    "test_composer_count = []\n",
    "for i in test_data['composer']:\n",
    "    s = count_funtion(i,'no_name')\n",
    "    test_composer_count.append(s)\n",
    "test_data['composer_count'] = test_composer_count\n",
    "\n",
    "print('Train Shape :',train_data.shape)\n",
    "print('Vali  Shape :',val_data.shape)\n",
    "print('Test  shape :',test_data.shape)"
   ]
  },
  {
   "cell_type": "code",
   "execution_count": null,
   "metadata": {
    "colab": {
     "base_uri": "https://localhost:8080/"
    },
    "executionInfo": {
     "elapsed": 14832,
     "status": "ok",
     "timestamp": 1615709881235,
     "user": {
      "displayName": "ajay jogiya",
      "photoUrl": "https://lh3.googleusercontent.com/a-/AOh14GgRAXM6e1-9rIRgaPP756Iug7UkbP0azqriVDFLww=s64",
      "userId": "14152685769056492470"
     },
     "user_tz": -330
    },
    "id": "Dbdr6MdrQUu0",
    "outputId": "91817449-5996-4d3d-f619-5a37b24370dc"
   },
   "outputs": [
    {
     "name": "stdout",
     "output_type": "stream",
     "text": [
      "Train Shape : (5901934, 36)\n",
      "Vali  Shape : (1475484, 36)\n",
      "Test  shape : (2556790, 36)\n"
     ]
    }
   ],
   "source": [
    "# create new feature : count of lyricist artist\n",
    "\n",
    "train_lyricist_count = []\n",
    "for i in train_data['lyricist']:\n",
    "    s = count_funtion(i,'no_name')\n",
    "    train_lyricist_count.append(s)\n",
    "train_data['lyricist_count'] = train_lyricist_count\n",
    "\n",
    "val_lyricist_count = []\n",
    "for i in val_data['lyricist']:\n",
    "    s = count_funtion(i,'no_name')\n",
    "    val_lyricist_count.append(s)\n",
    "val_data['lyricist_count'] = val_lyricist_count\n",
    "\n",
    "test_lyricist_count = []\n",
    "for i in test_data['lyricist']:\n",
    "    s = count_funtion(i,'no_name')\n",
    "    test_lyricist_count.append(s)\n",
    "test_data['lyricist_count'] = test_lyricist_count\n",
    "\n",
    "print('Train Shape :',train_data.shape)\n",
    "print('Vali  Shape :',val_data.shape)\n",
    "print('Test  shape :',test_data.shape)"
   ]
  },
  {
   "cell_type": "code",
   "execution_count": null,
   "metadata": {
    "id": "rZJt1k7fQUnx"
   },
   "outputs": [],
   "source": [
    "# funtion return how many genre_ids we have in each row \n",
    "genre = train_data['genre_ids'].values\n",
    "max_genre = []\n",
    "\n",
    "for i in genre:\n",
    "    i = str(i)\n",
    "    max_genre.append(len(i.split('|')))\n",
    "    \n",
    "for i in range(1,max(max_genre)+1):\n",
    "    c = str(max_genre.count(i))\n",
    "    print(c ,' '*(6-len(c))  , 'rows have' , i , 'genre_ids')"
   ]
  },
  {
   "cell_type": "code",
   "execution_count": null,
   "metadata": {
    "colab": {
     "base_uri": "https://localhost:8080/"
    },
    "executionInfo": {
     "elapsed": 24111,
     "status": "ok",
     "timestamp": 1615709940383,
     "user": {
      "displayName": "ajay jogiya",
      "photoUrl": "https://lh3.googleusercontent.com/a-/AOh14GgRAXM6e1-9rIRgaPP756Iug7UkbP0azqriVDFLww=s64",
      "userId": "14152685769056492470"
     },
     "user_tz": -330
    },
    "id": "COoIMIJ9Uovg",
    "outputId": "13757046-b9e5-43a9-956d-a42c69380953"
   },
   "outputs": [
    {
     "name": "stdout",
     "output_type": "stream",
     "text": [
      "Train Shape : (5901934, 37)\n",
      "Vali  Shape : (1475484, 37)\n",
      "Test  shape : (2556790, 37)\n"
     ]
    }
   ],
   "source": [
    "# get first name of composer\n",
    "def get_composer_name(sample_data):\n",
    "    composer = sample_data['composer'].values\n",
    "    composer_first_name = []\n",
    "    for i in (composer):\n",
    "        \n",
    "        special = 0\n",
    "        split_lis = ['|',',','\\_','/','\\\\',';','、']\n",
    "        \n",
    "        #if any value of split_lis present in i than go in.\n",
    "        if any((c in split_lis) for c in i):\n",
    "            #check spliting character\n",
    "            for j in split_lis:\n",
    "                if j in i:\n",
    "                    special = j\n",
    "                    composer_first_name.append(i.split(special)[0])\n",
    "                    #print(i.split(special)[0])\n",
    "                    break\n",
    "        else:\n",
    "            composer_first_name.append(i)\n",
    "            #print(i)\n",
    "\n",
    "    sample_data['composer_first_name'] = composer_first_name\n",
    "    return sample_data\n",
    "\n",
    "train_data = get_composer_name(train_data)\n",
    "val_data   = get_composer_name(val_data)\n",
    "test_data  = get_composer_name(test_data)  \n",
    "\n",
    "print('Train Shape :',train_data.shape)\n",
    "print('Vali  Shape :',val_data.shape)\n",
    "print('Test  shape :',test_data.shape)"
   ]
  },
  {
   "cell_type": "code",
   "execution_count": null,
   "metadata": {
    "colab": {
     "base_uri": "https://localhost:8080/"
    },
    "executionInfo": {
     "elapsed": 31799,
     "status": "ok",
     "timestamp": 1615709974047,
     "user": {
      "displayName": "ajay jogiya",
      "photoUrl": "https://lh3.googleusercontent.com/a-/AOh14GgRAXM6e1-9rIRgaPP756Iug7UkbP0azqriVDFLww=s64",
      "userId": "14152685769056492470"
     },
     "user_tz": -330
    },
    "id": "89ZoiaaXnaNp",
    "outputId": "5bf01ef4-c055-421f-8936-a85b6d2c20ba"
   },
   "outputs": [
    {
     "name": "stdout",
     "output_type": "stream",
     "text": [
      "Train Shape : (5901934, 38)\n",
      "Vali  Shape : (1475484, 38)\n",
      "Test  shape : (2556790, 38)\n"
     ]
    }
   ],
   "source": [
    "# get first name of artist_name\n",
    "def get_artist_name(sample_data):\n",
    "    artist_name = sample_data['artist_name'].values\n",
    "    artist_name_first_name = []\n",
    "    for i in (artist_name):\n",
    "        i = str(i)\n",
    "        special = 0\n",
    "        split_lis = ['|',',','\\_','/','\\\\',';','、']\n",
    "        \n",
    "        #if any value of split_lis present in i than go in.\n",
    "        if any((c in split_lis) for c in i):\n",
    "            #check spliting character\n",
    "            for j in split_lis:\n",
    "                if j in i:\n",
    "                    special = j\n",
    "                    artist_name_first_name.append(i.split(special)[0])\n",
    "                    #print(i.split(special)[0])\n",
    "                    break\n",
    "        else:\n",
    "            artist_name_first_name.append(i)\n",
    "            #print(i)\n",
    "\n",
    "    sample_data['first_artist_name'] = artist_name_first_name\n",
    "    return sample_data\n",
    "\n",
    "train_data = get_artist_name(train_data)\n",
    "val_data   = get_artist_name(val_data)\n",
    "test_data  = get_artist_name(test_data)  \n",
    "\n",
    "print('Train Shape :',train_data.shape)\n",
    "print('Vali  Shape :',val_data.shape)\n",
    "print('Test  shape :',test_data.shape)"
   ]
  },
  {
   "cell_type": "code",
   "execution_count": null,
   "metadata": {
    "colab": {
     "base_uri": "https://localhost:8080/"
    },
    "executionInfo": {
     "elapsed": 17421,
     "status": "ok",
     "timestamp": 1615710013335,
     "user": {
      "displayName": "ajay jogiya",
      "photoUrl": "https://lh3.googleusercontent.com/a-/AOh14GgRAXM6e1-9rIRgaPP756Iug7UkbP0azqriVDFLww=s64",
      "userId": "14152685769056492470"
     },
     "user_tz": -330
    },
    "id": "SSYb9ZKtQ0ia",
    "outputId": "4bfda3c1-56f8-4f8b-f7d7-1a03d900a338"
   },
   "outputs": [
    {
     "name": "stdout",
     "output_type": "stream",
     "text": [
      "Train Shape : (5901934, 42)\n",
      "Vali  Shape : (1475484, 42)\n",
      "Test  shape : (2556790, 42)\n"
     ]
    }
   ],
   "source": [
    "# funtion for extract values from isrc feature\n",
    "def extract_code(c):\n",
    "    if c == '0':\n",
    "        return 0,0,0,0\n",
    "    else:\n",
    "        return c[:2],c[2:5],c[5:7],c[7:]\n",
    "\n",
    "\n",
    "# https://dittomusic.com/en/blog/what-is-an-isrc-code/\n",
    "# extract values from isrc feature\n",
    "# create 4 features\n",
    "def get_isrc(sample_data):\n",
    "    country_code , regi_code , year , designation_code = [],[],[],[]\n",
    "\n",
    "    for i in sample_data['isrc'].values:\n",
    "        a,b,c,d = extract_code(i)\n",
    "        country_code.append(a)\n",
    "        regi_code.append(b)\n",
    "        year.append(c)\n",
    "        designation_code.append(d)\n",
    "\n",
    "    sample_data['country_code '] = country_code \n",
    "    sample_data['regi_code'] = regi_code\n",
    "    sample_data['year'] = year\n",
    "    sample_data['designation_code'] = designation_code\n",
    "    return sample_data\n",
    "\n",
    "train_data = get_isrc(train_data)\n",
    "val_data   = get_isrc(val_data)\n",
    "test_data  = get_isrc(test_data)\n",
    "\n",
    "print('Train Shape :',train_data.shape)\n",
    "print('Vali  Shape :',val_data.shape)\n",
    "print('Test  shape :',test_data.shape)"
   ]
  },
  {
   "cell_type": "markdown",
   "metadata": {
    "id": "8kK0pDYLV8OR"
   },
   "source": [
    "[Reference for below feature](https://www.researchgate.net/publication/328838360_KKbox%27s_Music_Recommendation_Challenge_Solution_with_Feature_engineering_11th_ACM_International_Conference_on_Web_Search_and_Data_Mining_WSDM_2018_February_5-9_2018_Los_Angeles_California_USA_WSDM_Cup\n",
    ")\n",
    "\n",
    "* Reseach paper : KKbox’s Music Recommendation Challenge Solution with Feature engineering "
   ]
  },
  {
   "cell_type": "code",
   "execution_count": null,
   "metadata": {
    "colab": {
     "base_uri": "https://localhost:8080/"
    },
    "executionInfo": {
     "elapsed": 2118,
     "status": "ok",
     "timestamp": 1615710028231,
     "user": {
      "displayName": "ajay jogiya",
      "photoUrl": "https://lh3.googleusercontent.com/a-/AOh14GgRAXM6e1-9rIRgaPP756Iug7UkbP0azqriVDFLww=s64",
      "userId": "14152685769056492470"
     },
     "user_tz": -330
    },
    "id": "GH5umLhU4RBj",
    "outputId": "f190c018-977c-49f8-e469-5958c698c7ff"
   },
   "outputs": [
    {
     "name": "stdout",
     "output_type": "stream",
     "text": [
      "Train Shape : (5901934, 43)\n",
      "Vali  Shape : (1475484, 43)\n",
      "Test  shape : (2556790, 43)\n"
     ]
    }
   ],
   "source": [
    "# create new feature \n",
    "# we know that young people prefer new songs and older are more like to listen older songs.\n",
    "# new_feature that represent gap between user age and song release year\n",
    "\n",
    "train_data['age_gap_between_song'] = train_data['bd'].astype(float) - train_data['year'].astype(float)\n",
    " \n",
    "val_data['age_gap_between_song'] = val_data['bd'].astype(float) - val_data['year'].astype(float)\n",
    " \n",
    "test_data['age_gap_between_song'] = test_data['bd'].astype(float) - test_data['year'].astype(float)\n",
    "\n",
    "print('Train Shape :',train_data.shape)\n",
    "print('Vali  Shape :',val_data.shape)\n",
    "print('Test  shape :',test_data.shape)"
   ]
  },
  {
   "cell_type": "code",
   "execution_count": null,
   "metadata": {
    "colab": {
     "base_uri": "https://localhost:8080/",
     "height": 338
    },
    "executionInfo": {
     "elapsed": 1400,
     "status": "ok",
     "timestamp": 1615710035060,
     "user": {
      "displayName": "ajay jogiya",
      "photoUrl": "https://lh3.googleusercontent.com/a-/AOh14GgRAXM6e1-9rIRgaPP756Iug7UkbP0azqriVDFLww=s64",
      "userId": "14152685769056492470"
     },
     "user_tz": -330
    },
    "id": "LNvbOoeJNPEn",
    "outputId": "8a1724a1-a566-47d1-c270-4dcdd14defcf"
   },
   "outputs": [
    {
     "name": "stdout",
     "output_type": "stream",
     "text": [
      "(5901934, 43)\n"
     ]
    },
    {
     "data": {
      "text/html": [
       "<div>\n",
       "<style scoped>\n",
       "    .dataframe tbody tr th:only-of-type {\n",
       "        vertical-align: middle;\n",
       "    }\n",
       "\n",
       "    .dataframe tbody tr th {\n",
       "        vertical-align: top;\n",
       "    }\n",
       "\n",
       "    .dataframe thead th {\n",
       "        text-align: right;\n",
       "    }\n",
       "</style>\n",
       "<table border=\"1\" class=\"dataframe\">\n",
       "  <thead>\n",
       "    <tr style=\"text-align: right;\">\n",
       "      <th></th>\n",
       "      <th>msno</th>\n",
       "      <th>song_id</th>\n",
       "      <th>source_system_tab</th>\n",
       "      <th>source_screen_name</th>\n",
       "      <th>source_type</th>\n",
       "      <th>target</th>\n",
       "      <th>city</th>\n",
       "      <th>bd</th>\n",
       "      <th>gender</th>\n",
       "      <th>registered_via</th>\n",
       "      <th>regi_day</th>\n",
       "      <th>regi_month</th>\n",
       "      <th>regi_year</th>\n",
       "      <th>expire_day</th>\n",
       "      <th>expire_month</th>\n",
       "      <th>expire_year</th>\n",
       "      <th>imputed_bd</th>\n",
       "      <th>song_length</th>\n",
       "      <th>artist_name</th>\n",
       "      <th>composer</th>\n",
       "      <th>lyricist</th>\n",
       "      <th>language</th>\n",
       "      <th>name</th>\n",
       "      <th>isrc</th>\n",
       "      <th>one_genre</th>\n",
       "      <th>two_genre</th>\n",
       "      <th>three_genre</th>\n",
       "      <th>four_genre</th>\n",
       "      <th>five_genre</th>\n",
       "      <th>six_genre</th>\n",
       "      <th>seven_genre</th>\n",
       "      <th>eight_genre</th>\n",
       "      <th>binary_song_length</th>\n",
       "      <th>like_language</th>\n",
       "      <th>composer_count</th>\n",
       "      <th>lyricist_count</th>\n",
       "      <th>composer_first_name</th>\n",
       "      <th>first_artist_name</th>\n",
       "      <th>country_code</th>\n",
       "      <th>regi_code</th>\n",
       "      <th>year</th>\n",
       "      <th>designation_code</th>\n",
       "      <th>age_gap_between_song</th>\n",
       "    </tr>\n",
       "  </thead>\n",
       "  <tbody>\n",
       "    <tr>\n",
       "      <th>0</th>\n",
       "      <td>FGtllVqz18RPiwJj/edr2gV78zirAiY/9SmYvia+kCg=</td>\n",
       "      <td>BBzumQNXUHKdEBOB7mAJuzok+IJA1c2Ryg/yzTF6tik=</td>\n",
       "      <td>explore</td>\n",
       "      <td>Explore</td>\n",
       "      <td>online-playlist</td>\n",
       "      <td>1</td>\n",
       "      <td>1</td>\n",
       "      <td>0</td>\n",
       "      <td>not_define</td>\n",
       "      <td>7</td>\n",
       "      <td>2012</td>\n",
       "      <td>1</td>\n",
       "      <td>2</td>\n",
       "      <td>2017</td>\n",
       "      <td>10</td>\n",
       "      <td>5</td>\n",
       "      <td>28.3</td>\n",
       "      <td>206471.0</td>\n",
       "      <td>Bastille</td>\n",
       "      <td>Dan Smith| Mark Crew</td>\n",
       "      <td>no_name</td>\n",
       "      <td>52</td>\n",
       "      <td>Good Grief</td>\n",
       "      <td>GBUM71602854</td>\n",
       "      <td>359</td>\n",
       "      <td>0</td>\n",
       "      <td>0</td>\n",
       "      <td>0</td>\n",
       "      <td>0</td>\n",
       "      <td>0</td>\n",
       "      <td>0</td>\n",
       "      <td>0</td>\n",
       "      <td>1</td>\n",
       "      <td>1</td>\n",
       "      <td>2</td>\n",
       "      <td>0</td>\n",
       "      <td>Dan Smith</td>\n",
       "      <td>Bastille</td>\n",
       "      <td>GB</td>\n",
       "      <td>UM7</td>\n",
       "      <td>16</td>\n",
       "      <td>02854</td>\n",
       "      <td>-16.0</td>\n",
       "    </tr>\n",
       "    <tr>\n",
       "      <th>1</th>\n",
       "      <td>Xumu+NIjS6QYVxDS4/t3SawvJ7viT9hPKXmf0RtLNx8=</td>\n",
       "      <td>bhp/MpSNoqoxOIB+/l8WPqu6jldth4DIpCm3ayXnJqM=</td>\n",
       "      <td>my library</td>\n",
       "      <td>Local playlist more</td>\n",
       "      <td>local-playlist</td>\n",
       "      <td>1</td>\n",
       "      <td>13</td>\n",
       "      <td>24</td>\n",
       "      <td>female</td>\n",
       "      <td>9</td>\n",
       "      <td>2011</td>\n",
       "      <td>5</td>\n",
       "      <td>25</td>\n",
       "      <td>2017</td>\n",
       "      <td>9</td>\n",
       "      <td>11</td>\n",
       "      <td>24.0</td>\n",
       "      <td>284584.0</td>\n",
       "      <td>Various Artists</td>\n",
       "      <td>no_name</td>\n",
       "      <td>no_name</td>\n",
       "      <td>52</td>\n",
       "      <td>Lords of Cardboard</td>\n",
       "      <td>US3C69910183</td>\n",
       "      <td>1259</td>\n",
       "      <td>0</td>\n",
       "      <td>0</td>\n",
       "      <td>0</td>\n",
       "      <td>0</td>\n",
       "      <td>0</td>\n",
       "      <td>0</td>\n",
       "      <td>0</td>\n",
       "      <td>0</td>\n",
       "      <td>1</td>\n",
       "      <td>0</td>\n",
       "      <td>0</td>\n",
       "      <td>no_name</td>\n",
       "      <td>Various Artists</td>\n",
       "      <td>US</td>\n",
       "      <td>3C6</td>\n",
       "      <td>99</td>\n",
       "      <td>10183</td>\n",
       "      <td>-75.0</td>\n",
       "    </tr>\n",
       "    <tr>\n",
       "      <th>2</th>\n",
       "      <td>Xumu+NIjS6QYVxDS4/t3SawvJ7viT9hPKXmf0RtLNx8=</td>\n",
       "      <td>JNWfrrC7zNN7BdMpsISKa4Mw+xVJYNnxXh3/Epw7QgY=</td>\n",
       "      <td>my library</td>\n",
       "      <td>Local playlist more</td>\n",
       "      <td>local-playlist</td>\n",
       "      <td>1</td>\n",
       "      <td>13</td>\n",
       "      <td>24</td>\n",
       "      <td>female</td>\n",
       "      <td>9</td>\n",
       "      <td>2011</td>\n",
       "      <td>5</td>\n",
       "      <td>25</td>\n",
       "      <td>2017</td>\n",
       "      <td>9</td>\n",
       "      <td>11</td>\n",
       "      <td>24.0</td>\n",
       "      <td>225396.0</td>\n",
       "      <td>Nas</td>\n",
       "      <td>N. Jones、W. Adams、J. Lordan、D. Ingle</td>\n",
       "      <td>no_name</td>\n",
       "      <td>52</td>\n",
       "      <td>Hip Hop Is Dead(Album Version (Edited))</td>\n",
       "      <td>USUM70618761</td>\n",
       "      <td>1259</td>\n",
       "      <td>0</td>\n",
       "      <td>0</td>\n",
       "      <td>0</td>\n",
       "      <td>0</td>\n",
       "      <td>0</td>\n",
       "      <td>0</td>\n",
       "      <td>0</td>\n",
       "      <td>1</td>\n",
       "      <td>1</td>\n",
       "      <td>4</td>\n",
       "      <td>0</td>\n",
       "      <td>N. Jones</td>\n",
       "      <td>Nas</td>\n",
       "      <td>US</td>\n",
       "      <td>UM7</td>\n",
       "      <td>06</td>\n",
       "      <td>18761</td>\n",
       "      <td>18.0</td>\n",
       "    </tr>\n",
       "  </tbody>\n",
       "</table>\n",
       "</div>"
      ],
      "text/plain": [
       "                                           msno  ... age_gap_between_song\n",
       "0  FGtllVqz18RPiwJj/edr2gV78zirAiY/9SmYvia+kCg=  ...                -16.0\n",
       "1  Xumu+NIjS6QYVxDS4/t3SawvJ7viT9hPKXmf0RtLNx8=  ...                -75.0\n",
       "2  Xumu+NIjS6QYVxDS4/t3SawvJ7viT9hPKXmf0RtLNx8=  ...                 18.0\n",
       "\n",
       "[3 rows x 43 columns]"
      ]
     },
     "execution_count": 87,
     "metadata": {
      "tags": []
     },
     "output_type": "execute_result"
    }
   ],
   "source": [
    "print(train_data.shape)\n",
    "train_data.head(3)"
   ]
  },
  {
   "cell_type": "code",
   "execution_count": null,
   "metadata": {
    "id": "6uOy2SdmjBAX"
   },
   "outputs": [],
   "source": [
    "# https://github.com/lystdo/Codes-for-WSDM-CUP-Music-Rec-1st-place-solution\n",
    "\n",
    "def calculate_groupby_features(data):\n",
    "    '''Function to calculate group by features on dataframe '''\n",
    "    \n",
    "    # song count for each user\n",
    "    member_song_count = data.groupby('msno').count()['song_id'].to_dict()\n",
    "    data['member_song_count'] = data['msno'].apply(lambda x: member_song_count[x])\n",
    "\n",
    "    # song count for each artist\n",
    "    artist_song_count = data.groupby('first_artist_name').count()['song_id'].to_dict()\n",
    "    data['artist_song_count'] = data['first_artist_name'].apply(lambda x: artist_song_count[x])\n",
    "\n",
    "    # song count for each lanugage\n",
    "    lang_song_count = data.groupby('language').count()['song_id'].to_dict()\n",
    "    data['lang_song_count'] = data['language'].apply(lambda x: lang_song_count[x])\n",
    "\n",
    "    # user count for each song\n",
    "    song_member_count = data.groupby('song_id').count()['msno'].to_dict()\n",
    "    data['song_member_count'] = data['song_id'].apply(lambda x: song_member_count[x])\n",
    "\n",
    "    # We can add group by wrt 'age'\n",
    "    age_song_count = data.groupby('bd').count()['song_id'].to_dict()\n",
    "    data['age_song_count'] = data['bd'].apply(lambda x: age_song_count[x])\n",
    "\n",
    "    return data\n",
    "\n",
    "train_data = calculate_groupby_features(train_data)\n",
    "val_data = calculate_groupby_features(val_data)\n",
    "test_data = calculate_groupby_features(test_data)"
   ]
  },
  {
   "cell_type": "code",
   "execution_count": null,
   "metadata": {
    "colab": {
     "base_uri": "https://localhost:8080/"
    },
    "executionInfo": {
     "elapsed": 57620,
     "status": "ok",
     "timestamp": 1615710222102,
     "user": {
      "displayName": "ajay jogiya",
      "photoUrl": "https://lh3.googleusercontent.com/a-/AOh14GgRAXM6e1-9rIRgaPP756Iug7UkbP0azqriVDFLww=s64",
      "userId": "14152685769056492470"
     },
     "user_tz": -330
    },
    "id": "CbaAlwzdjA2V",
    "outputId": "302f9bd4-d5bc-466e-ee0a-0c7813c8b83c"
   },
   "outputs": [
    {
     "name": "stdout",
     "output_type": "stream",
     "text": [
      "..\n",
      "...\n"
     ]
    }
   ],
   "source": [
    "train_data = calculate_groupby_features(train_data)\n",
    "#print('.')\n",
    "val_data = calculate_groupby_features(val_data)\n",
    "print('..')\n",
    "test_data = calculate_groupby_features(test_data)\n",
    "print('...')"
   ]
  },
  {
   "cell_type": "code",
   "execution_count": null,
   "metadata": {
    "colab": {
     "base_uri": "https://localhost:8080/"
    },
    "executionInfo": {
     "elapsed": 1726,
     "status": "ok",
     "timestamp": 1615710229575,
     "user": {
      "displayName": "ajay jogiya",
      "photoUrl": "https://lh3.googleusercontent.com/a-/AOh14GgRAXM6e1-9rIRgaPP756Iug7UkbP0azqriVDFLww=s64",
      "userId": "14152685769056492470"
     },
     "user_tz": -330
    },
    "id": "nH3TLKyOjAnG",
    "outputId": "311351d1-41da-4863-abe0-2c23df029cac"
   },
   "outputs": [
    {
     "name": "stdout",
     "output_type": "stream",
     "text": [
      "Train Shape : (5901934, 48)\n",
      "Vali  Shape : (1475484, 48)\n",
      "Test  shape : (2556790, 48)\n"
     ]
    }
   ],
   "source": [
    "print('Train Shape :',train_data.shape)\n",
    "print('Vali  Shape :',val_data.shape)\n",
    "print('Test  shape :',test_data.shape)"
   ]
  },
  {
   "cell_type": "code",
   "execution_count": null,
   "metadata": {
    "colab": {
     "base_uri": "https://localhost:8080/"
    },
    "executionInfo": {
     "elapsed": 9263,
     "status": "ok",
     "timestamp": 1615710240406,
     "user": {
      "displayName": "ajay jogiya",
      "photoUrl": "https://lh3.googleusercontent.com/a-/AOh14GgRAXM6e1-9rIRgaPP756Iug7UkbP0azqriVDFLww=s64",
      "userId": "14152685769056492470"
     },
     "user_tz": -330
    },
    "id": "iTKMLFxKr7ET",
    "outputId": "ba8cede4-c2ed-430f-adad-617fb00caa5c"
   },
   "outputs": [
    {
     "data": {
      "text/plain": [
       "msno                    False\n",
       "song_id                 False\n",
       "source_system_tab       False\n",
       "source_screen_name      False\n",
       "source_type             False\n",
       "target                  False\n",
       "city                    False\n",
       "bd                      False\n",
       "gender                  False\n",
       "registered_via          False\n",
       "regi_day                False\n",
       "regi_month              False\n",
       "regi_year               False\n",
       "expire_day              False\n",
       "expire_month            False\n",
       "expire_year             False\n",
       "imputed_bd              False\n",
       "song_length             False\n",
       "artist_name             False\n",
       "composer                False\n",
       "lyricist                False\n",
       "language                False\n",
       "name                    False\n",
       "isrc                    False\n",
       "one_genre               False\n",
       "two_genre               False\n",
       "three_genre             False\n",
       "four_genre              False\n",
       "five_genre              False\n",
       "six_genre               False\n",
       "seven_genre             False\n",
       "eight_genre             False\n",
       "binary_song_length      False\n",
       "like_language           False\n",
       "composer_count          False\n",
       "lyricist_count          False\n",
       "composer_first_name     False\n",
       "first_artist_name       False\n",
       "country_code            False\n",
       "regi_code               False\n",
       "year                    False\n",
       "designation_code        False\n",
       "age_gap_between_song    False\n",
       "member_song_count       False\n",
       "artist_song_count       False\n",
       "lang_song_count         False\n",
       "song_member_count       False\n",
       "age_song_count          False\n",
       "dtype: bool"
      ]
     },
     "execution_count": 92,
     "metadata": {
      "tags": []
     },
     "output_type": "execute_result"
    }
   ],
   "source": [
    "train_data.isnull().any()"
   ]
  },
  {
   "cell_type": "code",
   "execution_count": null,
   "metadata": {
    "colab": {
     "base_uri": "https://localhost:8080/"
    },
    "executionInfo": {
     "elapsed": 2807,
     "status": "ok",
     "timestamp": 1615710244172,
     "user": {
      "displayName": "ajay jogiya",
      "photoUrl": "https://lh3.googleusercontent.com/a-/AOh14GgRAXM6e1-9rIRgaPP756Iug7UkbP0azqriVDFLww=s64",
      "userId": "14152685769056492470"
     },
     "user_tz": -330
    },
    "id": "fUlxz3xu0Rfx",
    "outputId": "b083d6ae-d4d3-4bf9-bf80-2be3478135ea"
   },
   "outputs": [
    {
     "data": {
      "text/plain": [
       "msno                    False\n",
       "song_id                 False\n",
       "source_system_tab       False\n",
       "source_screen_name      False\n",
       "source_type             False\n",
       "target                  False\n",
       "city                    False\n",
       "bd                      False\n",
       "gender                  False\n",
       "registered_via          False\n",
       "regi_day                False\n",
       "regi_month              False\n",
       "regi_year               False\n",
       "expire_day              False\n",
       "expire_month            False\n",
       "expire_year             False\n",
       "imputed_bd              False\n",
       "song_length             False\n",
       "artist_name             False\n",
       "composer                False\n",
       "lyricist                False\n",
       "language                False\n",
       "name                    False\n",
       "isrc                    False\n",
       "one_genre               False\n",
       "two_genre               False\n",
       "three_genre             False\n",
       "four_genre              False\n",
       "five_genre              False\n",
       "six_genre               False\n",
       "seven_genre             False\n",
       "eight_genre             False\n",
       "binary_song_length      False\n",
       "like_language           False\n",
       "composer_count          False\n",
       "lyricist_count          False\n",
       "composer_first_name     False\n",
       "first_artist_name       False\n",
       "country_code            False\n",
       "regi_code               False\n",
       "year                    False\n",
       "designation_code        False\n",
       "age_gap_between_song    False\n",
       "member_song_count       False\n",
       "artist_song_count       False\n",
       "lang_song_count         False\n",
       "song_member_count       False\n",
       "age_song_count          False\n",
       "dtype: bool"
      ]
     },
     "execution_count": 93,
     "metadata": {
      "tags": []
     },
     "output_type": "execute_result"
    }
   ],
   "source": [
    "val_data.isnull().any()"
   ]
  },
  {
   "cell_type": "code",
   "execution_count": null,
   "metadata": {
    "colab": {
     "base_uri": "https://localhost:8080/"
    },
    "executionInfo": {
     "elapsed": 4843,
     "status": "ok",
     "timestamp": 1615710249935,
     "user": {
      "displayName": "ajay jogiya",
      "photoUrl": "https://lh3.googleusercontent.com/a-/AOh14GgRAXM6e1-9rIRgaPP756Iug7UkbP0azqriVDFLww=s64",
      "userId": "14152685769056492470"
     },
     "user_tz": -330
    },
    "id": "hvm7Cujq0Rcj",
    "outputId": "93f493e5-481c-4604-9655-87a03a2ea2f4"
   },
   "outputs": [
    {
     "data": {
      "text/plain": [
       "id                      False\n",
       "msno                    False\n",
       "song_id                 False\n",
       "source_system_tab       False\n",
       "source_screen_name      False\n",
       "source_type             False\n",
       "city                    False\n",
       "bd                      False\n",
       "gender                  False\n",
       "registered_via          False\n",
       "regi_day                False\n",
       "regi_month              False\n",
       "regi_year               False\n",
       "expire_day              False\n",
       "expire_month            False\n",
       "expire_year             False\n",
       "imputed_bd              False\n",
       "song_length             False\n",
       "artist_name             False\n",
       "composer                False\n",
       "lyricist                False\n",
       "language                False\n",
       "name                    False\n",
       "isrc                    False\n",
       "one_genre               False\n",
       "two_genre               False\n",
       "three_genre             False\n",
       "four_genre              False\n",
       "five_genre              False\n",
       "six_genre               False\n",
       "seven_genre             False\n",
       "eight_genre             False\n",
       "binary_song_length      False\n",
       "like_language           False\n",
       "composer_count          False\n",
       "lyricist_count          False\n",
       "composer_first_name     False\n",
       "first_artist_name       False\n",
       "country_code            False\n",
       "regi_code               False\n",
       "year                    False\n",
       "designation_code        False\n",
       "age_gap_between_song    False\n",
       "member_song_count       False\n",
       "artist_song_count       False\n",
       "lang_song_count         False\n",
       "song_member_count       False\n",
       "age_song_count          False\n",
       "dtype: bool"
      ]
     },
     "execution_count": 94,
     "metadata": {
      "tags": []
     },
     "output_type": "execute_result"
    }
   ],
   "source": [
    "test_data.isnull().any()"
   ]
  },
  {
   "cell_type": "code",
   "execution_count": null,
   "metadata": {
    "colab": {
     "base_uri": "https://localhost:8080/"
    },
    "executionInfo": {
     "elapsed": 141163,
     "status": "ok",
     "timestamp": 1615710538237,
     "user": {
      "displayName": "ajay jogiya",
      "photoUrl": "https://lh3.googleusercontent.com/a-/AOh14GgRAXM6e1-9rIRgaPP756Iug7UkbP0azqriVDFLww=s64",
      "userId": "14152685769056492470"
     },
     "user_tz": -330
    },
    "id": "kyf9GHDx0RZz",
    "outputId": "7dd1bbff-a757-4a92-ca76-3122f8edf87c"
   },
   "outputs": [
    {
     "name": "stdout",
     "output_type": "stream",
     "text": [
      "train_data saved.\n"
     ]
    }
   ],
   "source": [
    "train_data.to_csv('train_data_final.csv')\n",
    "print('train_data saved.')\n",
    "#val_data.to_csv('val_data_final.csv')\n",
    "#print('val_data saved.')\n",
    "#test_data.to_csv('test_data_final.csv')\n",
    "#print('test_data saved.')"
   ]
  },
  {
   "cell_type": "code",
   "execution_count": null,
   "metadata": {
    "colab": {
     "base_uri": "https://localhost:8080/",
     "height": 338
    },
    "executionInfo": {
     "elapsed": 1430,
     "status": "ok",
     "timestamp": 1615710548668,
     "user": {
      "displayName": "ajay jogiya",
      "photoUrl": "https://lh3.googleusercontent.com/a-/AOh14GgRAXM6e1-9rIRgaPP756Iug7UkbP0azqriVDFLww=s64",
      "userId": "14152685769056492470"
     },
     "user_tz": -330
    },
    "id": "fv7jGMlX2Dhb",
    "outputId": "afb36529-ad06-4337-9028-340834814f66"
   },
   "outputs": [
    {
     "name": "stdout",
     "output_type": "stream",
     "text": [
      "(5901934, 48)\n"
     ]
    },
    {
     "data": {
      "text/html": [
       "<div>\n",
       "<style scoped>\n",
       "    .dataframe tbody tr th:only-of-type {\n",
       "        vertical-align: middle;\n",
       "    }\n",
       "\n",
       "    .dataframe tbody tr th {\n",
       "        vertical-align: top;\n",
       "    }\n",
       "\n",
       "    .dataframe thead th {\n",
       "        text-align: right;\n",
       "    }\n",
       "</style>\n",
       "<table border=\"1\" class=\"dataframe\">\n",
       "  <thead>\n",
       "    <tr style=\"text-align: right;\">\n",
       "      <th></th>\n",
       "      <th>msno</th>\n",
       "      <th>song_id</th>\n",
       "      <th>source_system_tab</th>\n",
       "      <th>source_screen_name</th>\n",
       "      <th>source_type</th>\n",
       "      <th>target</th>\n",
       "      <th>city</th>\n",
       "      <th>bd</th>\n",
       "      <th>gender</th>\n",
       "      <th>registered_via</th>\n",
       "      <th>regi_day</th>\n",
       "      <th>regi_month</th>\n",
       "      <th>regi_year</th>\n",
       "      <th>expire_day</th>\n",
       "      <th>expire_month</th>\n",
       "      <th>expire_year</th>\n",
       "      <th>imputed_bd</th>\n",
       "      <th>song_length</th>\n",
       "      <th>artist_name</th>\n",
       "      <th>composer</th>\n",
       "      <th>lyricist</th>\n",
       "      <th>language</th>\n",
       "      <th>name</th>\n",
       "      <th>isrc</th>\n",
       "      <th>one_genre</th>\n",
       "      <th>two_genre</th>\n",
       "      <th>three_genre</th>\n",
       "      <th>four_genre</th>\n",
       "      <th>five_genre</th>\n",
       "      <th>six_genre</th>\n",
       "      <th>seven_genre</th>\n",
       "      <th>eight_genre</th>\n",
       "      <th>binary_song_length</th>\n",
       "      <th>like_language</th>\n",
       "      <th>composer_count</th>\n",
       "      <th>lyricist_count</th>\n",
       "      <th>composer_first_name</th>\n",
       "      <th>first_artist_name</th>\n",
       "      <th>country_code</th>\n",
       "      <th>regi_code</th>\n",
       "      <th>year</th>\n",
       "      <th>designation_code</th>\n",
       "      <th>age_gap_between_song</th>\n",
       "      <th>member_song_count</th>\n",
       "      <th>artist_song_count</th>\n",
       "      <th>lang_song_count</th>\n",
       "      <th>song_member_count</th>\n",
       "      <th>age_song_count</th>\n",
       "    </tr>\n",
       "  </thead>\n",
       "  <tbody>\n",
       "    <tr>\n",
       "      <th>0</th>\n",
       "      <td>FGtllVqz18RPiwJj/edr2gV78zirAiY/9SmYvia+kCg=</td>\n",
       "      <td>BBzumQNXUHKdEBOB7mAJuzok+IJA1c2Ryg/yzTF6tik=</td>\n",
       "      <td>explore</td>\n",
       "      <td>Explore</td>\n",
       "      <td>online-playlist</td>\n",
       "      <td>1</td>\n",
       "      <td>1</td>\n",
       "      <td>0</td>\n",
       "      <td>not_define</td>\n",
       "      <td>7</td>\n",
       "      <td>2012</td>\n",
       "      <td>1</td>\n",
       "      <td>2</td>\n",
       "      <td>2017</td>\n",
       "      <td>10</td>\n",
       "      <td>5</td>\n",
       "      <td>28.3</td>\n",
       "      <td>206471.0</td>\n",
       "      <td>Bastille</td>\n",
       "      <td>Dan Smith| Mark Crew</td>\n",
       "      <td>no_name</td>\n",
       "      <td>52</td>\n",
       "      <td>Good Grief</td>\n",
       "      <td>GBUM71602854</td>\n",
       "      <td>359</td>\n",
       "      <td>0</td>\n",
       "      <td>0</td>\n",
       "      <td>0</td>\n",
       "      <td>0</td>\n",
       "      <td>0</td>\n",
       "      <td>0</td>\n",
       "      <td>0</td>\n",
       "      <td>1</td>\n",
       "      <td>1</td>\n",
       "      <td>2</td>\n",
       "      <td>0</td>\n",
       "      <td>Dan Smith</td>\n",
       "      <td>Bastille</td>\n",
       "      <td>GB</td>\n",
       "      <td>UM7</td>\n",
       "      <td>16</td>\n",
       "      <td>02854</td>\n",
       "      <td>-16.0</td>\n",
       "      <td>4313</td>\n",
       "      <td>904</td>\n",
       "      <td>1498090</td>\n",
       "      <td>196</td>\n",
       "      <td>2331999</td>\n",
       "    </tr>\n",
       "    <tr>\n",
       "      <th>1</th>\n",
       "      <td>Xumu+NIjS6QYVxDS4/t3SawvJ7viT9hPKXmf0RtLNx8=</td>\n",
       "      <td>bhp/MpSNoqoxOIB+/l8WPqu6jldth4DIpCm3ayXnJqM=</td>\n",
       "      <td>my library</td>\n",
       "      <td>Local playlist more</td>\n",
       "      <td>local-playlist</td>\n",
       "      <td>1</td>\n",
       "      <td>13</td>\n",
       "      <td>24</td>\n",
       "      <td>female</td>\n",
       "      <td>9</td>\n",
       "      <td>2011</td>\n",
       "      <td>5</td>\n",
       "      <td>25</td>\n",
       "      <td>2017</td>\n",
       "      <td>9</td>\n",
       "      <td>11</td>\n",
       "      <td>24.0</td>\n",
       "      <td>284584.0</td>\n",
       "      <td>Various Artists</td>\n",
       "      <td>no_name</td>\n",
       "      <td>no_name</td>\n",
       "      <td>52</td>\n",
       "      <td>Lords of Cardboard</td>\n",
       "      <td>US3C69910183</td>\n",
       "      <td>1259</td>\n",
       "      <td>0</td>\n",
       "      <td>0</td>\n",
       "      <td>0</td>\n",
       "      <td>0</td>\n",
       "      <td>0</td>\n",
       "      <td>0</td>\n",
       "      <td>0</td>\n",
       "      <td>0</td>\n",
       "      <td>1</td>\n",
       "      <td>0</td>\n",
       "      <td>0</td>\n",
       "      <td>no_name</td>\n",
       "      <td>Various Artists</td>\n",
       "      <td>US</td>\n",
       "      <td>3C6</td>\n",
       "      <td>99</td>\n",
       "      <td>10183</td>\n",
       "      <td>-75.0</td>\n",
       "      <td>581</td>\n",
       "      <td>237601</td>\n",
       "      <td>1498090</td>\n",
       "      <td>1</td>\n",
       "      <td>209830</td>\n",
       "    </tr>\n",
       "    <tr>\n",
       "      <th>2</th>\n",
       "      <td>Xumu+NIjS6QYVxDS4/t3SawvJ7viT9hPKXmf0RtLNx8=</td>\n",
       "      <td>JNWfrrC7zNN7BdMpsISKa4Mw+xVJYNnxXh3/Epw7QgY=</td>\n",
       "      <td>my library</td>\n",
       "      <td>Local playlist more</td>\n",
       "      <td>local-playlist</td>\n",
       "      <td>1</td>\n",
       "      <td>13</td>\n",
       "      <td>24</td>\n",
       "      <td>female</td>\n",
       "      <td>9</td>\n",
       "      <td>2011</td>\n",
       "      <td>5</td>\n",
       "      <td>25</td>\n",
       "      <td>2017</td>\n",
       "      <td>9</td>\n",
       "      <td>11</td>\n",
       "      <td>24.0</td>\n",
       "      <td>225396.0</td>\n",
       "      <td>Nas</td>\n",
       "      <td>N. Jones、W. Adams、J. Lordan、D. Ingle</td>\n",
       "      <td>no_name</td>\n",
       "      <td>52</td>\n",
       "      <td>Hip Hop Is Dead(Album Version (Edited))</td>\n",
       "      <td>USUM70618761</td>\n",
       "      <td>1259</td>\n",
       "      <td>0</td>\n",
       "      <td>0</td>\n",
       "      <td>0</td>\n",
       "      <td>0</td>\n",
       "      <td>0</td>\n",
       "      <td>0</td>\n",
       "      <td>0</td>\n",
       "      <td>1</td>\n",
       "      <td>1</td>\n",
       "      <td>4</td>\n",
       "      <td>0</td>\n",
       "      <td>N. Jones</td>\n",
       "      <td>Nas</td>\n",
       "      <td>US</td>\n",
       "      <td>UM7</td>\n",
       "      <td>06</td>\n",
       "      <td>18761</td>\n",
       "      <td>18.0</td>\n",
       "      <td>581</td>\n",
       "      <td>223</td>\n",
       "      <td>1498090</td>\n",
       "      <td>3</td>\n",
       "      <td>209830</td>\n",
       "    </tr>\n",
       "  </tbody>\n",
       "</table>\n",
       "</div>"
      ],
      "text/plain": [
       "                                           msno  ... age_song_count\n",
       "0  FGtllVqz18RPiwJj/edr2gV78zirAiY/9SmYvia+kCg=  ...        2331999\n",
       "1  Xumu+NIjS6QYVxDS4/t3SawvJ7viT9hPKXmf0RtLNx8=  ...         209830\n",
       "2  Xumu+NIjS6QYVxDS4/t3SawvJ7viT9hPKXmf0RtLNx8=  ...         209830\n",
       "\n",
       "[3 rows x 48 columns]"
      ]
     },
     "execution_count": 100,
     "metadata": {
      "tags": []
     },
     "output_type": "execute_result"
    }
   ],
   "source": [
    "print(train_data.shape)\n",
    "train_data.head(3)"
   ]
  },
  {
   "cell_type": "code",
   "execution_count": null,
   "metadata": {
    "colab": {
     "base_uri": "https://localhost:8080/",
     "height": 388
    },
    "executionInfo": {
     "elapsed": 1479,
     "status": "ok",
     "timestamp": 1615710552802,
     "user": {
      "displayName": "ajay jogiya",
      "photoUrl": "https://lh3.googleusercontent.com/a-/AOh14GgRAXM6e1-9rIRgaPP756Iug7UkbP0azqriVDFLww=s64",
      "userId": "14152685769056492470"
     },
     "user_tz": -330
    },
    "id": "kw7_QuRw2Dbs",
    "outputId": "488d9674-7737-42db-da07-cb75002fcb1a"
   },
   "outputs": [
    {
     "name": "stdout",
     "output_type": "stream",
     "text": [
      "(1475484, 48)\n"
     ]
    },
    {
     "data": {
      "text/html": [
       "<div>\n",
       "<style scoped>\n",
       "    .dataframe tbody tr th:only-of-type {\n",
       "        vertical-align: middle;\n",
       "    }\n",
       "\n",
       "    .dataframe tbody tr th {\n",
       "        vertical-align: top;\n",
       "    }\n",
       "\n",
       "    .dataframe thead th {\n",
       "        text-align: right;\n",
       "    }\n",
       "</style>\n",
       "<table border=\"1\" class=\"dataframe\">\n",
       "  <thead>\n",
       "    <tr style=\"text-align: right;\">\n",
       "      <th></th>\n",
       "      <th>msno</th>\n",
       "      <th>song_id</th>\n",
       "      <th>source_system_tab</th>\n",
       "      <th>source_screen_name</th>\n",
       "      <th>source_type</th>\n",
       "      <th>target</th>\n",
       "      <th>city</th>\n",
       "      <th>bd</th>\n",
       "      <th>gender</th>\n",
       "      <th>registered_via</th>\n",
       "      <th>regi_day</th>\n",
       "      <th>regi_month</th>\n",
       "      <th>regi_year</th>\n",
       "      <th>expire_day</th>\n",
       "      <th>expire_month</th>\n",
       "      <th>expire_year</th>\n",
       "      <th>imputed_bd</th>\n",
       "      <th>song_length</th>\n",
       "      <th>artist_name</th>\n",
       "      <th>composer</th>\n",
       "      <th>lyricist</th>\n",
       "      <th>language</th>\n",
       "      <th>name</th>\n",
       "      <th>isrc</th>\n",
       "      <th>one_genre</th>\n",
       "      <th>two_genre</th>\n",
       "      <th>three_genre</th>\n",
       "      <th>four_genre</th>\n",
       "      <th>five_genre</th>\n",
       "      <th>six_genre</th>\n",
       "      <th>seven_genre</th>\n",
       "      <th>eight_genre</th>\n",
       "      <th>binary_song_length</th>\n",
       "      <th>like_language</th>\n",
       "      <th>composer_count</th>\n",
       "      <th>lyricist_count</th>\n",
       "      <th>composer_first_name</th>\n",
       "      <th>first_artist_name</th>\n",
       "      <th>country_code</th>\n",
       "      <th>regi_code</th>\n",
       "      <th>year</th>\n",
       "      <th>designation_code</th>\n",
       "      <th>age_gap_between_song</th>\n",
       "      <th>member_song_count</th>\n",
       "      <th>artist_song_count</th>\n",
       "      <th>lang_song_count</th>\n",
       "      <th>song_member_count</th>\n",
       "      <th>age_song_count</th>\n",
       "    </tr>\n",
       "  </thead>\n",
       "  <tbody>\n",
       "    <tr>\n",
       "      <th>5901934</th>\n",
       "      <td>+fzJ5Uou/rxl1pXlebOEBHFKC4LBwDfgnc2R7287CVs=</td>\n",
       "      <td>JTVy3aCLoTFkqPK4pkGBy0YTlH0zpkubCoKMh07WYfM=</td>\n",
       "      <td>my library</td>\n",
       "      <td>Local playlist more</td>\n",
       "      <td>local-library</td>\n",
       "      <td>1</td>\n",
       "      <td>1</td>\n",
       "      <td>18</td>\n",
       "      <td>female</td>\n",
       "      <td>3</td>\n",
       "      <td>2015</td>\n",
       "      <td>3</td>\n",
       "      <td>21</td>\n",
       "      <td>2017</td>\n",
       "      <td>10</td>\n",
       "      <td>5</td>\n",
       "      <td>18.0</td>\n",
       "      <td>259553.0</td>\n",
       "      <td>楊韻禾 (Melody Yeung)</td>\n",
       "      <td>楊韻禾Mel Yeung / 陳熙Josh Chen</td>\n",
       "      <td>崔惟楷Luke”skywalker”Tsui</td>\n",
       "      <td>3</td>\n",
       "      <td>你不知道</td>\n",
       "      <td>TWJ970700301</td>\n",
       "      <td>465</td>\n",
       "      <td>0</td>\n",
       "      <td>0</td>\n",
       "      <td>0</td>\n",
       "      <td>0</td>\n",
       "      <td>0</td>\n",
       "      <td>0</td>\n",
       "      <td>0</td>\n",
       "      <td>0</td>\n",
       "      <td>1</td>\n",
       "      <td>2</td>\n",
       "      <td>1</td>\n",
       "      <td>楊韻禾Mel Yeung</td>\n",
       "      <td>楊韻禾 (Melody Yeung)</td>\n",
       "      <td>TW</td>\n",
       "      <td>J97</td>\n",
       "      <td>07</td>\n",
       "      <td>00301</td>\n",
       "      <td>11.0</td>\n",
       "      <td>149</td>\n",
       "      <td>67</td>\n",
       "      <td>792271</td>\n",
       "      <td>26</td>\n",
       "      <td>20746</td>\n",
       "    </tr>\n",
       "    <tr>\n",
       "      <th>5901935</th>\n",
       "      <td>+fzJ5Uou/rxl1pXlebOEBHFKC4LBwDfgnc2R7287CVs=</td>\n",
       "      <td>2TR1fCpa5/ac/xe+hdOe52nBZ6afSU49gsGQbhTQVzk=</td>\n",
       "      <td>my library</td>\n",
       "      <td>Local playlist more</td>\n",
       "      <td>local-library</td>\n",
       "      <td>0</td>\n",
       "      <td>1</td>\n",
       "      <td>18</td>\n",
       "      <td>female</td>\n",
       "      <td>3</td>\n",
       "      <td>2015</td>\n",
       "      <td>3</td>\n",
       "      <td>21</td>\n",
       "      <td>2017</td>\n",
       "      <td>10</td>\n",
       "      <td>5</td>\n",
       "      <td>18.0</td>\n",
       "      <td>191738.0</td>\n",
       "      <td>倪安東 (Anthony Neely)</td>\n",
       "      <td>Skot Suyama 陶山| 倪安東</td>\n",
       "      <td>倪安東</td>\n",
       "      <td>3</td>\n",
       "      <td>Wake up</td>\n",
       "      <td>TWD951244101</td>\n",
       "      <td>465</td>\n",
       "      <td>0</td>\n",
       "      <td>0</td>\n",
       "      <td>0</td>\n",
       "      <td>0</td>\n",
       "      <td>0</td>\n",
       "      <td>0</td>\n",
       "      <td>0</td>\n",
       "      <td>1</td>\n",
       "      <td>1</td>\n",
       "      <td>2</td>\n",
       "      <td>1</td>\n",
       "      <td>Skot Suyama 陶山</td>\n",
       "      <td>倪安東 (Anthony Neely)</td>\n",
       "      <td>TW</td>\n",
       "      <td>D95</td>\n",
       "      <td>12</td>\n",
       "      <td>44101</td>\n",
       "      <td>6.0</td>\n",
       "      <td>149</td>\n",
       "      <td>792</td>\n",
       "      <td>792271</td>\n",
       "      <td>37</td>\n",
       "      <td>20746</td>\n",
       "    </tr>\n",
       "    <tr>\n",
       "      <th>5901936</th>\n",
       "      <td>+fzJ5Uou/rxl1pXlebOEBHFKC4LBwDfgnc2R7287CVs=</td>\n",
       "      <td>wev1Fi6KYkCSFAstQfhxJPZv7wkn8wGepys+KDmeBy4=</td>\n",
       "      <td>my library</td>\n",
       "      <td>Local playlist more</td>\n",
       "      <td>local-library</td>\n",
       "      <td>1</td>\n",
       "      <td>1</td>\n",
       "      <td>18</td>\n",
       "      <td>female</td>\n",
       "      <td>3</td>\n",
       "      <td>2015</td>\n",
       "      <td>3</td>\n",
       "      <td>21</td>\n",
       "      <td>2017</td>\n",
       "      <td>10</td>\n",
       "      <td>5</td>\n",
       "      <td>18.0</td>\n",
       "      <td>204521.0</td>\n",
       "      <td>Various Artists</td>\n",
       "      <td>Noah Feldshuh| Casey Harris| Sam Harris| A. Gr...</td>\n",
       "      <td>no_name</td>\n",
       "      <td>52</td>\n",
       "      <td>Unsteady</td>\n",
       "      <td>USUM71603401</td>\n",
       "      <td>359</td>\n",
       "      <td>0</td>\n",
       "      <td>0</td>\n",
       "      <td>0</td>\n",
       "      <td>0</td>\n",
       "      <td>0</td>\n",
       "      <td>0</td>\n",
       "      <td>0</td>\n",
       "      <td>1</td>\n",
       "      <td>1</td>\n",
       "      <td>5</td>\n",
       "      <td>0</td>\n",
       "      <td>Noah Feldshuh</td>\n",
       "      <td>Various Artists</td>\n",
       "      <td>US</td>\n",
       "      <td>UM7</td>\n",
       "      <td>16</td>\n",
       "      <td>03401</td>\n",
       "      <td>2.0</td>\n",
       "      <td>149</td>\n",
       "      <td>66251</td>\n",
       "      <td>366699</td>\n",
       "      <td>281</td>\n",
       "      <td>20746</td>\n",
       "    </tr>\n",
       "  </tbody>\n",
       "</table>\n",
       "</div>"
      ],
      "text/plain": [
       "                                                 msno  ... age_song_count\n",
       "5901934  +fzJ5Uou/rxl1pXlebOEBHFKC4LBwDfgnc2R7287CVs=  ...          20746\n",
       "5901935  +fzJ5Uou/rxl1pXlebOEBHFKC4LBwDfgnc2R7287CVs=  ...          20746\n",
       "5901936  +fzJ5Uou/rxl1pXlebOEBHFKC4LBwDfgnc2R7287CVs=  ...          20746\n",
       "\n",
       "[3 rows x 48 columns]"
      ]
     },
     "execution_count": 101,
     "metadata": {
      "tags": []
     },
     "output_type": "execute_result"
    }
   ],
   "source": [
    "print(val_data.shape)\n",
    "val_data.head(3)"
   ]
  },
  {
   "cell_type": "code",
   "execution_count": null,
   "metadata": {
    "colab": {
     "base_uri": "https://localhost:8080/",
     "height": 237
    },
    "executionInfo": {
     "elapsed": 1437,
     "status": "ok",
     "timestamp": 1615710559017,
     "user": {
      "displayName": "ajay jogiya",
      "photoUrl": "https://lh3.googleusercontent.com/a-/AOh14GgRAXM6e1-9rIRgaPP756Iug7UkbP0azqriVDFLww=s64",
      "userId": "14152685769056492470"
     },
     "user_tz": -330
    },
    "id": "iCRu970u2DND",
    "outputId": "2f49c8de-2d8d-4049-fc8e-3b772f47eb75"
   },
   "outputs": [
    {
     "name": "stdout",
     "output_type": "stream",
     "text": [
      "(2556790, 48)\n"
     ]
    },
    {
     "data": {
      "text/html": [
       "<div>\n",
       "<style scoped>\n",
       "    .dataframe tbody tr th:only-of-type {\n",
       "        vertical-align: middle;\n",
       "    }\n",
       "\n",
       "    .dataframe tbody tr th {\n",
       "        vertical-align: top;\n",
       "    }\n",
       "\n",
       "    .dataframe thead th {\n",
       "        text-align: right;\n",
       "    }\n",
       "</style>\n",
       "<table border=\"1\" class=\"dataframe\">\n",
       "  <thead>\n",
       "    <tr style=\"text-align: right;\">\n",
       "      <th></th>\n",
       "      <th>id</th>\n",
       "      <th>msno</th>\n",
       "      <th>song_id</th>\n",
       "      <th>source_system_tab</th>\n",
       "      <th>source_screen_name</th>\n",
       "      <th>source_type</th>\n",
       "      <th>city</th>\n",
       "      <th>bd</th>\n",
       "      <th>gender</th>\n",
       "      <th>registered_via</th>\n",
       "      <th>regi_day</th>\n",
       "      <th>regi_month</th>\n",
       "      <th>regi_year</th>\n",
       "      <th>expire_day</th>\n",
       "      <th>expire_month</th>\n",
       "      <th>expire_year</th>\n",
       "      <th>imputed_bd</th>\n",
       "      <th>song_length</th>\n",
       "      <th>artist_name</th>\n",
       "      <th>composer</th>\n",
       "      <th>lyricist</th>\n",
       "      <th>language</th>\n",
       "      <th>name</th>\n",
       "      <th>isrc</th>\n",
       "      <th>one_genre</th>\n",
       "      <th>two_genre</th>\n",
       "      <th>three_genre</th>\n",
       "      <th>four_genre</th>\n",
       "      <th>five_genre</th>\n",
       "      <th>six_genre</th>\n",
       "      <th>seven_genre</th>\n",
       "      <th>eight_genre</th>\n",
       "      <th>binary_song_length</th>\n",
       "      <th>like_language</th>\n",
       "      <th>composer_count</th>\n",
       "      <th>lyricist_count</th>\n",
       "      <th>composer_first_name</th>\n",
       "      <th>first_artist_name</th>\n",
       "      <th>country_code</th>\n",
       "      <th>regi_code</th>\n",
       "      <th>year</th>\n",
       "      <th>designation_code</th>\n",
       "      <th>age_gap_between_song</th>\n",
       "      <th>member_song_count</th>\n",
       "      <th>artist_song_count</th>\n",
       "      <th>lang_song_count</th>\n",
       "      <th>song_member_count</th>\n",
       "      <th>age_song_count</th>\n",
       "    </tr>\n",
       "  </thead>\n",
       "  <tbody>\n",
       "    <tr>\n",
       "      <th>0</th>\n",
       "      <td>0</td>\n",
       "      <td>V8ruy7SGk7tDm3zA51DPpn6qutt+vmKMBKa21dp54uM=</td>\n",
       "      <td>WmHKgKMlp1lQMecNdNvDMkvIycZYHnFwDT72I5sIssc=</td>\n",
       "      <td>my library</td>\n",
       "      <td>Local playlist more</td>\n",
       "      <td>local-library</td>\n",
       "      <td>1</td>\n",
       "      <td>0</td>\n",
       "      <td>not_define</td>\n",
       "      <td>7</td>\n",
       "      <td>2016</td>\n",
       "      <td>2</td>\n",
       "      <td>19</td>\n",
       "      <td>2017</td>\n",
       "      <td>9</td>\n",
       "      <td>18</td>\n",
       "      <td>21.3</td>\n",
       "      <td>224130.0</td>\n",
       "      <td>梁文音 (Rachel Liang)</td>\n",
       "      <td>Qi Zheng Zhang</td>\n",
       "      <td>no_name</td>\n",
       "      <td>3</td>\n",
       "      <td>愛其實很殘忍</td>\n",
       "      <td>TWUM71400047</td>\n",
       "      <td>458</td>\n",
       "      <td>0</td>\n",
       "      <td>0</td>\n",
       "      <td>0</td>\n",
       "      <td>0</td>\n",
       "      <td>0</td>\n",
       "      <td>0</td>\n",
       "      <td>0</td>\n",
       "      <td>1</td>\n",
       "      <td>1</td>\n",
       "      <td>1</td>\n",
       "      <td>0</td>\n",
       "      <td>Qi Zheng Zhang</td>\n",
       "      <td>梁文音 (Rachel Liang)</td>\n",
       "      <td>TW</td>\n",
       "      <td>UM7</td>\n",
       "      <td>14</td>\n",
       "      <td>00047</td>\n",
       "      <td>-14.0</td>\n",
       "      <td>17</td>\n",
       "      <td>4009</td>\n",
       "      <td>1311328</td>\n",
       "      <td>196</td>\n",
       "      <td>1043221</td>\n",
       "    </tr>\n",
       "    <tr>\n",
       "      <th>1</th>\n",
       "      <td>1</td>\n",
       "      <td>V8ruy7SGk7tDm3zA51DPpn6qutt+vmKMBKa21dp54uM=</td>\n",
       "      <td>y/rsZ9DC7FwK5F2PK2D5mj+aOBUJAjuu3dZ14NgE0vM=</td>\n",
       "      <td>my library</td>\n",
       "      <td>Local playlist more</td>\n",
       "      <td>local-library</td>\n",
       "      <td>1</td>\n",
       "      <td>0</td>\n",
       "      <td>not_define</td>\n",
       "      <td>7</td>\n",
       "      <td>2016</td>\n",
       "      <td>2</td>\n",
       "      <td>19</td>\n",
       "      <td>2017</td>\n",
       "      <td>9</td>\n",
       "      <td>18</td>\n",
       "      <td>21.3</td>\n",
       "      <td>320470.0</td>\n",
       "      <td>林俊傑 (JJ Lin)</td>\n",
       "      <td>林俊傑</td>\n",
       "      <td>孫燕姿/易家揚</td>\n",
       "      <td>3</td>\n",
       "      <td>她說</td>\n",
       "      <td>TWB671005201</td>\n",
       "      <td>465</td>\n",
       "      <td>0</td>\n",
       "      <td>0</td>\n",
       "      <td>0</td>\n",
       "      <td>0</td>\n",
       "      <td>0</td>\n",
       "      <td>0</td>\n",
       "      <td>0</td>\n",
       "      <td>0</td>\n",
       "      <td>1</td>\n",
       "      <td>1</td>\n",
       "      <td>2</td>\n",
       "      <td>林俊傑</td>\n",
       "      <td>林俊傑 (JJ Lin)</td>\n",
       "      <td>TW</td>\n",
       "      <td>B67</td>\n",
       "      <td>10</td>\n",
       "      <td>05201</td>\n",
       "      <td>-10.0</td>\n",
       "      <td>17</td>\n",
       "      <td>31571</td>\n",
       "      <td>1311328</td>\n",
       "      <td>1479</td>\n",
       "      <td>1043221</td>\n",
       "    </tr>\n",
       "    <tr>\n",
       "      <th>2</th>\n",
       "      <td>2</td>\n",
       "      <td>/uQAlrAkaczV+nWCd2sPF2ekvXPRipV7q0l+gbLuxjw=</td>\n",
       "      <td>8eZLFOdGVdXBSqoAv5nsLigeH2BvKXzTQYtUM53I0k4=</td>\n",
       "      <td>discover</td>\n",
       "      <td>not_define</td>\n",
       "      <td>song-based-playlist</td>\n",
       "      <td>1</td>\n",
       "      <td>0</td>\n",
       "      <td>not_define</td>\n",
       "      <td>4</td>\n",
       "      <td>2016</td>\n",
       "      <td>11</td>\n",
       "      <td>17</td>\n",
       "      <td>2016</td>\n",
       "      <td>11</td>\n",
       "      <td>24</td>\n",
       "      <td>25.5</td>\n",
       "      <td>315899.0</td>\n",
       "      <td>Yu Takahashi (高橋優)</td>\n",
       "      <td>Yu Takahashi</td>\n",
       "      <td>Yu Takahashi</td>\n",
       "      <td>17</td>\n",
       "      <td>subarashiki nichijo</td>\n",
       "      <td>JPWP01070260</td>\n",
       "      <td>2022</td>\n",
       "      <td>0</td>\n",
       "      <td>0</td>\n",
       "      <td>0</td>\n",
       "      <td>0</td>\n",
       "      <td>0</td>\n",
       "      <td>0</td>\n",
       "      <td>0</td>\n",
       "      <td>0</td>\n",
       "      <td>0</td>\n",
       "      <td>1</td>\n",
       "      <td>1</td>\n",
       "      <td>Yu Takahashi</td>\n",
       "      <td>Yu Takahashi (高橋優)</td>\n",
       "      <td>JP</td>\n",
       "      <td>WP0</td>\n",
       "      <td>10</td>\n",
       "      <td>70260</td>\n",
       "      <td>-10.0</td>\n",
       "      <td>1</td>\n",
       "      <td>149</td>\n",
       "      <td>84227</td>\n",
       "      <td>2</td>\n",
       "      <td>1043221</td>\n",
       "    </tr>\n",
       "  </tbody>\n",
       "</table>\n",
       "</div>"
      ],
      "text/plain": [
       "   id  ... age_song_count\n",
       "0   0  ...        1043221\n",
       "1   1  ...        1043221\n",
       "2   2  ...        1043221\n",
       "\n",
       "[3 rows x 48 columns]"
      ]
     },
     "execution_count": 102,
     "metadata": {
      "tags": []
     },
     "output_type": "execute_result"
    }
   ],
   "source": [
    "print(test_data.shape)\n",
    "test_data.head(3)"
   ]
  },
  {
   "cell_type": "markdown",
   "metadata": {
    "id": "M_xulRDY7Phx"
   },
   "source": [
    "# **Label encoding**"
   ]
  },
  {
   "cell_type": "code",
   "execution_count": null,
   "metadata": {
    "colab": {
     "base_uri": "https://localhost:8080/"
    },
    "executionInfo": {
     "elapsed": 62628,
     "status": "ok",
     "timestamp": 1615721308777,
     "user": {
      "displayName": "Ajay Jogiya",
      "photoUrl": "",
      "userId": "12844089788344129075"
     },
     "user_tz": -330
    },
    "id": "M9obB12C3RNh",
    "outputId": "d7a479bf-c9ad-4c2a-b75e-0696316567f7"
   },
   "outputs": [
    {
     "name": "stdout",
     "output_type": "stream",
     "text": [
      "Train Shape : (5901934, 49)\n"
     ]
    }
   ],
   "source": [
    "train_data = pd.read_csv('train_data_final.csv')\n",
    "print('Train Shape :',train_data.shape)"
   ]
  },
  {
   "cell_type": "code",
   "execution_count": null,
   "metadata": {
    "colab": {
     "base_uri": "https://localhost:8080/"
    },
    "executionInfo": {
     "elapsed": 15953,
     "status": "ok",
     "timestamp": 1615721368008,
     "user": {
      "displayName": "Ajay Jogiya",
      "photoUrl": "",
      "userId": "12844089788344129075"
     },
     "user_tz": -330
    },
    "id": "uhnYZpXffMHB",
    "outputId": "b7b03895-032f-43ea-c34e-f9b96e559b92"
   },
   "outputs": [
    {
     "name": "stdout",
     "output_type": "stream",
     "text": [
      "Vali  Shape : (1475484, 49)\n"
     ]
    }
   ],
   "source": [
    "val_data   = pd.read_csv('val_data_final.csv')\n",
    "print('Vali  Shape :',val_data.shape)"
   ]
  },
  {
   "cell_type": "code",
   "execution_count": null,
   "metadata": {
    "colab": {
     "base_uri": "https://localhost:8080/"
    },
    "executionInfo": {
     "elapsed": 24582,
     "status": "ok",
     "timestamp": 1615721395786,
     "user": {
      "displayName": "Ajay Jogiya",
      "photoUrl": "",
      "userId": "12844089788344129075"
     },
     "user_tz": -330
    },
    "id": "DIGN4s5KfL7t",
    "outputId": "21dc4c15-c21b-4aa9-fc99-4ef2d5fbcc05"
   },
   "outputs": [
    {
     "name": "stdout",
     "output_type": "stream",
     "text": [
      "Test  shape : (2556790, 49)\n"
     ]
    }
   ],
   "source": [
    "test_data  = pd.read_csv('test_data_final.csv')\n",
    "print('Test  shape :',test_data.shape)"
   ]
  },
  {
   "cell_type": "code",
   "execution_count": null,
   "metadata": {
    "id": "02NKp2pj7ZK-"
   },
   "outputs": [],
   "source": [
    "\n",
    "# we are drop this features because , \n",
    "# we extract information from features : ['artist_name' , 'name', 'isrc']\n",
    "# high missing rate : ['composer', 'lyricist']\n",
    "#drop_list  = ['registration_init_time', 'expiration_date','genre_ids','artist_name', 'composer', 'lyricist','name', 'isrc']\n",
    "drop_list  = ['artist_name' , 'composer' , 'lyricist' , 'isrc']\n",
    "\n",
    "train_data = train_data.drop(drop_list,axis = 1)\n",
    "val_data   = val_data.drop(drop_list,axis = 1)\n",
    "test_data  = test_data.drop(drop_list,axis = 1)"
   ]
  },
  {
   "cell_type": "code",
   "execution_count": null,
   "metadata": {
    "colab": {
     "base_uri": "https://localhost:8080/",
     "height": 321
    },
    "executionInfo": {
     "elapsed": 1634,
     "status": "ok",
     "timestamp": 1615710680440,
     "user": {
      "displayName": "ajay jogiya",
      "photoUrl": "https://lh3.googleusercontent.com/a-/AOh14GgRAXM6e1-9rIRgaPP756Iug7UkbP0azqriVDFLww=s64",
      "userId": "14152685769056492470"
     },
     "user_tz": -330
    },
    "id": "neJzBPBI3E9Y",
    "outputId": "443e7d80-13e1-4280-fb2c-527bcfe58c2c"
   },
   "outputs": [
    {
     "data": {
      "text/html": [
       "<div>\n",
       "<style scoped>\n",
       "    .dataframe tbody tr th:only-of-type {\n",
       "        vertical-align: middle;\n",
       "    }\n",
       "\n",
       "    .dataframe tbody tr th {\n",
       "        vertical-align: top;\n",
       "    }\n",
       "\n",
       "    .dataframe thead th {\n",
       "        text-align: right;\n",
       "    }\n",
       "</style>\n",
       "<table border=\"1\" class=\"dataframe\">\n",
       "  <thead>\n",
       "    <tr style=\"text-align: right;\">\n",
       "      <th></th>\n",
       "      <th>msno</th>\n",
       "      <th>song_id</th>\n",
       "      <th>source_system_tab</th>\n",
       "      <th>source_screen_name</th>\n",
       "      <th>source_type</th>\n",
       "      <th>target</th>\n",
       "      <th>city</th>\n",
       "      <th>bd</th>\n",
       "      <th>gender</th>\n",
       "      <th>registered_via</th>\n",
       "      <th>regi_day</th>\n",
       "      <th>regi_month</th>\n",
       "      <th>regi_year</th>\n",
       "      <th>expire_day</th>\n",
       "      <th>expire_month</th>\n",
       "      <th>expire_year</th>\n",
       "      <th>imputed_bd</th>\n",
       "      <th>song_length</th>\n",
       "      <th>artist_name</th>\n",
       "      <th>composer</th>\n",
       "      <th>lyricist</th>\n",
       "      <th>language</th>\n",
       "      <th>name</th>\n",
       "      <th>isrc</th>\n",
       "      <th>one_genre</th>\n",
       "      <th>two_genre</th>\n",
       "      <th>three_genre</th>\n",
       "      <th>four_genre</th>\n",
       "      <th>five_genre</th>\n",
       "      <th>six_genre</th>\n",
       "      <th>seven_genre</th>\n",
       "      <th>eight_genre</th>\n",
       "      <th>binary_song_length</th>\n",
       "      <th>like_language</th>\n",
       "      <th>composer_count</th>\n",
       "      <th>lyricist_count</th>\n",
       "      <th>composer_first_name</th>\n",
       "      <th>first_artist_name</th>\n",
       "      <th>country_code</th>\n",
       "      <th>regi_code</th>\n",
       "      <th>year</th>\n",
       "      <th>designation_code</th>\n",
       "      <th>age_gap_between_song</th>\n",
       "      <th>member_song_count</th>\n",
       "      <th>artist_song_count</th>\n",
       "      <th>lang_song_count</th>\n",
       "      <th>song_member_count</th>\n",
       "      <th>age_song_count</th>\n",
       "    </tr>\n",
       "  </thead>\n",
       "  <tbody>\n",
       "    <tr>\n",
       "      <th>0</th>\n",
       "      <td>FGtllVqz18RPiwJj/edr2gV78zirAiY/9SmYvia+kCg=</td>\n",
       "      <td>BBzumQNXUHKdEBOB7mAJuzok+IJA1c2Ryg/yzTF6tik=</td>\n",
       "      <td>explore</td>\n",
       "      <td>Explore</td>\n",
       "      <td>online-playlist</td>\n",
       "      <td>1</td>\n",
       "      <td>1</td>\n",
       "      <td>0</td>\n",
       "      <td>not_define</td>\n",
       "      <td>7</td>\n",
       "      <td>2012</td>\n",
       "      <td>1</td>\n",
       "      <td>2</td>\n",
       "      <td>2017</td>\n",
       "      <td>10</td>\n",
       "      <td>5</td>\n",
       "      <td>28.3</td>\n",
       "      <td>206471.0</td>\n",
       "      <td>Bastille</td>\n",
       "      <td>Dan Smith| Mark Crew</td>\n",
       "      <td>no_name</td>\n",
       "      <td>52</td>\n",
       "      <td>Good Grief</td>\n",
       "      <td>GBUM71602854</td>\n",
       "      <td>359</td>\n",
       "      <td>0</td>\n",
       "      <td>0</td>\n",
       "      <td>0</td>\n",
       "      <td>0</td>\n",
       "      <td>0</td>\n",
       "      <td>0</td>\n",
       "      <td>0</td>\n",
       "      <td>1</td>\n",
       "      <td>1</td>\n",
       "      <td>2</td>\n",
       "      <td>0</td>\n",
       "      <td>Dan Smith</td>\n",
       "      <td>Bastille</td>\n",
       "      <td>GB</td>\n",
       "      <td>UM7</td>\n",
       "      <td>16</td>\n",
       "      <td>02854</td>\n",
       "      <td>-16.0</td>\n",
       "      <td>4313</td>\n",
       "      <td>904</td>\n",
       "      <td>1498090</td>\n",
       "      <td>196</td>\n",
       "      <td>2331999</td>\n",
       "    </tr>\n",
       "    <tr>\n",
       "      <th>1</th>\n",
       "      <td>Xumu+NIjS6QYVxDS4/t3SawvJ7viT9hPKXmf0RtLNx8=</td>\n",
       "      <td>bhp/MpSNoqoxOIB+/l8WPqu6jldth4DIpCm3ayXnJqM=</td>\n",
       "      <td>my library</td>\n",
       "      <td>Local playlist more</td>\n",
       "      <td>local-playlist</td>\n",
       "      <td>1</td>\n",
       "      <td>13</td>\n",
       "      <td>24</td>\n",
       "      <td>female</td>\n",
       "      <td>9</td>\n",
       "      <td>2011</td>\n",
       "      <td>5</td>\n",
       "      <td>25</td>\n",
       "      <td>2017</td>\n",
       "      <td>9</td>\n",
       "      <td>11</td>\n",
       "      <td>24.0</td>\n",
       "      <td>284584.0</td>\n",
       "      <td>Various Artists</td>\n",
       "      <td>no_name</td>\n",
       "      <td>no_name</td>\n",
       "      <td>52</td>\n",
       "      <td>Lords of Cardboard</td>\n",
       "      <td>US3C69910183</td>\n",
       "      <td>1259</td>\n",
       "      <td>0</td>\n",
       "      <td>0</td>\n",
       "      <td>0</td>\n",
       "      <td>0</td>\n",
       "      <td>0</td>\n",
       "      <td>0</td>\n",
       "      <td>0</td>\n",
       "      <td>0</td>\n",
       "      <td>1</td>\n",
       "      <td>0</td>\n",
       "      <td>0</td>\n",
       "      <td>no_name</td>\n",
       "      <td>Various Artists</td>\n",
       "      <td>US</td>\n",
       "      <td>3C6</td>\n",
       "      <td>99</td>\n",
       "      <td>10183</td>\n",
       "      <td>-75.0</td>\n",
       "      <td>581</td>\n",
       "      <td>237601</td>\n",
       "      <td>1498090</td>\n",
       "      <td>1</td>\n",
       "      <td>209830</td>\n",
       "    </tr>\n",
       "    <tr>\n",
       "      <th>2</th>\n",
       "      <td>Xumu+NIjS6QYVxDS4/t3SawvJ7viT9hPKXmf0RtLNx8=</td>\n",
       "      <td>JNWfrrC7zNN7BdMpsISKa4Mw+xVJYNnxXh3/Epw7QgY=</td>\n",
       "      <td>my library</td>\n",
       "      <td>Local playlist more</td>\n",
       "      <td>local-playlist</td>\n",
       "      <td>1</td>\n",
       "      <td>13</td>\n",
       "      <td>24</td>\n",
       "      <td>female</td>\n",
       "      <td>9</td>\n",
       "      <td>2011</td>\n",
       "      <td>5</td>\n",
       "      <td>25</td>\n",
       "      <td>2017</td>\n",
       "      <td>9</td>\n",
       "      <td>11</td>\n",
       "      <td>24.0</td>\n",
       "      <td>225396.0</td>\n",
       "      <td>Nas</td>\n",
       "      <td>N. Jones、W. Adams、J. Lordan、D. Ingle</td>\n",
       "      <td>no_name</td>\n",
       "      <td>52</td>\n",
       "      <td>Hip Hop Is Dead(Album Version (Edited))</td>\n",
       "      <td>USUM70618761</td>\n",
       "      <td>1259</td>\n",
       "      <td>0</td>\n",
       "      <td>0</td>\n",
       "      <td>0</td>\n",
       "      <td>0</td>\n",
       "      <td>0</td>\n",
       "      <td>0</td>\n",
       "      <td>0</td>\n",
       "      <td>1</td>\n",
       "      <td>1</td>\n",
       "      <td>4</td>\n",
       "      <td>0</td>\n",
       "      <td>N. Jones</td>\n",
       "      <td>Nas</td>\n",
       "      <td>US</td>\n",
       "      <td>UM7</td>\n",
       "      <td>06</td>\n",
       "      <td>18761</td>\n",
       "      <td>18.0</td>\n",
       "      <td>581</td>\n",
       "      <td>223</td>\n",
       "      <td>1498090</td>\n",
       "      <td>3</td>\n",
       "      <td>209830</td>\n",
       "    </tr>\n",
       "  </tbody>\n",
       "</table>\n",
       "</div>"
      ],
      "text/plain": [
       "                                           msno  ... age_song_count\n",
       "0  FGtllVqz18RPiwJj/edr2gV78zirAiY/9SmYvia+kCg=  ...        2331999\n",
       "1  Xumu+NIjS6QYVxDS4/t3SawvJ7viT9hPKXmf0RtLNx8=  ...         209830\n",
       "2  Xumu+NIjS6QYVxDS4/t3SawvJ7viT9hPKXmf0RtLNx8=  ...         209830\n",
       "\n",
       "[3 rows x 48 columns]"
      ]
     },
     "execution_count": 104,
     "metadata": {
      "tags": []
     },
     "output_type": "execute_result"
    }
   ],
   "source": [
    "train_data.head(3)"
   ]
  },
  {
   "cell_type": "code",
   "execution_count": 8,
   "metadata": {
    "executionInfo": {
     "elapsed": 1083,
     "status": "ok",
     "timestamp": 1615729104064,
     "user": {
      "displayName": "Ajay Jogiya",
      "photoUrl": "",
      "userId": "12844089788344129075"
     },
     "user_tz": -330
    },
    "id": "DlBtI9v16diM"
   },
   "outputs": [],
   "source": [
    "cat_features = ['gender','registered_via', 'language', 'regi_day',\n",
    "       'regi_month', 'regi_year','expire_day', 'expire_month', 'expire_year',\n",
    "       'artist_name', 'composer','one_genre', 'two_genre',\n",
    "       'three_genre', 'four_genre', 'five_genre', 'six_genre', 'seven_genre',\n",
    "       'eight_genre','lyricist', 'language', 'name','composer_first_name',\n",
    "        'first_artist_name', 'country_code ','regi_code', 'year','designation_code']"
   ]
  },
  {
   "cell_type": "code",
   "execution_count": null,
   "metadata": {
    "executionInfo": {
     "elapsed": 985,
     "status": "ok",
     "timestamp": 1615752174167,
     "user": {
      "displayName": "Ajay Jogiya",
      "photoUrl": "",
      "userId": "12844089788344129075"
     },
     "user_tz": -330
    },
    "id": "DWX2Abrh6de3"
   },
   "outputs": [],
   "source": [
    "# label encoding \n",
    "cat_features =['msno', 'song_id', 'source_system_tab', 'source_screen_name',\n",
    "               'source_type', 'bd','gender','registered_via', 'language',\n",
    "               'regi_month', 'regi_year','expire_day', 'expire_year',\n",
    "               'artist_name', 'two_genre','name','composer',\n",
    "               'three_genre', 'four_genre', 'five_genre', 'six_genre', 'seven_genre',\n",
    "               'eight_genre','lyricist', 'language','composer_first_name',\n",
    "               'first_artist_name','regi_code', 'year','designation_code']\n",
    "\n",
    "for name in tqdm(cat_features):\n",
    "    le = LabelEncoder()\n",
    "    cat = list(train_data[name]) + list(val_data[name]) + list(test_data[name])\n",
    "\n",
    "    le.fit(cat)\n",
    "\n",
    "    train_data[name] = le.transform(train_data[name])\n",
    "    val_data[name]   = le.transform(val_data[name])\n",
    "    test_data[name]  = le.transform(test_data[name])"
   ]
  },
  {
   "cell_type": "code",
   "execution_count": null,
   "metadata": {
    "colab": {
     "base_uri": "https://localhost:8080/",
     "height": 210
    },
    "executionInfo": {
     "elapsed": 2207,
     "status": "ok",
     "timestamp": 1615656513582,
     "user": {
      "displayName": "ajay jogiya",
      "photoUrl": "https://lh3.googleusercontent.com/a-/AOh14GgRAXM6e1-9rIRgaPP756Iug7UkbP0azqriVDFLww=s64",
      "userId": "14152685769056492470"
     },
     "user_tz": -330
    },
    "id": "o2YnGALPNjq4",
    "outputId": "766437fd-6dc3-4fc0-b5f5-0cf0b21df7ea"
   },
   "outputs": [
    {
     "data": {
      "text/html": [
       "<div>\n",
       "<style scoped>\n",
       "    .dataframe tbody tr th:only-of-type {\n",
       "        vertical-align: middle;\n",
       "    }\n",
       "\n",
       "    .dataframe tbody tr th {\n",
       "        vertical-align: top;\n",
       "    }\n",
       "\n",
       "    .dataframe thead th {\n",
       "        text-align: right;\n",
       "    }\n",
       "</style>\n",
       "<table border=\"1\" class=\"dataframe\">\n",
       "  <thead>\n",
       "    <tr style=\"text-align: right;\">\n",
       "      <th></th>\n",
       "      <th>msno</th>\n",
       "      <th>song_id</th>\n",
       "      <th>source_system_tab</th>\n",
       "      <th>source_screen_name</th>\n",
       "      <th>source_type</th>\n",
       "      <th>target</th>\n",
       "      <th>city</th>\n",
       "      <th>bd</th>\n",
       "      <th>gender</th>\n",
       "      <th>registered_via</th>\n",
       "      <th>registration_init_time</th>\n",
       "      <th>expiration_date</th>\n",
       "      <th>song_length</th>\n",
       "      <th>language</th>\n",
       "      <th>one_genre</th>\n",
       "      <th>two_genre</th>\n",
       "      <th>three_genre</th>\n",
       "      <th>four_genre</th>\n",
       "      <th>five_genre</th>\n",
       "      <th>six_genre</th>\n",
       "      <th>seven_genre</th>\n",
       "      <th>eight_genre</th>\n",
       "      <th>regi_day</th>\n",
       "      <th>regi_month</th>\n",
       "      <th>regi_year</th>\n",
       "      <th>expire_day</th>\n",
       "      <th>expire_month</th>\n",
       "      <th>expire_year</th>\n",
       "      <th>binary_song_length</th>\n",
       "      <th>like_language</th>\n",
       "      <th>composer_count</th>\n",
       "      <th>lyricist_count</th>\n",
       "      <th>composer_first_name</th>\n",
       "      <th>first_artist_name</th>\n",
       "      <th>country_code</th>\n",
       "      <th>regi_code</th>\n",
       "      <th>year</th>\n",
       "      <th>designation_code</th>\n",
       "      <th>age_gap_between_song</th>\n",
       "      <th>member_song_count</th>\n",
       "      <th>artist_song_count</th>\n",
       "      <th>lang_song_count</th>\n",
       "      <th>song_member_count</th>\n",
       "      <th>age_song_count</th>\n",
       "    </tr>\n",
       "  </thead>\n",
       "  <tbody>\n",
       "    <tr>\n",
       "      <th>0</th>\n",
       "      <td>22367</td>\n",
       "      <td>262515</td>\n",
       "      <td>1</td>\n",
       "      <td>10</td>\n",
       "      <td>8</td>\n",
       "      <td>1</td>\n",
       "      <td>0</td>\n",
       "      <td>0</td>\n",
       "      <td>2</td>\n",
       "      <td>4</td>\n",
       "      <td>20120102</td>\n",
       "      <td>20171005</td>\n",
       "      <td>206471.0</td>\n",
       "      <td>8</td>\n",
       "      <td>104</td>\n",
       "      <td>0</td>\n",
       "      <td>0</td>\n",
       "      <td>0</td>\n",
       "      <td>0</td>\n",
       "      <td>0</td>\n",
       "      <td>0</td>\n",
       "      <td>0</td>\n",
       "      <td>8</td>\n",
       "      <td>0</td>\n",
       "      <td>1</td>\n",
       "      <td>14</td>\n",
       "      <td>9</td>\n",
       "      <td>4</td>\n",
       "      <td>1</td>\n",
       "      <td>1</td>\n",
       "      <td>2</td>\n",
       "      <td>0</td>\n",
       "      <td>9432</td>\n",
       "      <td>3544</td>\n",
       "      <td>33</td>\n",
       "      <td>6119</td>\n",
       "      <td>17</td>\n",
       "      <td>2855</td>\n",
       "      <td>-16.0</td>\n",
       "      <td>4313</td>\n",
       "      <td>904</td>\n",
       "      <td>1498090</td>\n",
       "      <td>196</td>\n",
       "      <td>2332163</td>\n",
       "    </tr>\n",
       "    <tr>\n",
       "      <th>1</th>\n",
       "      <td>32244</td>\n",
       "      <td>61887</td>\n",
       "      <td>3</td>\n",
       "      <td>11</td>\n",
       "      <td>7</td>\n",
       "      <td>1</td>\n",
       "      <td>11</td>\n",
       "      <td>24</td>\n",
       "      <td>0</td>\n",
       "      <td>5</td>\n",
       "      <td>20110525</td>\n",
       "      <td>20170911</td>\n",
       "      <td>284584.0</td>\n",
       "      <td>8</td>\n",
       "      <td>33</td>\n",
       "      <td>0</td>\n",
       "      <td>0</td>\n",
       "      <td>0</td>\n",
       "      <td>0</td>\n",
       "      <td>0</td>\n",
       "      <td>0</td>\n",
       "      <td>0</td>\n",
       "      <td>7</td>\n",
       "      <td>4</td>\n",
       "      <td>24</td>\n",
       "      <td>14</td>\n",
       "      <td>8</td>\n",
       "      <td>10</td>\n",
       "      <td>0</td>\n",
       "      <td>1</td>\n",
       "      <td>0</td>\n",
       "      <td>0</td>\n",
       "      <td>44028</td>\n",
       "      <td>34784</td>\n",
       "      <td>107</td>\n",
       "      <td>480</td>\n",
       "      <td>100</td>\n",
       "      <td>9973</td>\n",
       "      <td>-75.0</td>\n",
       "      <td>581</td>\n",
       "      <td>237601</td>\n",
       "      <td>1498090</td>\n",
       "      <td>1</td>\n",
       "      <td>209830</td>\n",
       "    </tr>\n",
       "    <tr>\n",
       "      <th>2</th>\n",
       "      <td>32244</td>\n",
       "      <td>289862</td>\n",
       "      <td>3</td>\n",
       "      <td>11</td>\n",
       "      <td>7</td>\n",
       "      <td>1</td>\n",
       "      <td>11</td>\n",
       "      <td>24</td>\n",
       "      <td>0</td>\n",
       "      <td>5</td>\n",
       "      <td>20110525</td>\n",
       "      <td>20170911</td>\n",
       "      <td>225396.0</td>\n",
       "      <td>8</td>\n",
       "      <td>33</td>\n",
       "      <td>0</td>\n",
       "      <td>0</td>\n",
       "      <td>0</td>\n",
       "      <td>0</td>\n",
       "      <td>0</td>\n",
       "      <td>0</td>\n",
       "      <td>0</td>\n",
       "      <td>7</td>\n",
       "      <td>4</td>\n",
       "      <td>24</td>\n",
       "      <td>14</td>\n",
       "      <td>8</td>\n",
       "      <td>10</td>\n",
       "      <td>1</td>\n",
       "      <td>1</td>\n",
       "      <td>4</td>\n",
       "      <td>0</td>\n",
       "      <td>29838</td>\n",
       "      <td>23184</td>\n",
       "      <td>107</td>\n",
       "      <td>6119</td>\n",
       "      <td>7</td>\n",
       "      <td>17502</td>\n",
       "      <td>18.0</td>\n",
       "      <td>581</td>\n",
       "      <td>223</td>\n",
       "      <td>1498090</td>\n",
       "      <td>3</td>\n",
       "      <td>209830</td>\n",
       "    </tr>\n",
       "    <tr>\n",
       "      <th>3</th>\n",
       "      <td>32244</td>\n",
       "      <td>76491</td>\n",
       "      <td>3</td>\n",
       "      <td>11</td>\n",
       "      <td>7</td>\n",
       "      <td>1</td>\n",
       "      <td>11</td>\n",
       "      <td>24</td>\n",
       "      <td>0</td>\n",
       "      <td>5</td>\n",
       "      <td>20110525</td>\n",
       "      <td>20170911</td>\n",
       "      <td>255512.0</td>\n",
       "      <td>0</td>\n",
       "      <td>3</td>\n",
       "      <td>0</td>\n",
       "      <td>0</td>\n",
       "      <td>0</td>\n",
       "      <td>0</td>\n",
       "      <td>0</td>\n",
       "      <td>0</td>\n",
       "      <td>0</td>\n",
       "      <td>7</td>\n",
       "      <td>4</td>\n",
       "      <td>24</td>\n",
       "      <td>14</td>\n",
       "      <td>8</td>\n",
       "      <td>10</td>\n",
       "      <td>0</td>\n",
       "      <td>0</td>\n",
       "      <td>1</td>\n",
       "      <td>0</td>\n",
       "      <td>24176</td>\n",
       "      <td>29815</td>\n",
       "      <td>33</td>\n",
       "      <td>6129</td>\n",
       "      <td>11</td>\n",
       "      <td>64</td>\n",
       "      <td>14.0</td>\n",
       "      <td>581</td>\n",
       "      <td>1</td>\n",
       "      <td>243239</td>\n",
       "      <td>1</td>\n",
       "      <td>209830</td>\n",
       "    </tr>\n",
       "    <tr>\n",
       "      <th>4</th>\n",
       "      <td>22367</td>\n",
       "      <td>184457</td>\n",
       "      <td>1</td>\n",
       "      <td>10</td>\n",
       "      <td>8</td>\n",
       "      <td>1</td>\n",
       "      <td>0</td>\n",
       "      <td>0</td>\n",
       "      <td>2</td>\n",
       "      <td>4</td>\n",
       "      <td>20120102</td>\n",
       "      <td>20171005</td>\n",
       "      <td>187802.0</td>\n",
       "      <td>8</td>\n",
       "      <td>2</td>\n",
       "      <td>0</td>\n",
       "      <td>0</td>\n",
       "      <td>0</td>\n",
       "      <td>0</td>\n",
       "      <td>0</td>\n",
       "      <td>0</td>\n",
       "      <td>0</td>\n",
       "      <td>8</td>\n",
       "      <td>0</td>\n",
       "      <td>1</td>\n",
       "      <td>14</td>\n",
       "      <td>9</td>\n",
       "      <td>4</td>\n",
       "      <td>1</td>\n",
       "      <td>1</td>\n",
       "      <td>3</td>\n",
       "      <td>0</td>\n",
       "      <td>5417</td>\n",
       "      <td>4857</td>\n",
       "      <td>83</td>\n",
       "      <td>488</td>\n",
       "      <td>17</td>\n",
       "      <td>5992</td>\n",
       "      <td>-16.0</td>\n",
       "      <td>4313</td>\n",
       "      <td>342</td>\n",
       "      <td>1498090</td>\n",
       "      <td>332</td>\n",
       "      <td>2332163</td>\n",
       "    </tr>\n",
       "  </tbody>\n",
       "</table>\n",
       "</div>"
      ],
      "text/plain": [
       "    msno  song_id  ...  song_member_count  age_song_count\n",
       "0  22367   262515  ...                196         2332163\n",
       "1  32244    61887  ...                  1          209830\n",
       "2  32244   289862  ...                  3          209830\n",
       "3  32244    76491  ...                  1          209830\n",
       "4  22367   184457  ...                332         2332163\n",
       "\n",
       "[5 rows x 44 columns]"
      ]
     },
     "execution_count": 84,
     "metadata": {
      "tags": []
     },
     "output_type": "execute_result"
    }
   ],
   "source": [
    "train_data.head()"
   ]
  },
  {
   "cell_type": "markdown",
   "metadata": {
    "id": "_pOKhyYbTYwk"
   },
   "source": [
    "# **Apply Standard Scaler on Numerical data**"
   ]
  },
  {
   "cell_type": "code",
   "execution_count": null,
   "metadata": {
    "colab": {
     "base_uri": "https://localhost:8080/",
     "height": 66,
     "referenced_widgets": [
      "4b70a228396048da9ccba6c82f175437",
      "a791d82e79ac4c96bb07ba7b3bb1605e",
      "c26624a75ff4470dac7f68930b384fbc",
      "7a73828797c740e98e45983b915d7e82",
      "fb3b08fa95e14fe79e05d8309688f513",
      "562283ce674d402b911fe7eb2441dbe4",
      "d6b16d9619aa4719b311673bf9e7b3e9",
      "ceb77cc7fabd4f2fb58d6b1fb5ff3e69"
     ]
    },
    "executionInfo": {
     "elapsed": 3695,
     "status": "ok",
     "timestamp": 1615656570229,
     "user": {
      "displayName": "ajay jogiya",
      "photoUrl": "https://lh3.googleusercontent.com/a-/AOh14GgRAXM6e1-9rIRgaPP756Iug7UkbP0azqriVDFLww=s64",
      "userId": "14152685769056492470"
     },
     "user_tz": -330
    },
    "id": "ra4SeRSAEnEW",
    "outputId": "c2ad0d7c-b614-4573-c180-87aa69d21d24"
   },
   "outputs": [
    {
     "data": {
      "application/vnd.jupyter.widget-view+json": {
       "model_id": "4b70a228396048da9ccba6c82f175437",
       "version_major": 2,
       "version_minor": 0
      },
      "text/plain": [
       "HBox(children=(FloatProgress(value=0.0, max=10.0), HTML(value='')))"
      ]
     },
     "metadata": {
      "tags": []
     },
     "output_type": "display_data"
    },
    {
     "name": "stdout",
     "output_type": "stream",
     "text": [
      "\n"
     ]
    }
   ],
   "source": [
    "numerical_features = [ 'age_song_count','artist_song_count', 'bd','composer_count',\n",
    "                      'lang_song_count','lyricist_count',\n",
    "                      'member_song_count','song_length','song_member_count','age_song_count' ]\n",
    "\n",
    "train_data[numerical_features] = train_data[numerical_features].astype(float)\n",
    "val_data[numerical_features]   = val_data[numerical_features].astype(float)\n",
    "test_data[numerical_features]  = test_data[numerical_features].astype(float)\n",
    "\n",
    "for name in tqdm(numerical_features):\n",
    "    \n",
    "    scaler = StandardScaler()\n",
    "\n",
    "    train_data[name] = scaler.fit_transform(train_data[name].values.reshape(-1,1))\n",
    "    val_data[name]   = scaler.transform(val_data[name].values.reshape(-1,1))\n",
    "    test_data[name]  = scaler.transform(test_data[name].values.reshape(-1,1))"
   ]
  },
  {
   "cell_type": "code",
   "execution_count": null,
   "metadata": {
    "colab": {
     "base_uri": "https://localhost:8080/"
    },
    "executionInfo": {
     "elapsed": 63547,
     "status": "ok",
     "timestamp": 1615656949374,
     "user": {
      "displayName": "ajay jogiya",
      "photoUrl": "https://lh3.googleusercontent.com/a-/AOh14GgRAXM6e1-9rIRgaPP756Iug7UkbP0azqriVDFLww=s64",
      "userId": "14152685769056492470"
     },
     "user_tz": -330
    },
    "id": "czylbElpEnA_",
    "outputId": "05f57dd2-70fa-4a5f-d5f7-22a0e875b525"
   },
   "outputs": [
    {
     "name": "stdout",
     "output_type": "stream",
     "text": [
      "test_data saved.\n"
     ]
    }
   ],
   "source": [
    "#train_data.to_csv('train_data_final.csv')\n",
    "#print('train_data saved.')\n",
    "#val_data.to_csv('val_data_final.csv')\n",
    "#print('val_data saved.')\n",
    "#test_data.to_csv('test_data_final.csv')\n",
    "#print('test_data saved.')"
   ]
  },
  {
   "cell_type": "markdown",
   "metadata": {
    "id": "Ih0AAsfvoelU"
   },
   "source": [
    "# **Load encoded csv files**"
   ]
  },
  {
   "cell_type": "code",
   "execution_count": null,
   "metadata": {
    "id": "0E8uMtBloPrf"
   },
   "outputs": [],
   "source": [
    "train_data = pd.read_csv('train_data_final.csv')\n",
    "train_data = remove_funtion(train_data)\n",
    "\n",
    "val_data = pd.read_csv('val_data_final.csv')\n",
    "val_data = remove_funtion(val_data)\n",
    "\n",
    "test_data = pd.read_csv('test_data_final.csv')\n",
    "test_data = remove_funtion(test_data)"
   ]
  },
  {
   "cell_type": "code",
   "execution_count": null,
   "metadata": {
    "colab": {
     "base_uri": "https://localhost:8080/",
     "height": 227
    },
    "executionInfo": {
     "elapsed": 1333,
     "status": "ok",
     "timestamp": 1615045959408,
     "user": {
      "displayName": "Ajay Jogiya",
      "photoUrl": "",
      "userId": "12844089788344129075"
     },
     "user_tz": -330
    },
    "id": "ra2I5yrzIOBm",
    "outputId": "bfdf3123-3cf1-4346-983b-61a9da011126"
   },
   "outputs": [
    {
     "name": "stdout",
     "output_type": "stream",
     "text": [
      "(5901934, 39)\n"
     ]
    },
    {
     "data": {
      "text/html": [
       "<div>\n",
       "<style scoped>\n",
       "    .dataframe tbody tr th:only-of-type {\n",
       "        vertical-align: middle;\n",
       "    }\n",
       "\n",
       "    .dataframe tbody tr th {\n",
       "        vertical-align: top;\n",
       "    }\n",
       "\n",
       "    .dataframe thead th {\n",
       "        text-align: right;\n",
       "    }\n",
       "</style>\n",
       "<table border=\"1\" class=\"dataframe\">\n",
       "  <thead>\n",
       "    <tr style=\"text-align: right;\">\n",
       "      <th></th>\n",
       "      <th>msno</th>\n",
       "      <th>song_id</th>\n",
       "      <th>source_system_tab</th>\n",
       "      <th>source_screen_name</th>\n",
       "      <th>source_type</th>\n",
       "      <th>target</th>\n",
       "      <th>city</th>\n",
       "      <th>bd</th>\n",
       "      <th>gender</th>\n",
       "      <th>registered_via</th>\n",
       "      <th>song_length</th>\n",
       "      <th>language</th>\n",
       "      <th>regi_day</th>\n",
       "      <th>regi_month</th>\n",
       "      <th>regi_year</th>\n",
       "      <th>expire_day</th>\n",
       "      <th>expire_month</th>\n",
       "      <th>expire_year</th>\n",
       "      <th>binary_song_length</th>\n",
       "      <th>like_language</th>\n",
       "      <th>genre_id_count</th>\n",
       "      <th>composer_count</th>\n",
       "      <th>lyricist_count</th>\n",
       "      <th>genre_first_name</th>\n",
       "      <th>genre_second_name</th>\n",
       "      <th>genre_third_name</th>\n",
       "      <th>composer_first_name</th>\n",
       "      <th>first_artist_name</th>\n",
       "      <th>country_code</th>\n",
       "      <th>regi_code</th>\n",
       "      <th>year</th>\n",
       "      <th>designation_code</th>\n",
       "      <th>age_gap_between_song</th>\n",
       "      <th>member_song_count</th>\n",
       "      <th>artist_song_count</th>\n",
       "      <th>genre_song_count</th>\n",
       "      <th>lang_song_count</th>\n",
       "      <th>song_member_count</th>\n",
       "      <th>age_song_count</th>\n",
       "    </tr>\n",
       "  </thead>\n",
       "  <tbody>\n",
       "    <tr>\n",
       "      <th>0</th>\n",
       "      <td>8965</td>\n",
       "      <td>84523</td>\n",
       "      <td>1</td>\n",
       "      <td>7</td>\n",
       "      <td>6</td>\n",
       "      <td>1</td>\n",
       "      <td>0</td>\n",
       "      <td>-1.111453</td>\n",
       "      <td>2</td>\n",
       "      <td>4</td>\n",
       "      <td>-0.588458</td>\n",
       "      <td>8</td>\n",
       "      <td>8</td>\n",
       "      <td>0</td>\n",
       "      <td>11</td>\n",
       "      <td>14</td>\n",
       "      <td>1</td>\n",
       "      <td>26</td>\n",
       "      <td>1</td>\n",
       "      <td>1</td>\n",
       "      <td>-0.130036</td>\n",
       "      <td>0.364495</td>\n",
       "      <td>-0.712955</td>\n",
       "      <td>105</td>\n",
       "      <td>0</td>\n",
       "      <td>0</td>\n",
       "      <td>9432</td>\n",
       "      <td>3544</td>\n",
       "      <td>33</td>\n",
       "      <td>6119</td>\n",
       "      <td>17</td>\n",
       "      <td>2855</td>\n",
       "      <td>-16.0</td>\n",
       "      <td>7.943391</td>\n",
       "      <td>-0.567554</td>\n",
       "      <td>-1.308571</td>\n",
       "      <td>-0.619386</td>\n",
       "      <td>-0.539371</td>\n",
       "      <td>1.235834</td>\n",
       "    </tr>\n",
       "    <tr>\n",
       "      <th>1</th>\n",
       "      <td>18864</td>\n",
       "      <td>253223</td>\n",
       "      <td>3</td>\n",
       "      <td>8</td>\n",
       "      <td>4</td>\n",
       "      <td>1</td>\n",
       "      <td>4</td>\n",
       "      <td>0.423254</td>\n",
       "      <td>0</td>\n",
       "      <td>5</td>\n",
       "      <td>0.591377</td>\n",
       "      <td>8</td>\n",
       "      <td>7</td>\n",
       "      <td>7</td>\n",
       "      <td>17</td>\n",
       "      <td>14</td>\n",
       "      <td>11</td>\n",
       "      <td>2</td>\n",
       "      <td>0</td>\n",
       "      <td>1</td>\n",
       "      <td>-0.130036</td>\n",
       "      <td>-0.850259</td>\n",
       "      <td>-0.712955</td>\n",
       "      <td>34</td>\n",
       "      <td>0</td>\n",
       "      <td>0</td>\n",
       "      <td>44028</td>\n",
       "      <td>34784</td>\n",
       "      <td>107</td>\n",
       "      <td>480</td>\n",
       "      <td>100</td>\n",
       "      <td>9973</td>\n",
       "      <td>-75.0</td>\n",
       "      <td>0.070486</td>\n",
       "      <td>3.675868</td>\n",
       "      <td>-1.263638</td>\n",
       "      <td>-0.619386</td>\n",
       "      <td>-0.624141</td>\n",
       "      <td>-0.744474</td>\n",
       "    </tr>\n",
       "    <tr>\n",
       "      <th>2</th>\n",
       "      <td>18864</td>\n",
       "      <td>136821</td>\n",
       "      <td>3</td>\n",
       "      <td>8</td>\n",
       "      <td>4</td>\n",
       "      <td>1</td>\n",
       "      <td>4</td>\n",
       "      <td>0.423254</td>\n",
       "      <td>0</td>\n",
       "      <td>5</td>\n",
       "      <td>-0.302611</td>\n",
       "      <td>8</td>\n",
       "      <td>7</td>\n",
       "      <td>7</td>\n",
       "      <td>17</td>\n",
       "      <td>14</td>\n",
       "      <td>11</td>\n",
       "      <td>2</td>\n",
       "      <td>1</td>\n",
       "      <td>1</td>\n",
       "      <td>-0.130036</td>\n",
       "      <td>1.579249</td>\n",
       "      <td>-0.712955</td>\n",
       "      <td>34</td>\n",
       "      <td>0</td>\n",
       "      <td>0</td>\n",
       "      <td>29838</td>\n",
       "      <td>23184</td>\n",
       "      <td>107</td>\n",
       "      <td>6119</td>\n",
       "      <td>7</td>\n",
       "      <td>17502</td>\n",
       "      <td>18.0</td>\n",
       "      <td>0.070486</td>\n",
       "      <td>-0.579763</td>\n",
       "      <td>-1.263638</td>\n",
       "      <td>-0.619386</td>\n",
       "      <td>-0.623271</td>\n",
       "      <td>-0.744474</td>\n",
       "    </tr>\n",
       "    <tr>\n",
       "      <th>3</th>\n",
       "      <td>18864</td>\n",
       "      <td>26834</td>\n",
       "      <td>3</td>\n",
       "      <td>8</td>\n",
       "      <td>4</td>\n",
       "      <td>1</td>\n",
       "      <td>4</td>\n",
       "      <td>0.423254</td>\n",
       "      <td>0</td>\n",
       "      <td>5</td>\n",
       "      <td>0.152267</td>\n",
       "      <td>0</td>\n",
       "      <td>7</td>\n",
       "      <td>7</td>\n",
       "      <td>17</td>\n",
       "      <td>14</td>\n",
       "      <td>11</td>\n",
       "      <td>2</td>\n",
       "      <td>0</td>\n",
       "      <td>0</td>\n",
       "      <td>-0.130036</td>\n",
       "      <td>-0.242882</td>\n",
       "      <td>-0.712955</td>\n",
       "      <td>4</td>\n",
       "      <td>0</td>\n",
       "      <td>0</td>\n",
       "      <td>24176</td>\n",
       "      <td>29815</td>\n",
       "      <td>33</td>\n",
       "      <td>6129</td>\n",
       "      <td>11</td>\n",
       "      <td>64</td>\n",
       "      <td>14.0</td>\n",
       "      <td>0.070486</td>\n",
       "      <td>-0.583743</td>\n",
       "      <td>-1.371266</td>\n",
       "      <td>-1.671586</td>\n",
       "      <td>-0.624141</td>\n",
       "      <td>-0.744474</td>\n",
       "    </tr>\n",
       "    <tr>\n",
       "      <th>4</th>\n",
       "      <td>8965</td>\n",
       "      <td>37644</td>\n",
       "      <td>1</td>\n",
       "      <td>7</td>\n",
       "      <td>6</td>\n",
       "      <td>1</td>\n",
       "      <td>0</td>\n",
       "      <td>-1.111453</td>\n",
       "      <td>2</td>\n",
       "      <td>4</td>\n",
       "      <td>-0.870439</td>\n",
       "      <td>8</td>\n",
       "      <td>8</td>\n",
       "      <td>0</td>\n",
       "      <td>11</td>\n",
       "      <td>14</td>\n",
       "      <td>1</td>\n",
       "      <td>26</td>\n",
       "      <td>1</td>\n",
       "      <td>1</td>\n",
       "      <td>-0.130036</td>\n",
       "      <td>0.971872</td>\n",
       "      <td>-0.712955</td>\n",
       "      <td>3</td>\n",
       "      <td>0</td>\n",
       "      <td>0</td>\n",
       "      <td>5417</td>\n",
       "      <td>4857</td>\n",
       "      <td>83</td>\n",
       "      <td>488</td>\n",
       "      <td>17</td>\n",
       "      <td>5992</td>\n",
       "      <td>-16.0</td>\n",
       "      <td>7.943391</td>\n",
       "      <td>-0.577629</td>\n",
       "      <td>-1.350911</td>\n",
       "      <td>-0.619386</td>\n",
       "      <td>-0.480250</td>\n",
       "      <td>1.235834</td>\n",
       "    </tr>\n",
       "  </tbody>\n",
       "</table>\n",
       "</div>"
      ],
      "text/plain": [
       "    msno  song_id  ...  song_member_count  age_song_count\n",
       "0   8965    84523  ...          -0.539371        1.235834\n",
       "1  18864   253223  ...          -0.624141       -0.744474\n",
       "2  18864   136821  ...          -0.623271       -0.744474\n",
       "3  18864    26834  ...          -0.624141       -0.744474\n",
       "4   8965    37644  ...          -0.480250        1.235834\n",
       "\n",
       "[5 rows x 39 columns]"
      ]
     },
     "execution_count": 52,
     "metadata": {
      "tags": []
     },
     "output_type": "execute_result"
    }
   ],
   "source": [
    "print(train_data.shape)\n",
    "train_data.head()"
   ]
  },
  {
   "cell_type": "markdown",
   "metadata": {
    "id": "WG7Gm-Yr9Qar"
   },
   "source": [
    "# **For Feature Importance we take subset of data**"
   ]
  },
  {
   "cell_type": "code",
   "execution_count": null,
   "metadata": {
    "id": "28w3WDFAnS02"
   },
   "outputs": [],
   "source": [
    "y_train = train_data['target']\n",
    "train_data = train_data.drop('target',axis=1)"
   ]
  },
  {
   "cell_type": "code",
   "execution_count": null,
   "metadata": {
    "id": "MrUNplXno4io"
   },
   "outputs": [],
   "source": [
    "# because of less computation power we take 1 lakh points for feature importance.\n",
    "data = train_data[:100000]\n",
    "y = y_train[:100000]"
   ]
  },
  {
   "cell_type": "markdown",
   "metadata": {
    "id": "RSdJGHOBZj0-"
   },
   "source": [
    "# **Use Random Forest Classifier for Feature Importance**"
   ]
  },
  {
   "cell_type": "code",
   "execution_count": null,
   "metadata": {
    "colab": {
     "base_uri": "https://localhost:8080/"
    },
    "executionInfo": {
     "elapsed": 34421,
     "status": "ok",
     "timestamp": 1615657130581,
     "user": {
      "displayName": "ajay jogiya",
      "photoUrl": "https://lh3.googleusercontent.com/a-/AOh14GgRAXM6e1-9rIRgaPP756Iug7UkbP0azqriVDFLww=s64",
      "userId": "14152685769056492470"
     },
     "user_tz": -330
    },
    "id": "PPf7Uz0ymuTx",
    "outputId": "b987b22e-da76-428e-d88e-143294d41561"
   },
   "outputs": [
    {
     "data": {
      "text/plain": [
       "RandomForestClassifier(bootstrap=True, ccp_alpha=0.0, class_weight=None,\n",
       "                       criterion='gini', max_depth=None, max_features='auto',\n",
       "                       max_leaf_nodes=None, max_samples=None,\n",
       "                       min_impurity_decrease=0.0, min_impurity_split=None,\n",
       "                       min_samples_leaf=1, min_samples_split=2,\n",
       "                       min_weight_fraction_leaf=0.0, n_estimators=100,\n",
       "                       n_jobs=None, oob_score=False, random_state=None,\n",
       "                       verbose=0, warm_start=False)"
      ]
     },
     "execution_count": 93,
     "metadata": {
      "tags": []
     },
     "output_type": "execute_result"
    }
   ],
   "source": [
    "clf = RandomForestClassifier()\n",
    "clf.fit(data ,  y)"
   ]
  },
  {
   "cell_type": "code",
   "execution_count": null,
   "metadata": {
    "colab": {
     "base_uri": "https://localhost:8080/",
     "height": 133
    },
    "executionInfo": {
     "elapsed": 31148,
     "status": "ok",
     "timestamp": 1615657130587,
     "user": {
      "displayName": "ajay jogiya",
      "photoUrl": "https://lh3.googleusercontent.com/a-/AOh14GgRAXM6e1-9rIRgaPP756Iug7UkbP0azqriVDFLww=s64",
      "userId": "14152685769056492470"
     },
     "user_tz": -330
    },
    "id": "m4VWUm2Kpsah",
    "outputId": "3124c80b-1d26-46de-f9ce-96a4ffae98dd"
   },
   "outputs": [
    {
     "data": {
      "text/html": [
       "<div>\n",
       "<style scoped>\n",
       "    .dataframe tbody tr th:only-of-type {\n",
       "        vertical-align: middle;\n",
       "    }\n",
       "\n",
       "    .dataframe tbody tr th {\n",
       "        vertical-align: top;\n",
       "    }\n",
       "\n",
       "    .dataframe thead th {\n",
       "        text-align: right;\n",
       "    }\n",
       "</style>\n",
       "<table border=\"1\" class=\"dataframe\">\n",
       "  <thead>\n",
       "    <tr style=\"text-align: right;\">\n",
       "      <th></th>\n",
       "      <th>features</th>\n",
       "      <th>importance</th>\n",
       "    </tr>\n",
       "  </thead>\n",
       "  <tbody>\n",
       "    <tr>\n",
       "      <th>41</th>\n",
       "      <td>source_screen_name</td>\n",
       "      <td>0.075594</td>\n",
       "    </tr>\n",
       "    <tr>\n",
       "      <th>3</th>\n",
       "      <td>five_genre</td>\n",
       "      <td>0.057688</td>\n",
       "    </tr>\n",
       "    <tr>\n",
       "      <th>38</th>\n",
       "      <td>msno</td>\n",
       "      <td>0.054970</td>\n",
       "    </tr>\n",
       "  </tbody>\n",
       "</table>\n",
       "</div>"
      ],
      "text/plain": [
       "              features  importance\n",
       "41  source_screen_name    0.075594\n",
       "3           five_genre    0.057688\n",
       "38                msno    0.054970"
      ]
     },
     "execution_count": 94,
     "metadata": {
      "tags": []
     },
     "output_type": "execute_result"
    }
   ],
   "source": [
    "feature_impo = clf.feature_importances_.argsort()\n",
    "features = data.columns[feature_impo]\n",
    "\n",
    "rf_feature_impo = pd.DataFrame({ 'features' : features,'importance' : clf.feature_importances_ })\n",
    "rf_feature_impo = rf_feature_impo.sort_values('importance' , ascending=False)\n",
    "rf_feature_impo.head(3)"
   ]
  },
  {
   "cell_type": "code",
   "execution_count": null,
   "metadata": {
    "colab": {
     "base_uri": "https://localhost:8080/",
     "height": 567
    },
    "executionInfo": {
     "elapsed": 30022,
     "status": "ok",
     "timestamp": 1615657131569,
     "user": {
      "displayName": "ajay jogiya",
      "photoUrl": "https://lh3.googleusercontent.com/a-/AOh14GgRAXM6e1-9rIRgaPP756Iug7UkbP0azqriVDFLww=s64",
      "userId": "14152685769056492470"
     },
     "user_tz": -330
    },
    "id": "KhfHS-gap9TT",
    "outputId": "de151270-182f-4e42-c7a8-12704d3a49e5"
   },
   "outputs": [
    {
     "data": {
      "image/png": "[encoded data removed]",
      "text/plain": [
       "<Figure size 1440x504 with 1 Axes>"
      ]
     },
     "metadata": {
      "needs_background": "light",
      "tags": []
     },
     "output_type": "display_data"
    }
   ],
   "source": [
    "plt.figure(figsize= (20,7))\n",
    "plt.bar( rf_feature_impo['features'] , rf_feature_impo['importance'])\n",
    "plt.ylabel('Importance')\n",
    "plt.title('Feature Importance')\n",
    "plt.xticks(rotation=90)\n",
    "plt.xlabel('Name of Features')\n",
    "plt.show()"
   ]
  },
  {
   "cell_type": "markdown",
   "metadata": {
    "id": "pHRnCyZQ9Qaw"
   },
   "source": [
    "## Observation\n",
    "* From graph we see created features have good importance.\n",
    "* country_code , composer_count , one_genre ,expire_month ,city , regi_day , age_gap_between_song  have very less importance. so we will remove that features."
   ]
  },
  {
   "cell_type": "markdown",
   "metadata": {
    "id": "snm4asXZgpIx"
   },
   "source": [
    "# **Create 20 features with PCA**"
   ]
  },
  {
   "cell_type": "code",
   "execution_count": null,
   "metadata": {
    "id": "fHJkuWWL0jz5"
   },
   "outputs": [],
   "source": [
    "pca =  PCA(n_components=20)\n",
    "pca_train = pca.fit_transform(data)\n",
    "\n",
    "for i in range(20):\n",
    "    data['pca_feature'+ str(i)] = pca_train[:, i]\n",
    "    #test_new['pca_feature'+ str(i)]  = pca_test[:, i]"
   ]
  },
  {
   "cell_type": "code",
   "execution_count": null,
   "metadata": {
    "colab": {
     "base_uri": "https://localhost:8080/"
    },
    "executionInfo": {
     "elapsed": 71338,
     "status": "ok",
     "timestamp": 1615659891640,
     "user": {
      "displayName": "ajay jogiya",
      "photoUrl": "https://lh3.googleusercontent.com/a-/AOh14GgRAXM6e1-9rIRgaPP756Iug7UkbP0azqriVDFLww=s64",
      "userId": "14152685769056492470"
     },
     "user_tz": -330
    },
    "id": "MEXvwKGB7_Ya",
    "outputId": "c079fb05-11e5-43d3-80eb-3214587edbfe"
   },
   "outputs": [
    {
     "data": {
      "text/plain": [
       "RandomForestClassifier(bootstrap=True, ccp_alpha=0.0, class_weight=None,\n",
       "                       criterion='gini', max_depth=None, max_features='auto',\n",
       "                       max_leaf_nodes=None, max_samples=None,\n",
       "                       min_impurity_decrease=0.0, min_impurity_split=None,\n",
       "                       min_samples_leaf=1, min_samples_split=2,\n",
       "                       min_weight_fraction_leaf=0.0, n_estimators=100,\n",
       "                       n_jobs=None, oob_score=False, random_state=None,\n",
       "                       verbose=0, warm_start=False)"
      ]
     },
     "execution_count": 97,
     "metadata": {
      "tags": []
     },
     "output_type": "execute_result"
    }
   ],
   "source": [
    "clf = RandomForestClassifier()\n",
    "clf.fit(data , y)"
   ]
  },
  {
   "cell_type": "code",
   "execution_count": null,
   "metadata": {
    "colab": {
     "base_uri": "https://localhost:8080/",
     "height": 133
    },
    "executionInfo": {
     "elapsed": 1313,
     "status": "ok",
     "timestamp": 1615659893007,
     "user": {
      "displayName": "ajay jogiya",
      "photoUrl": "https://lh3.googleusercontent.com/a-/AOh14GgRAXM6e1-9rIRgaPP756Iug7UkbP0azqriVDFLww=s64",
      "userId": "14152685769056492470"
     },
     "user_tz": -330
    },
    "id": "7CKTncBG7_Ve",
    "outputId": "c2e276fa-6027-444e-bacb-f9f5e7b79d2a"
   },
   "outputs": [
    {
     "data": {
      "text/html": [
       "<div>\n",
       "<style scoped>\n",
       "    .dataframe tbody tr th:only-of-type {\n",
       "        vertical-align: middle;\n",
       "    }\n",
       "\n",
       "    .dataframe tbody tr th {\n",
       "        vertical-align: top;\n",
       "    }\n",
       "\n",
       "    .dataframe thead th {\n",
       "        text-align: right;\n",
       "    }\n",
       "</style>\n",
       "<table border=\"1\" class=\"dataframe\">\n",
       "  <thead>\n",
       "    <tr style=\"text-align: right;\">\n",
       "      <th></th>\n",
       "      <th>features</th>\n",
       "      <th>importance</th>\n",
       "    </tr>\n",
       "  </thead>\n",
       "  <tbody>\n",
       "    <tr>\n",
       "      <th>60</th>\n",
       "      <td>source_screen_name</td>\n",
       "      <td>0.054622</td>\n",
       "    </tr>\n",
       "    <tr>\n",
       "      <th>41</th>\n",
       "      <td>pca_feature7</td>\n",
       "      <td>0.049781</td>\n",
       "    </tr>\n",
       "    <tr>\n",
       "      <th>3</th>\n",
       "      <td>five_genre</td>\n",
       "      <td>0.038102</td>\n",
       "    </tr>\n",
       "  </tbody>\n",
       "</table>\n",
       "</div>"
      ],
      "text/plain": [
       "              features  importance\n",
       "60  source_screen_name    0.054622\n",
       "41        pca_feature7    0.049781\n",
       "3           five_genre    0.038102"
      ]
     },
     "execution_count": 98,
     "metadata": {
      "tags": []
     },
     "output_type": "execute_result"
    }
   ],
   "source": [
    "# get feature importance\n",
    "feature_impo = clf.feature_importances_.argsort()\n",
    "features = data.columns[feature_impo]\n",
    "\n",
    "rf_feature_impo = pd.DataFrame({ 'features' : features,'importance' : clf.feature_importances_ })\n",
    "rf_feature_impo = rf_feature_impo.sort_values('importance' , ascending=False)\n",
    "rf_feature_impo.head(3)"
   ]
  },
  {
   "cell_type": "code",
   "execution_count": null,
   "metadata": {
    "colab": {
     "base_uri": "https://localhost:8080/",
     "height": 567
    },
    "executionInfo": {
     "elapsed": 2814,
     "status": "ok",
     "timestamp": 1615659894531,
     "user": {
      "displayName": "ajay jogiya",
      "photoUrl": "https://lh3.googleusercontent.com/a-/AOh14GgRAXM6e1-9rIRgaPP756Iug7UkbP0azqriVDFLww=s64",
      "userId": "14152685769056492470"
     },
     "user_tz": -330
    },
    "id": "r-xzlx_a7_Td",
    "outputId": "151bac1d-3e42-4636-faae-7839dacf9c8d"
   },
   "outputs": [
    {
     "data": {
      "image/png": "[encoded data removed]",
      "text/plain": [
       "<Figure size 1440x504 with 1 Axes>"
      ]
     },
     "metadata": {
      "needs_background": "light",
      "tags": []
     },
     "output_type": "display_data"
    }
   ],
   "source": [
    "plt.figure(figsize= (20,7))\n",
    "plt.bar( rf_feature_impo['features'] , rf_feature_impo['importance'])\n",
    "plt.ylabel('Importance')\n",
    "plt.title('Feature Importance')\n",
    "plt.xticks(rotation=90)\n",
    "plt.xlabel('Name of Features')\n",
    "plt.show()"
   ]
  },
  {
   "cell_type": "markdown",
   "metadata": {
    "id": "rjaVD4yqhRZt"
   },
   "source": [
    "* We create 20 features form PCA.Train random forest model with all features.\n",
    "* Here we see that pca features perform well.\n",
    "* 5 feature are present in top 10 important features. "
   ]
  },
  {
   "cell_type": "markdown",
   "metadata": {
    "id": "GaO8kvBRSgSt"
   },
   "source": [
    "# **Create 20 Features with svd**"
   ]
  },
  {
   "cell_type": "code",
   "execution_count": null,
   "metadata": {
    "colab": {
     "base_uri": "https://localhost:8080/"
    },
    "executionInfo": {
     "elapsed": 2539,
     "status": "ok",
     "timestamp": 1615660011978,
     "user": {
      "displayName": "ajay jogiya",
      "photoUrl": "https://lh3.googleusercontent.com/a-/AOh14GgRAXM6e1-9rIRgaPP756Iug7UkbP0azqriVDFLww=s64",
      "userId": "14152685769056492470"
     },
     "user_tz": -330
    },
    "id": "a9xsV2p67_Ki",
    "outputId": "f3ffe08f-bcc7-45ba-e888-8e9e2b78ee8a"
   },
   "outputs": [
    {
     "name": "stdout",
     "output_type": "stream",
     "text": [
      "(100000, 83)\n"
     ]
    }
   ],
   "source": [
    "svd =  TruncatedSVD(n_components=20 , random_state=42)\n",
    "svd_train = svd.fit_transform(data)\n",
    "\n",
    "for i in range(20):\n",
    "    data['svd_feature'+ str(i)] = svd_train[:, i]\n",
    "    #test_new['pca_feature'+ str(i)]  = pca_test[:, i]\n",
    "\n",
    "print(data.shape)"
   ]
  },
  {
   "cell_type": "code",
   "execution_count": null,
   "metadata": {
    "colab": {
     "base_uri": "https://localhost:8080/"
    },
    "executionInfo": {
     "elapsed": 112460,
     "status": "ok",
     "timestamp": 1615660123262,
     "user": {
      "displayName": "ajay jogiya",
      "photoUrl": "https://lh3.googleusercontent.com/a-/AOh14GgRAXM6e1-9rIRgaPP756Iug7UkbP0azqriVDFLww=s64",
      "userId": "14152685769056492470"
     },
     "user_tz": -330
    },
    "id": "z7PsvXMYn10c",
    "outputId": "88609b13-c50e-480f-88be-d17e25c84a57"
   },
   "outputs": [
    {
     "data": {
      "text/plain": [
       "RandomForestClassifier(bootstrap=True, ccp_alpha=0.0, class_weight=None,\n",
       "                       criterion='gini', max_depth=None, max_features='auto',\n",
       "                       max_leaf_nodes=None, max_samples=None,\n",
       "                       min_impurity_decrease=0.0, min_impurity_split=None,\n",
       "                       min_samples_leaf=1, min_samples_split=2,\n",
       "                       min_weight_fraction_leaf=0.0, n_estimators=100,\n",
       "                       n_jobs=None, oob_score=False, random_state=None,\n",
       "                       verbose=0, warm_start=False)"
      ]
     },
     "execution_count": 101,
     "metadata": {
      "tags": []
     },
     "output_type": "execute_result"
    }
   ],
   "source": [
    "clf = RandomForestClassifier()\n",
    "clf.fit(data , y)"
   ]
  },
  {
   "cell_type": "code",
   "execution_count": null,
   "metadata": {
    "colab": {
     "base_uri": "https://localhost:8080/",
     "height": 133
    },
    "executionInfo": {
     "elapsed": 111004,
     "status": "ok",
     "timestamp": 1615660123264,
     "user": {
      "displayName": "ajay jogiya",
      "photoUrl": "https://lh3.googleusercontent.com/a-/AOh14GgRAXM6e1-9rIRgaPP756Iug7UkbP0azqriVDFLww=s64",
      "userId": "14152685769056492470"
     },
     "user_tz": -330
    },
    "id": "n3isCpSIn1yF",
    "outputId": "a2dc97ff-e7d4-4646-f96a-b9e51cfcb746"
   },
   "outputs": [
    {
     "data": {
      "text/html": [
       "<div>\n",
       "<style scoped>\n",
       "    .dataframe tbody tr th:only-of-type {\n",
       "        vertical-align: middle;\n",
       "    }\n",
       "\n",
       "    .dataframe tbody tr th {\n",
       "        vertical-align: top;\n",
       "    }\n",
       "\n",
       "    .dataframe thead th {\n",
       "        text-align: right;\n",
       "    }\n",
       "</style>\n",
       "<table border=\"1\" class=\"dataframe\">\n",
       "  <thead>\n",
       "    <tr style=\"text-align: right;\">\n",
       "      <th></th>\n",
       "      <th>features</th>\n",
       "      <th>importance</th>\n",
       "    </tr>\n",
       "  </thead>\n",
       "  <tbody>\n",
       "    <tr>\n",
       "      <th>41</th>\n",
       "      <td>pca_feature3</td>\n",
       "      <td>0.043979</td>\n",
       "    </tr>\n",
       "    <tr>\n",
       "      <th>60</th>\n",
       "      <td>pca_feature1</td>\n",
       "      <td>0.037344</td>\n",
       "    </tr>\n",
       "    <tr>\n",
       "      <th>3</th>\n",
       "      <td>five_genre</td>\n",
       "      <td>0.037117</td>\n",
       "    </tr>\n",
       "  </tbody>\n",
       "</table>\n",
       "</div>"
      ],
      "text/plain": [
       "        features  importance\n",
       "41  pca_feature3    0.043979\n",
       "60  pca_feature1    0.037344\n",
       "3     five_genre    0.037117"
      ]
     },
     "execution_count": 102,
     "metadata": {
      "tags": []
     },
     "output_type": "execute_result"
    }
   ],
   "source": [
    "# get feature importance\n",
    "feature_impo = clf.feature_importances_.argsort()\n",
    "features = data.columns[feature_impo]\n",
    "\n",
    "rf_feature_impo = pd.DataFrame({ 'features' : features,'importance' : clf.feature_importances_ })\n",
    "rf_feature_impo = rf_feature_impo.sort_values('importance' , ascending=False)\n",
    "rf_feature_impo.head(3)"
   ]
  },
  {
   "cell_type": "code",
   "execution_count": null,
   "metadata": {
    "colab": {
     "base_uri": "https://localhost:8080/",
     "height": 567
    },
    "executionInfo": {
     "elapsed": 112048,
     "status": "ok",
     "timestamp": 1615660124851,
     "user": {
      "displayName": "ajay jogiya",
      "photoUrl": "https://lh3.googleusercontent.com/a-/AOh14GgRAXM6e1-9rIRgaPP756Iug7UkbP0azqriVDFLww=s64",
      "userId": "14152685769056492470"
     },
     "user_tz": -330
    },
    "id": "WrdERGTZn1vI",
    "outputId": "9e970fd8-99f5-4a79-a0b5-bbdb3eb67000"
   },
   "outputs": [
    {
     "data": {
      "image/png": "[encoded data removed]",
      "text/plain": [
       "<Figure size 1440x504 with 1 Axes>"
      ]
     },
     "metadata": {
      "needs_background": "light",
      "tags": []
     },
     "output_type": "display_data"
    }
   ],
   "source": [
    "plt.figure(figsize= (20,7))\n",
    "plt.bar( rf_feature_impo['features'] , rf_feature_impo['importance'])\n",
    "plt.ylabel('Importance')\n",
    "plt.title('Feature Importance')\n",
    "plt.xticks(rotation=90)\n",
    "plt.xlabel('Name of Features')\n",
    "plt.show()"
   ]
  },
  {
   "cell_type": "markdown",
   "metadata": {
    "id": "jMnxv3W2SG43"
   },
   "source": [
    "* Here we are create 20 features with svd.\n",
    "* As we see in graph pca and svd both features perform well."
   ]
  },
  {
   "cell_type": "markdown",
   "metadata": {
    "id": "JY6XpkCNT_Q5"
   },
   "source": [
    "# **Conclusion**\n",
    "* Features that we created by PCA and SVD are perform well.\n",
    "* country_code , composer_count , one_genre ,expire_month ,city , regi_day , age_gap_between_song and after 3rd genres features perform very poor that may decrease perfomance of model so we will remove that features. "
   ]
  }
 ],
 "metadata": {
  "accelerator": "TPU",
  "colab": {
   "collapsed_sections": [],
   "machine_shape": "hm",
   "name": "FE_CS_2.ipynb",
   "provenance": [
    {
     "file_id": "1IzPbxNFQmmSYk9s14L4YjBfUgACn9mW2",
     "timestamp": 1615012904004
    },
    {
     "file_id": "1G7NKeneJNyRtcRxLVbbF9jYtRyuTOa-R",
     "timestamp": 1592749700622
    },
    {
     "file_id": "https://github.com/satyajitghana/TSAI-DeepVision-EVA4.0/blob/master/Utils/Colab_25GBRAM_GPU.ipynb",
     "timestamp": 1592043804148
    }
   ]
  },
  "kernelspec": {
   "display_name": "Python 3",
   "language": "python",
   "name": "python3"
  },
  "language_info": {
   "codemirror_mode": {
    "name": "ipython",
    "version": 3
   },
   "file_extension": ".py",
   "mimetype": "text/x-python",
   "name": "python",
   "nbconvert_exporter": "python",
   "pygments_lexer": "ipython3",
   "version": "3.7.3"
  },
  "widgets": {
   "application/vnd.jupyter.widget-state+json": {
    "4b70a228396048da9ccba6c82f175437": {
     "model_module": "@jupyter-widgets/controls",
     "model_name": "HBoxModel",
     "state": {
      "_dom_classes": [],
      "_model_module": "@jupyter-widgets/controls",
      "_model_module_version": "1.5.0",
      "_model_name": "HBoxModel",
      "_view_count": null,
      "_view_module": "@jupyter-widgets/controls",
      "_view_module_version": "1.5.0",
      "_view_name": "HBoxView",
      "box_style": "",
      "children": [
       "IPY_MODEL_c26624a75ff4470dac7f68930b384fbc",
       "IPY_MODEL_7a73828797c740e98e45983b915d7e82"
      ],
      "layout": "IPY_MODEL_a791d82e79ac4c96bb07ba7b3bb1605e"
     }
    },
    "562283ce674d402b911fe7eb2441dbe4": {
     "model_module": "@jupyter-widgets/base",
     "model_name": "LayoutModel",
     "state": {
      "_model_module": "@jupyter-widgets/base",
      "_model_module_version": "1.2.0",
      "_model_name": "LayoutModel",
      "_view_count": null,
      "_view_module": "@jupyter-widgets/base",
      "_view_module_version": "1.2.0",
      "_view_name": "LayoutView",
      "align_content": null,
      "align_items": null,
      "align_self": null,
      "border": null,
      "bottom": null,
      "display": null,
      "flex": null,
      "flex_flow": null,
      "grid_area": null,
      "grid_auto_columns": null,
      "grid_auto_flow": null,
      "grid_auto_rows": null,
      "grid_column": null,
      "grid_gap": null,
      "grid_row": null,
      "grid_template_areas": null,
      "grid_template_columns": null,
      "grid_template_rows": null,
      "height": null,
      "justify_content": null,
      "justify_items": null,
      "left": null,
      "margin": null,
      "max_height": null,
      "max_width": null,
      "min_height": null,
      "min_width": null,
      "object_fit": null,
      "object_position": null,
      "order": null,
      "overflow": null,
      "overflow_x": null,
      "overflow_y": null,
      "padding": null,
      "right": null,
      "top": null,
      "visibility": null,
      "width": null
     }
    },
    "7a73828797c740e98e45983b915d7e82": {
     "model_module": "@jupyter-widgets/controls",
     "model_name": "HTMLModel",
     "state": {
      "_dom_classes": [],
      "_model_module": "@jupyter-widgets/controls",
      "_model_module_version": "1.5.0",
      "_model_name": "HTMLModel",
      "_view_count": null,
      "_view_module": "@jupyter-widgets/controls",
      "_view_module_version": "1.5.0",
      "_view_name": "HTMLView",
      "description": "",
      "description_tooltip": null,
      "layout": "IPY_MODEL_ceb77cc7fabd4f2fb58d6b1fb5ff3e69",
      "placeholder": "​",
      "style": "IPY_MODEL_d6b16d9619aa4719b311673bf9e7b3e9",
      "value": " 10/10 [09:22&lt;00:00, 56.23s/it]"
     }
    },
    "a791d82e79ac4c96bb07ba7b3bb1605e": {
     "model_module": "@jupyter-widgets/base",
     "model_name": "LayoutModel",
     "state": {
      "_model_module": "@jupyter-widgets/base",
      "_model_module_version": "1.2.0",
      "_model_name": "LayoutModel",
      "_view_count": null,
      "_view_module": "@jupyter-widgets/base",
      "_view_module_version": "1.2.0",
      "_view_name": "LayoutView",
      "align_content": null,
      "align_items": null,
      "align_self": null,
      "border": null,
      "bottom": null,
      "display": null,
      "flex": null,
      "flex_flow": null,
      "grid_area": null,
      "grid_auto_columns": null,
      "grid_auto_flow": null,
      "grid_auto_rows": null,
      "grid_column": null,
      "grid_gap": null,
      "grid_row": null,
      "grid_template_areas": null,
      "grid_template_columns": null,
      "grid_template_rows": null,
      "height": null,
      "justify_content": null,
      "justify_items": null,
      "left": null,
      "margin": null,
      "max_height": null,
      "max_width": null,
      "min_height": null,
      "min_width": null,
      "object_fit": null,
      "object_position": null,
      "order": null,
      "overflow": null,
      "overflow_x": null,
      "overflow_y": null,
      "padding": null,
      "right": null,
      "top": null,
      "visibility": null,
      "width": null
     }
    },
    "c26624a75ff4470dac7f68930b384fbc": {
     "model_module": "@jupyter-widgets/controls",
     "model_name": "FloatProgressModel",
     "state": {
      "_dom_classes": [],
      "_model_module": "@jupyter-widgets/controls",
      "_model_module_version": "1.5.0",
      "_model_name": "FloatProgressModel",
      "_view_count": null,
      "_view_module": "@jupyter-widgets/controls",
      "_view_module_version": "1.5.0",
      "_view_name": "ProgressView",
      "bar_style": "success",
      "description": "100%",
      "description_tooltip": null,
      "layout": "IPY_MODEL_562283ce674d402b911fe7eb2441dbe4",
      "max": 10,
      "min": 0,
      "orientation": "horizontal",
      "style": "IPY_MODEL_fb3b08fa95e14fe79e05d8309688f513",
      "value": 10
     }
    },
    "ceb77cc7fabd4f2fb58d6b1fb5ff3e69": {
     "model_module": "@jupyter-widgets/base",
     "model_name": "LayoutModel",
     "state": {
      "_model_module": "@jupyter-widgets/base",
      "_model_module_version": "1.2.0",
      "_model_name": "LayoutModel",
      "_view_count": null,
      "_view_module": "@jupyter-widgets/base",
      "_view_module_version": "1.2.0",
      "_view_name": "LayoutView",
      "align_content": null,
      "align_items": null,
      "align_self": null,
      "border": null,
      "bottom": null,
      "display": null,
      "flex": null,
      "flex_flow": null,
      "grid_area": null,
      "grid_auto_columns": null,
      "grid_auto_flow": null,
      "grid_auto_rows": null,
      "grid_column": null,
      "grid_gap": null,
      "grid_row": null,
      "grid_template_areas": null,
      "grid_template_columns": null,
      "grid_template_rows": null,
      "height": null,
      "justify_content": null,
      "justify_items": null,
      "left": null,
      "margin": null,
      "max_height": null,
      "max_width": null,
      "min_height": null,
      "min_width": null,
      "object_fit": null,
      "object_position": null,
      "order": null,
      "overflow": null,
      "overflow_x": null,
      "overflow_y": null,
      "padding": null,
      "right": null,
      "top": null,
      "visibility": null,
      "width": null
     }
    },
    "d6b16d9619aa4719b311673bf9e7b3e9": {
     "model_module": "@jupyter-widgets/controls",
     "model_name": "DescriptionStyleModel",
     "state": {
      "_model_module": "@jupyter-widgets/controls",
      "_model_module_version": "1.5.0",
      "_model_name": "DescriptionStyleModel",
      "_view_count": null,
      "_view_module": "@jupyter-widgets/base",
      "_view_module_version": "1.2.0",
      "_view_name": "StyleView",
      "description_width": ""
     }
    },
    "fb3b08fa95e14fe79e05d8309688f513": {
     "model_module": "@jupyter-widgets/controls",
     "model_name": "ProgressStyleModel",
     "state": {
      "_model_module": "@jupyter-widgets/controls",
      "_model_module_version": "1.5.0",
      "_model_name": "ProgressStyleModel",
      "_view_count": null,
      "_view_module": "@jupyter-widgets/base",
      "_view_module_version": "1.2.0",
      "_view_name": "StyleView",
      "bar_color": null,
      "description_width": "initial"
     }
    }
   }
  }
 },
 "nbformat": 4,
 "nbformat_minor": 1
}
