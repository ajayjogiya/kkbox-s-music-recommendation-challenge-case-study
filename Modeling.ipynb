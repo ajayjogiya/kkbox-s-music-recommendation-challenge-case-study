{
 "cells": [
  {
   "cell_type": "code",
   "execution_count": 7,
   "metadata": {
    "executionInfo": {
     "elapsed": 1835,
     "status": "ok",
     "timestamp": 1616286896790,
     "user": {
      "displayName": "ajay jogiya",
      "photoUrl": "https://lh3.googleusercontent.com/a-/AOh14GgRAXM6e1-9rIRgaPP756Iug7UkbP0azqriVDFLww=s64",
      "userId": "14152685769056492470"
     },
     "user_tz": -330
    },
    "id": "eFiSto7as9TN"
   },
   "outputs": [],
   "source": [
    "import os\n",
    "import pandas as pd\n",
    "import numpy as np\n",
    "import matplotlib.pyplot as plt\n",
    "import seaborn as sns\n",
    "import warnings\n",
    "warnings.filterwarnings(\"ignore\")\n",
    "#from sklearn.impute import KNNImputer\n",
    "#from tqdm.notebook import tqdm\n",
    "from sklearn.preprocessing import StandardScaler\n",
    "import time\n",
    "from sklearn.decomposition import PCA\n",
    "from sklearn.preprocessing import LabelEncoder\n",
    "#from sklearn.ensemble import RandomForestClassifier ,AdaBoostClassifier ,StackingClassifier ,GradientBoostingClassifier\n",
    "from sklearn.decomposition import TruncatedSVD\n",
    "#import lightgbm as lgb\n",
    "from sklearn.tree import DecisionTreeClassifier\n",
    "from sklearn.metrics import roc_auc_score\n",
    "from sklearn.model_selection import train_test_split , RandomizedSearchCV ,GridSearchCV\n",
    "from xgboost import XGBClassifier\n",
    "#from lightgbm import LGBMClassifier\n",
    "from sklearn.feature_selection import SelectKBest, f_classif\n",
    "#from prettytable import PrettyTable"
   ]
  },
  {
   "cell_type": "code",
   "execution_count": 26,
   "metadata": {
    "colab": {
     "base_uri": "https://localhost:8080/"
    },
    "executionInfo": {
     "elapsed": 24069,
     "status": "ok",
     "timestamp": 1616286919443,
     "user": {
      "displayName": "ajay jogiya",
      "photoUrl": "https://lh3.googleusercontent.com/a-/AOh14GgRAXM6e1-9rIRgaPP756Iug7UkbP0azqriVDFLww=s64",
      "userId": "14152685769056492470"
     },
     "user_tz": -330
    },
    "id": "i6y616YktImS",
    "outputId": "1ea7a438-7df6-4308-f022-e18508309975"
   },
   "outputs": [
    {
     "name": "stdout",
     "output_type": "stream",
     "text": [
      "Mounted at /content/drive\n"
     ]
    }
   ],
   "source": [
    "from google.colab import drive\n",
    "drive.mount('/content/drive')"
   ]
  },
  {
   "cell_type": "code",
   "execution_count": 11,
   "metadata": {
    "executionInfo": {
     "elapsed": 2787,
     "status": "ok",
     "timestamp": 1616286921918,
     "user": {
      "displayName": "ajay jogiya",
      "photoUrl": "https://lh3.googleusercontent.com/a-/AOh14GgRAXM6e1-9rIRgaPP756Iug7UkbP0azqriVDFLww=s64",
      "userId": "14152685769056492470"
     },
     "user_tz": -330
    },
    "id": "b0yKF79DtR0Q"
   },
   "outputs": [],
   "source": [
    "def remove_funtion(data):\n",
    "    for i in data.columns:\n",
    "        if i.split()[0] == 'Unnamed:':\n",
    "            data = data.drop(i,axis = 1)\n",
    "    return data\n",
    "\n",
    "def train_test_pred(clf,x_train , x_val):\n",
    "    p_train = clf.predict_proba(x_train)\n",
    "    print('AUC Score of Train Data : ',roc_auc_score(y_train , p_train[:,1]))\n",
    "\n",
    "    p_test = clf.predict_proba(x_val)\n",
    "    print('AUC Score of Val_data   : ',roc_auc_score(y_val, p_test[:,1]))\n",
    "\n",
    "def test_pred(clf,test_data , file_name):\n",
    "\n",
    "    submission = pd.DataFrame(columns = ['id','target'])\n",
    "\n",
    "    submission['id'] = ids\n",
    "\n",
    "    #test_data = test_data.drop('id',axis = 1)\n",
    "\n",
    "    pred = clf.predict_proba(test_data)\n",
    "\n",
    "    submission['target'] = pred[:,1]\n",
    "\n",
    "    submission.to_csv('/content/{}.csv'.format(file_name),index=False)\n",
    "\n",
    "    return 'Prediction on Test Data is saved.'\n",
    "\n",
    "def feature_impotance_plot(clf , title):\n",
    "    feature_impo = clf.feature_importances_.argsort()\n",
    "    features = x_train.columns[feature_impo]\n",
    "    rf = pd.DataFrame({'features' : features , 'importance' : clf.feature_importances_  })\n",
    "    rf = rf.sort_values('importance' , ascending=False)\n",
    "    rf.head(3)\n",
    "\n",
    "    plt.figure(figsize= (20,7))\n",
    "    plt.bar( rf['features'] , rf['importance'])\n",
    "    plt.ylabel('Importance')\n",
    "    plt.title('Feature Importance of {}'.format(title))\n",
    "    plt.xticks(rotation=90)\n",
    "    plt.xlabel('Name of Features')\n",
    "    plt.show()\n",
    "    "
   ]
  },
  {
   "cell_type": "code",
   "execution_count": 28,
   "metadata": {
    "executionInfo": {
     "elapsed": 2170,
     "status": "ok",
     "timestamp": 1616286923256,
     "user": {
      "displayName": "ajay jogiya",
      "photoUrl": "https://lh3.googleusercontent.com/a-/AOh14GgRAXM6e1-9rIRgaPP756Iug7UkbP0azqriVDFLww=s64",
      "userId": "14152685769056492470"
     },
     "user_tz": -330
    },
    "id": "U2kHo2QfS7_b"
   },
   "outputs": [],
   "source": [
    "os.chdir('/content/drive/MyDrive/Case_study_1/original_csv_files/csv_files')\n",
    "files = os.listdir()"
   ]
  },
  {
   "cell_type": "markdown",
   "metadata": {
    "id": "M_xulRDY7Phx"
   },
   "source": [
    "# **Label encoding**"
   ]
  },
  {
   "cell_type": "code",
   "execution_count": 30,
   "metadata": {
    "executionInfo": {
     "elapsed": 1020,
     "status": "ok",
     "timestamp": 1616287185731,
     "user": {
      "displayName": "ajay jogiya",
      "photoUrl": "https://lh3.googleusercontent.com/a-/AOh14GgRAXM6e1-9rIRgaPP756Iug7UkbP0azqriVDFLww=s64",
      "userId": "14152685769056492470"
     },
     "user_tz": -330
    },
    "id": "M9obB12C3RNh"
   },
   "outputs": [],
   "source": [
    "train_data = pd.read_csv('train_data_final.csv')\n",
    "train_data  = remove_funtion(train_data)\n",
    "\n",
    "val_data  = pd.read_csv('val_data_final.csv')\n",
    "val_data  = remove_funtion(val_data)\n",
    "\n",
    "test_data = pd.read_csv('test_data_final.csv')\n",
    "test_data = remove_funtion(test_data)"
   ]
  },
  {
   "cell_type": "code",
   "execution_count": null,
   "metadata": {},
   "outputs": [],
   "source": [
    "x_train = train_data.samaple(187500)\n",
    "x_val   = val_data.sample(62500)\n",
    "\n",
    "y_train = x_train['target']\n",
    "x_train = x_train.drop('target',axis = 1 )\n",
    "\n",
    "y_val  = x_val_['target']\n",
    "x_val = x_val.drop('target' , axis = 1 )"
   ]
  },
  {
   "cell_type": "code",
   "execution_count": 22,
   "metadata": {
    "colab": {
     "base_uri": "https://localhost:8080/"
    },
    "executionInfo": {
     "elapsed": 2451,
     "status": "ok",
     "timestamp": 1616286715081,
     "user": {
      "displayName": "ajay jogiya",
      "photoUrl": "https://lh3.googleusercontent.com/a-/AOh14GgRAXM6e1-9rIRgaPP756Iug7UkbP0azqriVDFLww=s64",
      "userId": "14152685769056492470"
     },
     "user_tz": -330
    },
    "id": "tDCl8OZlZjZR",
    "outputId": "90756204-2b1e-4d79-c5de-7928202f781e"
   },
   "outputs": [
    {
     "name": "stdout",
     "output_type": "stream",
     "text": [
      "Train Shape : (187500, 32) (187500, 1)\n",
      "Vali  Shape : (62500, 32) (62500, 1)\n",
      "Test  shape : (2556790, 32)\n"
     ]
    }
   ],
   "source": [
    "#drop_list = [ 'country_code ' , 'composer_count' , 'one_genre','expire_month','city' ,'regi_day','age_gap_between_song' ,'isrc']\n",
    "\n",
    "#x_train = x_train.drop(drop_list,axis = 1)\n",
    "#x_val   = x_val.drop(drop_list,axis = 1)\n",
    "#test_data  = test_data.drop(drop_list,axis = 1)\n",
    "\n",
    "print('Train Shape :',x_train.shape , y_train.shape)\n",
    "print('Vali  Shape :',x_val.shape , y_val.shape)\n",
    "print('Test  shape :',test_data.shape)"
   ]
  },
  {
   "cell_type": "code",
   "execution_count": null,
   "metadata": {
    "colab": {
     "base_uri": "https://localhost:8080/"
    },
    "executionInfo": {
     "elapsed": 63547,
     "status": "ok",
     "timestamp": 1615656949374,
     "user": {
      "displayName": "ajay jogiya",
      "photoUrl": "https://lh3.googleusercontent.com/a-/AOh14GgRAXM6e1-9rIRgaPP756Iug7UkbP0azqriVDFLww=s64",
      "userId": "14152685769056492470"
     },
     "user_tz": -330
    },
    "id": "czylbElpEnA_",
    "outputId": "05f57dd2-70fa-4a5f-d5f7-22a0e875b525"
   },
   "outputs": [
    {
     "name": "stdout",
     "output_type": "stream",
     "text": [
      "test_data saved.\n"
     ]
    }
   ],
   "source": [
    "#x_train.to_csv('x_train.csv')\n",
    "#y_train.to_csv('y_train.csv')\n",
    "#print('train data saved.')\n",
    "\n",
    "#x_val.to_csv('x_val.csv')\n",
    "#y_val.to_csv('y_val.csv')\n",
    "#print('val data saved.')\n",
    "\n",
    "#test_data.to_csv('test_data.csv')\n",
    "#y_test.to_csv('y_t.csv')\n",
    "#print('test data saved.') "
   ]
  },
  {
   "cell_type": "markdown",
   "metadata": {
    "id": "tklFVyPJBxxW"
   },
   "source": [
    "# **load csv files**"
   ]
  },
  {
   "cell_type": "code",
   "execution_count": 20,
   "metadata": {
    "executionInfo": {
     "elapsed": 2271,
     "status": "ok",
     "timestamp": 1616286661082,
     "user": {
      "displayName": "ajay jogiya",
      "photoUrl": "https://lh3.googleusercontent.com/a-/AOh14GgRAXM6e1-9rIRgaPP756Iug7UkbP0azqriVDFLww=s64",
      "userId": "14152685769056492470"
     },
     "user_tz": -330
    },
    "id": "5AXM55nKSTaH"
   },
   "outputs": [],
   "source": [
    "x_train = pd.read_csv('x_train.csv')\n",
    "x_train = remove_funtion(x_train)\n",
    "y_train = pd.read_csv('y_train.csv')\n",
    "y_train = remove_funtion(y_train)\n",
    "\n",
    "val_data = pd.read_csv('x_val.csv')\n",
    "x_val = remove_funtion(val_data)\n",
    "y_val    = pd.read_csv('y_val.csv')\n",
    "y_val    = remove_funtion(y_val)\n",
    "\n",
    "test_data = pd.read_csv('test_data.csv')\n",
    "test_data = remove_funtion(test_data)\n",
    "ids = test_data['id']\n",
    "test_data = test_data.drop('id',axis = 1)"
   ]
  },
  {
   "cell_type": "code",
   "execution_count": 6,
   "metadata": {
    "colab": {
     "base_uri": "https://localhost:8080/",
     "height": 0
    },
    "executionInfo": {
     "elapsed": 1046,
     "status": "ok",
     "timestamp": 1616278804886,
     "user": {
      "displayName": "ajay jogiya",
      "photoUrl": "https://lh3.googleusercontent.com/a-/AOh14GgRAXM6e1-9rIRgaPP756Iug7UkbP0azqriVDFLww=s64",
      "userId": "14152685769056492470"
     },
     "user_tz": -330
    },
    "id": "q27FgHuoSTWz",
    "outputId": "16e0bd7c-9319-4b8d-a813-955298ca6b1f"
   },
   "outputs": [
    {
     "name": "stdout",
     "output_type": "stream",
     "text": [
      "Train Shape : (187500, 32) (187500, 1)\n",
      "Vali  Shape : (62500, 32) (62500, 1)\n",
      "Test  shape : (2556790, 32)\n"
     ]
    }
   ],
   "source": [
    "print('Train Shape :',x_train.shape , y_train.shape)\n",
    "print('Vali  Shape :',x_val.shape , y_val.shape)\n",
    "print('Test  shape :',test_data.shape)"
   ]
  },
  {
   "cell_type": "code",
   "execution_count": null,
   "metadata": {
    "colab": {
     "base_uri": "https://localhost:8080/"
    },
    "executionInfo": {
     "elapsed": 1063,
     "status": "ok",
     "timestamp": 1616216529896,
     "user": {
      "displayName": "ajay jogiya",
      "photoUrl": "https://lh3.googleusercontent.com/a-/AOh14GgRAXM6e1-9rIRgaPP756Iug7UkbP0azqriVDFLww=s64",
      "userId": "14152685769056492470"
     },
     "user_tz": -330
    },
    "id": "DQO9l18D2rhP",
    "outputId": "640892de-65c2-4920-ff51-c8f5c431aa9d"
   },
   "outputs": [
    {
     "data": {
      "text/plain": [
       "Index(['msno', 'song_id', 'source_system_tab', 'source_screen_name',\n",
       "       'source_type', 'bd', 'registered_via', 'regi_month', 'regi_year',\n",
       "       'expire_day', 'expire_year', 'imputed_bd', 'song_length', 'artist_name',\n",
       "       'composer', 'lyricist', 'language', 'name', 'two_genre',\n",
       "       'binary_song_length', 'like_language', 'lyricist_count',\n",
       "       'composer_first_name', 'first_artist_name', 'regi_code', 'year',\n",
       "       'designation_code', 'member_song_count', 'artist_song_count',\n",
       "       'lang_song_count', 'song_member_count', 'age_song_count'],\n",
       "      dtype='object')"
      ]
     },
     "execution_count": 8,
     "metadata": {
      "tags": []
     },
     "output_type": "execute_result"
    }
   ],
   "source": [
    "x_train.columns"
   ]
  },
  {
   "cell_type": "code",
   "execution_count": null,
   "metadata": {
    "colab": {
     "base_uri": "https://localhost:8080/",
     "height": 399
    },
    "executionInfo": {
     "elapsed": 1163,
     "status": "ok",
     "timestamp": 1616174265114,
     "user": {
      "displayName": "ajay jogiya",
      "photoUrl": "https://lh3.googleusercontent.com/a-/AOh14GgRAXM6e1-9rIRgaPP756Iug7UkbP0azqriVDFLww=s64",
      "userId": "14152685769056492470"
     },
     "user_tz": -330
    },
    "id": "D7BP--OchkuN",
    "outputId": "530c5806-2068-4c4e-bd17-bd0dfc266305"
   },
   "outputs": [
    {
     "data": {
      "image/png": "[encoded data removed]",
      "text/plain": [
       "<Figure size 1152x432 with 1 Axes>"
      ]
     },
     "metadata": {
      "needs_background": "light",
      "tags": []
     },
     "output_type": "display_data"
    }
   ],
   "source": [
    "plt.figure(figsize = (16,6))\n",
    "ax = sns.countplot(x= 'target' , data = y_train)\n",
    "h,l = ax.get_legend_handles_labels()\n",
    "ax.legend(h ,l,bbox_to_anchor=(1.05, 1) ,loc = 'upper left')\n",
    "plt.setp(ax.get_xticklabels() , rotation = 90 )\n",
    "plt.title('count plot of {}'.format('y_train'))\n",
    "plt.show()"
   ]
  },
  {
   "cell_type": "code",
   "execution_count": null,
   "metadata": {
    "colab": {
     "base_uri": "https://localhost:8080/",
     "height": 399
    },
    "executionInfo": {
     "elapsed": 1155,
     "status": "ok",
     "timestamp": 1615793450014,
     "user": {
      "displayName": "ajay jogiya",
      "photoUrl": "https://lh3.googleusercontent.com/a-/AOh14GgRAXM6e1-9rIRgaPP756Iug7UkbP0azqriVDFLww=s64",
      "userId": "14152685769056492470"
     },
     "user_tz": -330
    },
    "id": "wluqmFimnEuM",
    "outputId": "81b1f39c-0e71-45a4-bb46-445a0f7aefc3"
   },
   "outputs": [
    {
     "data": {
      "image/png": "[encoded data removed]",
      "text/plain": [
       "<Figure size 1152x432 with 1 Axes>"
      ]
     },
     "metadata": {
      "needs_background": "light",
      "tags": []
     },
     "output_type": "display_data"
    }
   ],
   "source": [
    "plt.figure(figsize = (16,6))\n",
    "ax = sns.countplot(x= 'target' , data = y_val)\n",
    "h,l = ax.get_legend_handles_labels()\n",
    "ax.legend(h ,l,bbox_to_anchor=(1.05, 1) ,loc = 'upper left')\n",
    "plt.setp(ax.get_xticklabels() , rotation = 90 )\n",
    "plt.title('count plot of {}'.format('y_train'))\n",
    "plt.show()"
   ]
  },
  {
   "cell_type": "markdown",
   "metadata": {
    "id": "8wxGuDjyqfSx"
   },
   "source": [
    "# **Decision Tree**"
   ]
  },
  {
   "cell_type": "code",
   "execution_count": null,
   "metadata": {
    "colab": {
     "base_uri": "https://localhost:8080/"
    },
    "executionInfo": {
     "elapsed": 916792,
     "status": "ok",
     "timestamp": 1615312595902,
     "user": {
      "displayName": "ajay jogiya",
      "photoUrl": "https://lh3.googleusercontent.com/a-/AOh14GgRAXM6e1-9rIRgaPP756Iug7UkbP0azqriVDFLww=s64",
      "userId": "14152685769056492470"
     },
     "user_tz": -330
    },
    "id": "8RTNApwLaJ7t",
    "outputId": "f8e32a60-bca5-491d-dee0-c45a539496ff"
   },
   "outputs": [
    {
     "name": "stdout",
     "output_type": "stream",
     "text": [
      "Fitting 5 folds for each of 160 candidates, totalling 800 fits\n"
     ]
    },
    {
     "name": "stderr",
     "output_type": "stream",
     "text": [
      "[Parallel(n_jobs=-1)]: Using backend LokyBackend with 2 concurrent workers.\n",
      "[Parallel(n_jobs=-1)]: Done  28 tasks      | elapsed:   17.8s\n",
      "[Parallel(n_jobs=-1)]: Done 124 tasks      | elapsed:  1.4min\n",
      "[Parallel(n_jobs=-1)]: Done 284 tasks      | elapsed:  3.7min\n",
      "[Parallel(n_jobs=-1)]: Done 508 tasks      | elapsed:  8.0min\n",
      "[Parallel(n_jobs=-1)]: Done 796 tasks      | elapsed: 15.1min\n",
      "[Parallel(n_jobs=-1)]: Done 800 out of 800 | elapsed: 15.2min finished\n"
     ]
    },
    {
     "name": "stdout",
     "output_type": "stream",
     "text": [
      "DecisionTreeClassifier(ccp_alpha=0.0, class_weight=None, criterion='gini',\n",
      "                       max_depth=10, max_features=None, max_leaf_nodes=92,\n",
      "                       min_impurity_decrease=0.0, min_impurity_split=None,\n",
      "                       min_samples_leaf=1, min_samples_split=50,\n",
      "                       min_weight_fraction_leaf=0.0, presort='deprecated',\n",
      "                       random_state=42, splitter='best')\n",
      "Train AUC  : 0.7023987302887769\n",
      "Val AUC    : 0.7007307009766528\n"
     ]
    }
   ],
   "source": [
    "start = time.time()\n",
    "params = {\n",
    "            'max_depth' : [ 3,5,8,10] , \n",
    "            'min_samples_split' : [ 50,100,200,300],\n",
    "            'max_leaf_nodes' : list(range(2, 100 ,10))\n",
    "}\n",
    "clf = DecisionTreeClassifier(random_state=42)\n",
    "model = GridSearchCV(clf , params , scoring='roc_auc' , n_jobs=-1 , verbose=3 , cv = 5)\n",
    "model.fit(x_train , y_train)\n",
    "\n",
    "print(model.best_estimator_)\n",
    "print('Train AUC  :' , model.score(x_train , y_train))\n",
    "print('Val AUC    :' , model.score(x_test , y_test))"
   ]
  },
  {
   "cell_type": "code",
   "execution_count": null,
   "metadata": {
    "id": "RLUV4cyPB18X"
   },
   "outputs": [],
   "source": [
    "clf = DecisionTreeClassifier(  ccp_alpha=0.0, class_weight=None, criterion='gini',\n",
    "                       max_depth=10, max_features=None, max_leaf_nodes=92,\n",
    "                       min_impurity_decrease=0.0, min_impurity_split=None,\n",
    "                       min_samples_leaf=1, min_samples_split=50,\n",
    "                       min_weight_fraction_leaf=0.0, presort='deprecated',\n",
    "                       random_state=42, splitter='best'  )"
   ]
  },
  {
   "cell_type": "code",
   "execution_count": null,
   "metadata": {
    "colab": {
     "base_uri": "https://localhost:8080/"
    },
    "executionInfo": {
     "elapsed": 1115,
     "status": "ok",
     "timestamp": 1615793792915,
     "user": {
      "displayName": "ajay jogiya",
      "photoUrl": "https://lh3.googleusercontent.com/a-/AOh14GgRAXM6e1-9rIRgaPP756Iug7UkbP0azqriVDFLww=s64",
      "userId": "14152685769056492470"
     },
     "user_tz": -330
    },
    "id": "v5eWr4IgzUMw",
    "outputId": "ad735238-3d9d-448d-9b4e-850f6fed586c"
   },
   "outputs": [
    {
     "name": "stdout",
     "output_type": "stream",
     "text": [
      "AUC Score of Train Data :  0.7016920747625112\n",
      "AUC Score of Val_data   :  0.6969647662261466\n"
     ]
    }
   ],
   "source": [
    "train_test_pred(clf , x_train , x_val)"
   ]
  },
  {
   "cell_type": "code",
   "execution_count": null,
   "metadata": {
    "colab": {
     "base_uri": "https://localhost:8080/",
     "height": 34
    },
    "executionInfo": {
     "elapsed": 8922,
     "status": "ok",
     "timestamp": 1615793861211,
     "user": {
      "displayName": "ajay jogiya",
      "photoUrl": "https://lh3.googleusercontent.com/a-/AOh14GgRAXM6e1-9rIRgaPP756Iug7UkbP0azqriVDFLww=s64",
      "userId": "14152685769056492470"
     },
     "user_tz": -330
    },
    "id": "CtraQkg-FLnP",
    "outputId": "963fb0df-029f-4064-83a0-92e32fd88c39"
   },
   "outputs": [
    {
     "data": {
      "application/vnd.google.colaboratory.intrinsic+json": {
       "type": "string"
      },
      "text/plain": [
       "'Prediction on Test Data is saved.'"
      ]
     },
     "execution_count": 32,
     "metadata": {
      "tags": []
     },
     "output_type": "execute_result"
    }
   ],
   "source": [
    "test_pred(clf,test_data,'decision_tree')"
   ]
  },
  {
   "cell_type": "code",
   "execution_count": null,
   "metadata": {
    "colab": {
     "base_uri": "https://localhost:8080/",
     "height": 554
    },
    "executionInfo": {
     "elapsed": 1753,
     "status": "ok",
     "timestamp": 1615793809205,
     "user": {
      "displayName": "ajay jogiya",
      "photoUrl": "https://lh3.googleusercontent.com/a-/AOh14GgRAXM6e1-9rIRgaPP756Iug7UkbP0azqriVDFLww=s64",
      "userId": "14152685769056492470"
     },
     "user_tz": -330
    },
    "id": "AcUVIhSaR3Dn",
    "outputId": "a178b3c7-0d46-41c4-d47f-cc474796dc28"
   },
   "outputs": [
    {
     "data": {
      "image/png": "[encoded data removed]",
      "text/plain": [
       "<Figure size 1440x504 with 1 Axes>"
      ]
     },
     "metadata": {
      "needs_background": "light",
      "tags": []
     },
     "output_type": "display_data"
    }
   ],
   "source": [
    "feature_impotance_plot(clf , 'Decision Tree')"
   ]
  },
  {
   "cell_type": "markdown",
   "metadata": {
    "id": "AyH17g6rYbZE"
   },
   "source": [
    "# **Random Forest**"
   ]
  },
  {
   "cell_type": "code",
   "execution_count": null,
   "metadata": {
    "colab": {
     "base_uri": "https://localhost:8080/"
    },
    "executionInfo": {
     "elapsed": 6409,
     "status": "ok",
     "timestamp": 1615796629037,
     "user": {
      "displayName": "ajay jogiya",
      "photoUrl": "https://lh3.googleusercontent.com/a-/AOh14GgRAXM6e1-9rIRgaPP756Iug7UkbP0azqriVDFLww=s64",
      "userId": "14152685769056492470"
     },
     "user_tz": -330
    },
    "id": "K9Xbqvd9tXEW",
    "outputId": "37c65af1-ad4f-4fb4-9ac7-0feeb4c0e0dd"
   },
   "outputs": [
    {
     "name": "stdout",
     "output_type": "stream",
     "text": [
      "RandomForestClassifier(bootstrap=True, ccp_alpha=0.0, class_weight='balanced',\n",
      "                       criterion='gini', max_depth=15, max_features='auto',\n",
      "                       max_leaf_nodes=None, max_samples=None,\n",
      "                       min_impurity_decrease=0.0, min_impurity_split=None,\n",
      "                       min_samples_leaf=1, min_samples_split=100,\n",
      "                       min_weight_fraction_leaf=0.0, n_estimators=100,\n",
      "                       n_jobs=None, oob_score=False, random_state=42, verbose=0,\n",
      "                       warm_start=False)\n",
      "Train AUC  : 0.7693277528416759\n",
      "Val AUC    : 0.7099977955828711\n"
     ]
    }
   ],
   "source": [
    "params = {\n",
    "    'max_depth' : [ 3,5,8,10,13,15] , \n",
    "    'min_samples_split' : [ 3,50,100,200]}\n",
    "\n",
    "clf = RandomForestClassifier(class_weight = 'balanced' , random_state=42)\n",
    "\n",
    "model = RandomizedSearchCV(clf , params , scoring='roc_auc' , n_jobs=-1 , verbose=2 , cv = 3)\n",
    "model.fit(x_train, y_train)\n",
    "\n",
    "print(model.best_estimator_)\n",
    "print('Train AUC  :' , model.score(x_train , y_train))\n",
    "print('Val AUC    :' , model.score(x_val, y_val))"
   ]
  },
  {
   "cell_type": "code",
   "execution_count": null,
   "metadata": {
    "colab": {
     "base_uri": "https://localhost:8080/"
    },
    "executionInfo": {
     "elapsed": 527802,
     "status": "ok",
     "timestamp": 1615799718727,
     "user": {
      "displayName": "ajay jogiya",
      "photoUrl": "https://lh3.googleusercontent.com/a-/AOh14GgRAXM6e1-9rIRgaPP756Iug7UkbP0azqriVDFLww=s64",
      "userId": "14152685769056492470"
     },
     "user_tz": -330
    },
    "id": "nrN4fKClJdsP",
    "outputId": "502be82a-f6af-44e7-cbd0-4380a6b193eb"
   },
   "outputs": [
    {
     "data": {
      "text/plain": [
       "RandomForestClassifier(bootstrap=True, ccp_alpha=0.0, class_weight='balanced',\n",
       "                       criterion='gini', max_depth=15, max_features='auto',\n",
       "                       max_leaf_nodes=None, max_samples=None,\n",
       "                       min_impurity_decrease=0.0, min_impurity_split=None,\n",
       "                       min_samples_leaf=1, min_samples_split=100,\n",
       "                       min_weight_fraction_leaf=0.0, n_estimators=1000,\n",
       "                       n_jobs=None, oob_score=False, random_state=42, verbose=0,\n",
       "                       warm_start=False)"
      ]
     },
     "execution_count": 40,
     "metadata": {
      "tags": []
     },
     "output_type": "execute_result"
    }
   ],
   "source": [
    "clf = RandomForestClassifier(bootstrap=True, ccp_alpha=0.0, class_weight='balanced',\n",
    "                       criterion='gini', max_depth=15, max_features='auto',\n",
    "                       max_leaf_nodes=None, max_samples=None,\n",
    "                       min_impurity_decrease=0.0, min_impurity_split=None,\n",
    "                       min_samples_leaf=1, min_samples_split=100,\n",
    "                       min_weight_fraction_leaf=0.0, n_estimators=1000,\n",
    "                       n_jobs=None, oob_score=False, random_state=42, verbose=0,\n",
    "                       warm_start=False)\n",
    "\n",
    "clf.fit(x_train,y_train)"
   ]
  },
  {
   "cell_type": "code",
   "execution_count": null,
   "metadata": {
    "colab": {
     "base_uri": "https://localhost:8080/"
    },
    "executionInfo": {
     "elapsed": 49359,
     "status": "ok",
     "timestamp": 1615799912212,
     "user": {
      "displayName": "ajay jogiya",
      "photoUrl": "https://lh3.googleusercontent.com/a-/AOh14GgRAXM6e1-9rIRgaPP756Iug7UkbP0azqriVDFLww=s64",
      "userId": "14152685769056492470"
     },
     "user_tz": -330
    },
    "id": "mS6JjudQLTM7",
    "outputId": "e8de98d1-7b0a-41af-dd6e-1c4812c099ac"
   },
   "outputs": [
    {
     "name": "stdout",
     "output_type": "stream",
     "text": [
      "AUC Score of Train Data :  0.7699170698922178\n",
      "AUC Score of Val_data   :  0.7104669463334583\n"
     ]
    }
   ],
   "source": [
    "train_test_pred(clf , x_train , x_val)"
   ]
  },
  {
   "cell_type": "code",
   "execution_count": null,
   "metadata": {
    "colab": {
     "base_uri": "https://localhost:8080/",
     "height": 34
    },
    "executionInfo": {
     "elapsed": 453251,
     "status": "ok",
     "timestamp": 1615800464862,
     "user": {
      "displayName": "ajay jogiya",
      "photoUrl": "https://lh3.googleusercontent.com/a-/AOh14GgRAXM6e1-9rIRgaPP756Iug7UkbP0azqriVDFLww=s64",
      "userId": "14152685769056492470"
     },
     "user_tz": -330
    },
    "id": "ZtzRw3fDO6_q",
    "outputId": "04589896-d6c9-413b-9ac9-df1eb836a1f6"
   },
   "outputs": [
    {
     "data": {
      "application/vnd.google.colaboratory.intrinsic+json": {
       "type": "string"
      },
      "text/plain": [
       "'Prediction on Test Data is saved.'"
      ]
     },
     "execution_count": 43,
     "metadata": {
      "tags": []
     },
     "output_type": "execute_result"
    }
   ],
   "source": [
    "test_pred(clf,test_data,'random_forest.csv')"
   ]
  },
  {
   "cell_type": "code",
   "execution_count": null,
   "metadata": {
    "colab": {
     "base_uri": "https://localhost:8080/",
     "height": 554
    },
    "executionInfo": {
     "elapsed": 3059,
     "status": "ok",
     "timestamp": 1615806630832,
     "user": {
      "displayName": "ajay jogiya",
      "photoUrl": "https://lh3.googleusercontent.com/a-/AOh14GgRAXM6e1-9rIRgaPP756Iug7UkbP0azqriVDFLww=s64",
      "userId": "14152685769056492470"
     },
     "user_tz": -330
    },
    "id": "u9io05IYxifX",
    "outputId": "09016d92-9cfd-42a3-c5a6-0e11c7fe0227"
   },
   "outputs": [
    {
     "data": {
      "image/png": "[encoded data removed]",
      "text/plain": [
       "<Figure size 1440x504 with 1 Axes>"
      ]
     },
     "metadata": {
      "needs_background": "light",
      "tags": []
     },
     "output_type": "display_data"
    }
   ],
   "source": [
    "feature_impotance_plot(clf , ' ')"
   ]
  },
  {
   "cell_type": "markdown",
   "metadata": {
    "id": "JOCU2k8YAwVQ"
   },
   "source": [
    "# **AdaBoost**"
   ]
  },
  {
   "cell_type": "code",
   "execution_count": null,
   "metadata": {
    "colab": {
     "base_uri": "https://localhost:8080/"
    },
    "executionInfo": {
     "elapsed": 3658,
     "status": "ok",
     "timestamp": 1615807132932,
     "user": {
      "displayName": "ajay jogiya",
      "photoUrl": "https://lh3.googleusercontent.com/a-/AOh14GgRAXM6e1-9rIRgaPP756Iug7UkbP0azqriVDFLww=s64",
      "userId": "14152685769056492470"
     },
     "user_tz": -330
    },
    "id": "DpQEHlVD_Fra",
    "outputId": "747e2a37-c8a7-4d73-d0c6-f56a25c7f9b4"
   },
   "outputs": [
    {
     "name": "stdout",
     "output_type": "stream",
     "text": [
      "AdaBoostClassifier(algorithm='SAMME.R', base_estimator=None, learning_rate=1,\n",
      "                   n_estimators=50, random_state=None)\n",
      "Train AUC  : 0.6976825283616293\n",
      "Val AUC    : 0.6977957629020033\n"
     ]
    }
   ],
   "source": [
    "params = {\n",
    " 'learning_rate' : [0.01,0.1,0.5,1]\n",
    " }\n",
    "\n",
    "clf = AdaBoostClassifier()\n",
    "\n",
    "model =  RandomizedSearchCV(clf , params , scoring='roc_auc' , n_jobs=-1 , verbose=2 , cv = 3)\n",
    "model.fit(x_train, y_train)\n",
    "\n",
    "print(model.best_estimator_)\n",
    "print('Train AUC  :' , model.score(x_train , y_train))\n",
    "print('Val AUC    :' , model.score(x_val , y_val))"
   ]
  },
  {
   "cell_type": "code",
   "execution_count": null,
   "metadata": {
    "colab": {
     "base_uri": "https://localhost:8080/"
    },
    "executionInfo": {
     "elapsed": 43233,
     "status": "ok",
     "timestamp": 1615807207638,
     "user": {
      "displayName": "ajay jogiya",
      "photoUrl": "https://lh3.googleusercontent.com/a-/AOh14GgRAXM6e1-9rIRgaPP756Iug7UkbP0azqriVDFLww=s64",
      "userId": "14152685769056492470"
     },
     "user_tz": -330
    },
    "id": "OK-rvipgIEi6",
    "outputId": "a5db47ab-083d-40a3-9ab8-184cbfd50955"
   },
   "outputs": [
    {
     "data": {
      "text/plain": [
       "AdaBoostClassifier(algorithm='SAMME.R', base_estimator=None, learning_rate=1,\n",
       "                   n_estimators=100, random_state=None)"
      ]
     },
     "execution_count": 47,
     "metadata": {
      "tags": []
     },
     "output_type": "execute_result"
    }
   ],
   "source": [
    "clf = AdaBoostClassifier( algorithm='SAMME.R', base_estimator=None, learning_rate=1,\n",
    "                   n_estimators=100, random_state=None )\n",
    "\n",
    "clf.fit(x_train,y_train)"
   ]
  },
  {
   "cell_type": "code",
   "execution_count": null,
   "metadata": {
    "colab": {
     "base_uri": "https://localhost:8080/"
    },
    "executionInfo": {
     "elapsed": 39048,
     "status": "ok",
     "timestamp": 1615807212543,
     "user": {
      "displayName": "ajay jogiya",
      "photoUrl": "https://lh3.googleusercontent.com/a-/AOh14GgRAXM6e1-9rIRgaPP756Iug7UkbP0azqriVDFLww=s64",
      "userId": "14152685769056492470"
     },
     "user_tz": -330
    },
    "id": "oy7KICDRAvls",
    "outputId": "2445734d-cf38-4c92-cbe6-a5a2153bf636"
   },
   "outputs": [
    {
     "name": "stdout",
     "output_type": "stream",
     "text": [
      "AUC Score of Train Data :  0.7004287436393046\n",
      "AUC Score of Val_data   :  0.6996773761527502\n"
     ]
    }
   ],
   "source": [
    "train_test_pred(clf , x_train , x_val)"
   ]
  },
  {
   "cell_type": "code",
   "execution_count": null,
   "metadata": {
    "colab": {
     "base_uri": "https://localhost:8080/",
     "height": 34
    },
    "executionInfo": {
     "elapsed": 59188,
     "status": "ok",
     "timestamp": 1615807307960,
     "user": {
      "displayName": "ajay jogiya",
      "photoUrl": "https://lh3.googleusercontent.com/a-/AOh14GgRAXM6e1-9rIRgaPP756Iug7UkbP0azqriVDFLww=s64",
      "userId": "14152685769056492470"
     },
     "user_tz": -330
    },
    "id": "Cb29te_MAvbH",
    "outputId": "4cd931a5-717e-4d03-cc1f-ec93ef86d722"
   },
   "outputs": [
    {
     "data": {
      "application/vnd.google.colaboratory.intrinsic+json": {
       "type": "string"
      },
      "text/plain": [
       "'Prediction on Test Data is saved.'"
      ]
     },
     "execution_count": 49,
     "metadata": {
      "tags": []
     },
     "output_type": "execute_result"
    }
   ],
   "source": [
    "test_pred(clf,test_data , 'Adaboost')"
   ]
  },
  {
   "cell_type": "code",
   "execution_count": null,
   "metadata": {
    "colab": {
     "base_uri": "https://localhost:8080/",
     "height": 554
    },
    "executionInfo": {
     "elapsed": 1678,
     "status": "ok",
     "timestamp": 1615807987866,
     "user": {
      "displayName": "ajay jogiya",
      "photoUrl": "https://lh3.googleusercontent.com/a-/AOh14GgRAXM6e1-9rIRgaPP756Iug7UkbP0azqriVDFLww=s64",
      "userId": "14152685769056492470"
     },
     "user_tz": -330
    },
    "id": "79OgIBnHLJKK",
    "outputId": "9dc8a3b1-1071-4f07-b3d2-a6389f540f95"
   },
   "outputs": [
    {
     "data": {
      "image/png": "[encoded data removed]",
      "text/plain": [
       "<Figure size 1440x504 with 1 Axes>"
      ]
     },
     "metadata": {
      "needs_background": "light",
      "tags": []
     },
     "output_type": "display_data"
    }
   ],
   "source": [
    "feature_impotance_plot(clf , 'Adaboost')"
   ]
  },
  {
   "cell_type": "markdown",
   "metadata": {
    "id": "eN0aI1VjnAo5"
   },
   "source": [
    "# **XGBoost**"
   ]
  },
  {
   "cell_type": "code",
   "execution_count": null,
   "metadata": {
    "colab": {
     "base_uri": "https://localhost:8080/"
    },
    "executionInfo": {
     "elapsed": 4070803,
     "status": "ok",
     "timestamp": 1615361478031,
     "user": {
      "displayName": "ajay jogiya",
      "photoUrl": "https://lh3.googleusercontent.com/a-/AOh14GgRAXM6e1-9rIRgaPP756Iug7UkbP0azqriVDFLww=s64",
      "userId": "14152685769056492470"
     },
     "user_tz": -330
    },
    "id": "Sq98TjC6O68Z",
    "outputId": "5b5e6da3-0108-48d9-e138-83eda3f57c4d"
   },
   "outputs": [
    {
     "name": "stdout",
     "output_type": "stream",
     "text": [
      "Fitting 5 folds for each of 10 candidates, totalling 50 fits\n"
     ]
    },
    {
     "name": "stderr",
     "output_type": "stream",
     "text": [
      "[Parallel(n_jobs=-1)]: Using backend LokyBackend with 2 concurrent workers.\n",
      "[Parallel(n_jobs=-1)]: Done  37 tasks      | elapsed: 52.3min\n",
      "[Parallel(n_jobs=-1)]: Done  50 out of  50 | elapsed: 65.0min finished\n"
     ]
    },
    {
     "name": "stdout",
     "output_type": "stream",
     "text": [
      "XGBClassifier(base_score=0.5, booster='gbtree', colsample_bylevel=1,\n",
      "              colsample_bynode=1, colsample_bytree=1, gamma=0.01,\n",
      "              learning_rate=0.1, max_delta_step=0, max_depth=13,\n",
      "              min_child_weight=1, missing=None, n_estimators=100, n_jobs=1,\n",
      "              nthread=None, objective='binary:logistic', random_state=0,\n",
      "              reg_alpha=0, reg_lambda=1, scale_pos_weight=1, seed=None,\n",
      "              silent=None, subsample=1, verbosity=1)\n",
      "Train AUC  : 0.9477400345335281\n",
      "Val AUC    : 0.7256969739861358\n"
     ]
    }
   ],
   "source": [
    "\n",
    "params = {\n",
    " 'learning_rate':[0.01,0.05,0.1,0.3],\n",
    " 'max_depth':[3,5,10,13,15,18],\n",
    " 'colsample_bytree':[0.1,0.3,0.5,1],\n",
    " 'subsample':[0.1,0.3,0.5,1],\n",
    " 'gamma':[0.01,0.1,0.2,0.4]\n",
    "}\n",
    "\n",
    "clf = XGBClassifier()\n",
    "\n",
    "model =  RandomizedSearchCV(clf , params , scoring='roc_auc' , n_jobs=-1 , verbose=2 , cv = 5)\n",
    "model.fit(x_train, y_train)\n",
    "\n",
    "print(model.best_estimator_)\n",
    "print('Train AUC  :' , model.score(x_train , y_train))\n",
    "print('Val AUC    :' , model.score(x_test , y_test))"
   ]
  },
  {
   "cell_type": "code",
   "execution_count": null,
   "metadata": {
    "colab": {
     "base_uri": "https://localhost:8080/"
    },
    "executionInfo": {
     "elapsed": 679587,
     "status": "ok",
     "timestamp": 1615812243660,
     "user": {
      "displayName": "ajay jogiya",
      "photoUrl": "https://lh3.googleusercontent.com/a-/AOh14GgRAXM6e1-9rIRgaPP756Iug7UkbP0azqriVDFLww=s64",
      "userId": "14152685769056492470"
     },
     "user_tz": -330
    },
    "id": "cl6WkrhPO655",
    "outputId": "c21fc374-686e-4873-98d6-d8493067d375"
   },
   "outputs": [
    {
     "data": {
      "text/plain": [
       "XGBClassifier(base_score=0.5, booster='gbtree', colsample_bylevel=1,\n",
       "              colsample_bynode=1, colsample_bytree=1, gamma=0.01,\n",
       "              learning_rate=0.1, max_delta_step=0, max_depth=13,\n",
       "              min_child_weight=1, missing=None, n_estimators=500, n_jobs=1,\n",
       "              nthread=None, objective='binary:logistic', random_state=0,\n",
       "              reg_alpha=0, reg_lambda=1, scale_pos_weight=1, seed=None,\n",
       "              silent=None, subsample=1, verbosity=1)"
      ]
     },
     "execution_count": 52,
     "metadata": {
      "tags": []
     },
     "output_type": "execute_result"
    }
   ],
   "source": [
    "clf = XGBClassifier(base_score=0.5, booster='gbtree', colsample_bylevel=1,\n",
    "              colsample_bynode=1, colsample_bytree=1, gamma=0.01,\n",
    "              learning_rate=0.1, max_delta_step=0, max_depth=13,\n",
    "              min_child_weight=1, missing=None, n_estimators=500, n_jobs=1,\n",
    "              nthread=None, objective='binary:logistic', random_state=0,\n",
    "              reg_alpha=0, reg_lambda=1, scale_pos_weight=1, seed=None,\n",
    "              silent=None, subsample=1, verbosity=1)\n",
    "clf.fit(x_train , y_train)"
   ]
  },
  {
   "cell_type": "code",
   "execution_count": null,
   "metadata": {
    "colab": {
     "base_uri": "https://localhost:8080/"
    },
    "executionInfo": {
     "elapsed": 46034,
     "status": "ok",
     "timestamp": 1615812334353,
     "user": {
      "displayName": "ajay jogiya",
      "photoUrl": "https://lh3.googleusercontent.com/a-/AOh14GgRAXM6e1-9rIRgaPP756Iug7UkbP0azqriVDFLww=s64",
      "userId": "14152685769056492470"
     },
     "user_tz": -330
    },
    "id": "qyaF-7PmF91p",
    "outputId": "1e82d21a-e64d-458c-a7f2-fefc2cad7739"
   },
   "outputs": [
    {
     "name": "stdout",
     "output_type": "stream",
     "text": [
      "AUC Score of Train Data :  0.999983697417515\n",
      "AUC Score of Val_data   :  0.7198900745664337\n"
     ]
    }
   ],
   "source": [
    "train_test_pred(clf , x_train , x_val)"
   ]
  },
  {
   "cell_type": "code",
   "execution_count": null,
   "metadata": {
    "colab": {
     "base_uri": "https://localhost:8080/",
     "height": 34
    },
    "executionInfo": {
     "elapsed": 362162,
     "status": "ok",
     "timestamp": 1615812705220,
     "user": {
      "displayName": "ajay jogiya",
      "photoUrl": "https://lh3.googleusercontent.com/a-/AOh14GgRAXM6e1-9rIRgaPP756Iug7UkbP0azqriVDFLww=s64",
      "userId": "14152685769056492470"
     },
     "user_tz": -330
    },
    "id": "Nz2z80QvTLov",
    "outputId": "0b40a9f8-8d0e-463d-c09c-c7409fe50788"
   },
   "outputs": [
    {
     "data": {
      "application/vnd.google.colaboratory.intrinsic+json": {
       "type": "string"
      },
      "text/plain": [
       "'Prediction on Test Data is saved.'"
      ]
     },
     "execution_count": 54,
     "metadata": {
      "tags": []
     },
     "output_type": "execute_result"
    }
   ],
   "source": [
    "test_pred(clf,test_data , 'XGBoost')"
   ]
  },
  {
   "cell_type": "code",
   "execution_count": null,
   "metadata": {
    "colab": {
     "base_uri": "https://localhost:8080/",
     "height": 554
    },
    "executionInfo": {
     "elapsed": 7620,
     "status": "ok",
     "timestamp": 1615812762231,
     "user": {
      "displayName": "ajay jogiya",
      "photoUrl": "https://lh3.googleusercontent.com/a-/AOh14GgRAXM6e1-9rIRgaPP756Iug7UkbP0azqriVDFLww=s64",
      "userId": "14152685769056492470"
     },
     "user_tz": -330
    },
    "id": "EIsMx8sp8bMM",
    "outputId": "a97686cc-988b-4121-b301-2893d239a0e7"
   },
   "outputs": [
    {
     "data": {
      "image/png": "[encoded data removed]",
      "text/plain": [
       "<Figure size 1440x504 with 1 Axes>"
      ]
     },
     "metadata": {
      "needs_background": "light",
      "tags": []
     },
     "output_type": "display_data"
    }
   ],
   "source": [
    "feature_impotance_plot(clf , 'XGBoost')"
   ]
  },
  {
   "cell_type": "markdown",
   "metadata": {
    "id": "pWwF7bjuaF3-"
   },
   "source": [
    "# **LGBM**"
   ]
  },
  {
   "cell_type": "code",
   "execution_count": null,
   "metadata": {
    "colab": {
     "base_uri": "https://localhost:8080/"
    },
    "executionInfo": {
     "elapsed": 2746,
     "status": "ok",
     "timestamp": 1615813213694,
     "user": {
      "displayName": "ajay jogiya",
      "photoUrl": "https://lh3.googleusercontent.com/a-/AOh14GgRAXM6e1-9rIRgaPP756Iug7UkbP0azqriVDFLww=s64",
      "userId": "14152685769056492470"
     },
     "user_tz": -330
    },
    "id": "hBziWp65bAAb",
    "outputId": "e8cb4a65-c84a-4e45-9769-3a9e4f84afd1"
   },
   "outputs": [
    {
     "name": "stdout",
     "output_type": "stream",
     "text": [
      "LGBMClassifier(boosting_type='gbdt', class_weight=None, colsample_bytree=1.0,\n",
      "               importance_type='split', learning_rate=0.1, max_depth=6,\n",
      "               min_child_samples=8, min_child_weight=0.001, min_split_gain=0.0,\n",
      "               n_estimators=100, n_jobs=-1, num_leaves=15, objective=None,\n",
      "               random_state=None, reg_alpha=0.0, reg_lambda=0.0, silent=True,\n",
      "               subsample=1.0, subsample_for_bin=200000, subsample_freq=0)\n",
      "Train AUC  : 0.7151366571159495\n",
      "Val AUC    : 0.7083511012819375\n"
     ]
    }
   ],
   "source": [
    "params = {'min_child_samples' : [5,8,10,15],\n",
    " 'num_leaves' : [12,15,18,20],\n",
    " 'max_depth' : [2,4,6,8,10],\n",
    " 'n_estimators' : [100,200,300,500],\n",
    " 'learning_rate' : [0.001,0.01,0.1,0.5]\n",
    " }\n",
    "\n",
    "clf = LGBMClassifier()\n",
    "\n",
    "model =  RandomizedSearchCV(clf , params , scoring='roc_auc' , n_jobs=-1 , verbose=2 , cv = 3)\n",
    "model.fit(x_train, y_train)\n",
    "\n",
    "print(model.best_estimator_)\n",
    "print('Train AUC  :' , model.score(x_train , y_train))\n",
    "print('Val AUC    :' , model.score(x_val , y_val))"
   ]
  },
  {
   "cell_type": "code",
   "execution_count": null,
   "metadata": {
    "colab": {
     "base_uri": "https://localhost:8080/"
    },
    "executionInfo": {
     "elapsed": 13998,
     "status": "ok",
     "timestamp": 1615831135391,
     "user": {
      "displayName": "ajay jogiya",
      "photoUrl": "https://lh3.googleusercontent.com/a-/AOh14GgRAXM6e1-9rIRgaPP756Iug7UkbP0azqriVDFLww=s64",
      "userId": "14152685769056492470"
     },
     "user_tz": -330
    },
    "id": "2ykieVslqXvj",
    "outputId": "46c23c18-8db5-4889-fde9-9c405f9327a8"
   },
   "outputs": [
    {
     "data": {
      "text/plain": [
       "LGBMClassifier(boosting_type='gbdt', class_weight=None, colsample_bytree=1.0,\n",
       "               importance_type='split', learning_rate=0.1, max_depth=6,\n",
       "               min_child_samples=8, min_child_weight=0.001, min_split_gain=0.0,\n",
       "               n_estimators=500, n_jobs=-1, num_leaves=15, objective=None,\n",
       "               random_state=None, reg_alpha=0.0, reg_lambda=0.0, silent=True,\n",
       "               subsample=1.0, subsample_for_bin=200000, subsample_freq=0)"
      ]
     },
     "execution_count": 11,
     "metadata": {
      "tags": []
     },
     "output_type": "execute_result"
    }
   ],
   "source": [
    "clf = LGBMClassifier( boosting_type='gbdt', class_weight=None, colsample_bytree=1.0,\n",
    "               importance_type='split', learning_rate=0.1, max_depth=6,\n",
    "               min_child_samples=8, min_child_weight=0.001, min_split_gain=0.0,\n",
    "               n_estimators=500, n_jobs=-1, num_leaves=15, objective=None,\n",
    "               random_state=None, reg_alpha=0.0, reg_lambda=0.0, silent=True,\n",
    "               subsample=1.0, subsample_for_bin=200000, subsample_freq=0 )\n",
    "clf.fit( x_train, y_train )"
   ]
  },
  {
   "cell_type": "code",
   "execution_count": null,
   "metadata": {
    "colab": {
     "base_uri": "https://localhost:8080/"
    },
    "executionInfo": {
     "elapsed": 5285,
     "status": "ok",
     "timestamp": 1615832448888,
     "user": {
      "displayName": "ajay jogiya",
      "photoUrl": "https://lh3.googleusercontent.com/a-/AOh14GgRAXM6e1-9rIRgaPP756Iug7UkbP0azqriVDFLww=s64",
      "userId": "14152685769056492470"
     },
     "user_tz": -330
    },
    "id": "PM_0n4yTXbv_",
    "outputId": "a2253113-9dca-4cca-8e90-39d670ddc796"
   },
   "outputs": [
    {
     "name": "stdout",
     "output_type": "stream",
     "text": [
      "AUC Score of Train Data :  0.7469164020524176\n",
      "AUC Score of Val_data   :  0.7129636496284151\n"
     ]
    }
   ],
   "source": [
    "train_test_pred(clf , x_train , x_val)"
   ]
  },
  {
   "cell_type": "code",
   "execution_count": null,
   "metadata": {
    "colab": {
     "base_uri": "https://localhost:8080/",
     "height": 34
    },
    "executionInfo": {
     "elapsed": 59365,
     "status": "ok",
     "timestamp": 1615813672684,
     "user": {
      "displayName": "ajay jogiya",
      "photoUrl": "https://lh3.googleusercontent.com/a-/AOh14GgRAXM6e1-9rIRgaPP756Iug7UkbP0azqriVDFLww=s64",
      "userId": "14152685769056492470"
     },
     "user_tz": -330
    },
    "id": "u-N9xH65Xbqy",
    "outputId": "4867ce5f-a5d1-4535-ed2b-603da6e8b04c"
   },
   "outputs": [
    {
     "data": {
      "application/vnd.google.colaboratory.intrinsic+json": {
       "type": "string"
      },
      "text/plain": [
       "'Prediction on Test Data is saved.'"
      ]
     },
     "execution_count": 73,
     "metadata": {
      "tags": []
     },
     "output_type": "execute_result"
    }
   ],
   "source": [
    "test_pred(clf,test_data,'LGVM_Prediction')"
   ]
  },
  {
   "cell_type": "code",
   "execution_count": null,
   "metadata": {
    "colab": {
     "base_uri": "https://localhost:8080/",
     "height": 554
    },
    "executionInfo": {
     "elapsed": 2469,
     "status": "ok",
     "timestamp": 1615813677918,
     "user": {
      "displayName": "ajay jogiya",
      "photoUrl": "https://lh3.googleusercontent.com/a-/AOh14GgRAXM6e1-9rIRgaPP756Iug7UkbP0azqriVDFLww=s64",
      "userId": "14152685769056492470"
     },
     "user_tz": -330
    },
    "id": "1AWp06xXXbmf",
    "outputId": "d5a80b13-a8b2-42ac-e75e-f476c1fda5d9"
   },
   "outputs": [
    {
     "data": {
      "image/png": "[encoded data removed]",
      "text/plain": [
       "<Figure size 1440x504 with 1 Axes>"
      ]
     },
     "metadata": {
      "needs_background": "light",
      "tags": []
     },
     "output_type": "display_data"
    }
   ],
   "source": [
    "feature_impotance_plot(clf , 'LGBM')"
   ]
  },
  {
   "cell_type": "markdown",
   "metadata": {
    "id": "DciB5rhN6Edl"
   },
   "source": [
    "# **Stacking Classifier**\n",
    "### **Decision Tree + Random_forest + XGBoost + LGBM**"
   ]
  },
  {
   "cell_type": "code",
   "execution_count": null,
   "metadata": {
    "id": "kNplm3ZT_Foz"
   },
   "outputs": [],
   "source": [
    "estimators = [ \n",
    "              ('dt' ,  DecisionTreeClassifier(  ccp_alpha=0.0, class_weight=None, criterion='gini',\n",
    "                       max_depth=10, max_features=None, max_leaf_nodes=92,\n",
    "                       min_impurity_decrease=0.0, min_impurity_split=None,\n",
    "                       min_samples_leaf=1, min_samples_split=50,\n",
    "                       min_weight_fraction_leaf=0.0, presort='deprecated',\n",
    "                       random_state=42, splitter='best'  ) ) ,\n",
    "              ( 'rf', RandomForestClassifier(bootstrap=True, ccp_alpha=0.0, class_weight='balanced',\n",
    "                       criterion='gini', max_depth=15, max_features='auto',\n",
    "                       max_leaf_nodes=None, max_samples=None,\n",
    "                       min_impurity_decrease=0.0, min_impurity_split=None,\n",
    "                       min_samples_leaf=1, min_samples_split=100,\n",
    "                       min_weight_fraction_leaf=0.0, n_estimators=500,\n",
    "                       n_jobs=None, oob_score=False, random_state=42, verbose=0,\n",
    "                       warm_start=False) ),\n",
    "              ('xgb', XGBClassifier(base_score=0.5, booster='gbtree', colsample_bylevel=1,\n",
    "                        colsample_bynode=1, colsample_bytree=1, gamma=0.01,\n",
    "                        learning_rate=0.1, max_delta_step=0, max_depth=13,\n",
    "                        min_child_weight=1, missing=None, n_estimators=500, n_jobs=1,\n",
    "                        nthread=None, objective='binary:logistic', random_state=0,\n",
    "                        reg_alpha=0, reg_lambda=1, scale_pos_weight=1, seed=None,\n",
    "                        silent=None, subsample=1, verbosity=1)),\n",
    "              ('lgbm', LGBMClassifier( boosting_type='gbdt', class_weight=None, colsample_bytree=1.0,\n",
    "                        importance_type='split', learning_rate=0.1, max_depth=6,\n",
    "                        min_child_samples=8, min_child_weight=0.001, min_split_gain=0.0,\n",
    "                        n_estimators=500, n_jobs=-1, num_leaves=15, objective=None,\n",
    "                        random_state=None, reg_alpha=0.0, reg_lambda=0.0, silent=True,\n",
    "                        subsample=1.0, subsample_for_bin=200000, subsample_freq=0 ) )\n",
    "              \n",
    " ]\n",
    "\n",
    "stacking = StackingClassifier(estimators ,verbose=1 )\n",
    "stacking.fit(x_train,y_train)"
   ]
  },
  {
   "cell_type": "code",
   "execution_count": null,
   "metadata": {
    "colab": {
     "base_uri": "https://localhost:8080/"
    },
    "executionInfo": {
     "elapsed": 4795320,
     "status": "ok",
     "timestamp": 1615819498588,
     "user": {
      "displayName": "ajay jogiya",
      "photoUrl": "https://lh3.googleusercontent.com/a-/AOh14GgRAXM6e1-9rIRgaPP756Iug7UkbP0azqriVDFLww=s64",
      "userId": "14152685769056492470"
     },
     "user_tz": -330
    },
    "id": "Lw6h355Y_Flo",
    "outputId": "bffbb2cd-f1d9-4b5e-b353-cacaecc414db"
   },
   "outputs": [
    {
     "name": "stderr",
     "output_type": "stream",
     "text": [
      "[Parallel(n_jobs=1)]: Using backend SequentialBackend with 1 concurrent workers.\n",
      "[Parallel(n_jobs=1)]: Done   5 out of   5 | elapsed:   11.3s finished\n",
      "[Parallel(n_jobs=1)]: Using backend SequentialBackend with 1 concurrent workers.\n",
      "[Parallel(n_jobs=1)]: Done   5 out of   5 | elapsed: 17.6min finished\n",
      "[Parallel(n_jobs=1)]: Using backend SequentialBackend with 1 concurrent workers.\n",
      "[Parallel(n_jobs=1)]: Done   5 out of   5 | elapsed: 44.9min finished\n",
      "[Parallel(n_jobs=1)]: Using backend SequentialBackend with 1 concurrent workers.\n",
      "[Parallel(n_jobs=1)]: Done   5 out of   5 | elapsed:  1.1min finished\n"
     ]
    },
    {
     "data": {
      "text/plain": [
       "StackingClassifier(cv=None,\n",
       "                   estimators=[('dt',\n",
       "                                DecisionTreeClassifier(ccp_alpha=0.0,\n",
       "                                                       class_weight=None,\n",
       "                                                       criterion='gini',\n",
       "                                                       max_depth=10,\n",
       "                                                       max_features=None,\n",
       "                                                       max_leaf_nodes=92,\n",
       "                                                       min_impurity_decrease=0.0,\n",
       "                                                       min_impurity_split=None,\n",
       "                                                       min_samples_leaf=1,\n",
       "                                                       min_samples_split=50,\n",
       "                                                       min_weight_fraction_leaf=0.0,\n",
       "                                                       presort='deprecated',\n",
       "                                                       random_state=42,\n",
       "                                                       splitter='best')),\n",
       "                               ('rf',\n",
       "                                Rand...\n",
       "                                               importance_type='split',\n",
       "                                               learning_rate=0.1, max_depth=6,\n",
       "                                               min_child_samples=8,\n",
       "                                               min_child_weight=0.001,\n",
       "                                               min_split_gain=0.0,\n",
       "                                               n_estimators=500, n_jobs=-1,\n",
       "                                               num_leaves=15, objective=None,\n",
       "                                               random_state=None, reg_alpha=0.0,\n",
       "                                               reg_lambda=0.0, silent=True,\n",
       "                                               subsample=1.0,\n",
       "                                               subsample_for_bin=200000,\n",
       "                                               subsample_freq=0))],\n",
       "                   final_estimator=None, n_jobs=None, passthrough=False,\n",
       "                   stack_method='auto', verbose=1)"
      ]
     },
     "execution_count": 82,
     "metadata": {
      "tags": []
     },
     "output_type": "execute_result"
    }
   ],
   "source": [
    "stacking = StackingClassifier(estimators ,verbose=1 )\n",
    "stacking.fit(x_train,y_train)"
   ]
  },
  {
   "cell_type": "code",
   "execution_count": null,
   "metadata": {
    "colab": {
     "base_uri": "https://localhost:8080/"
    },
    "executionInfo": {
     "elapsed": 72219,
     "status": "ok",
     "timestamp": 1615819848016,
     "user": {
      "displayName": "ajay jogiya",
      "photoUrl": "https://lh3.googleusercontent.com/a-/AOh14GgRAXM6e1-9rIRgaPP756Iug7UkbP0azqriVDFLww=s64",
      "userId": "14152685769056492470"
     },
     "user_tz": -330
    },
    "id": "HVcZWrLBXbiK",
    "outputId": "dc2cb0c5-5184-4747-ab31-e8e8d30d66ed"
   },
   "outputs": [
    {
     "name": "stdout",
     "output_type": "stream",
     "text": [
      "AUC Score of Train Data :  0.9839591302022944\n",
      "AUC Score of Val_data   :  0.7263161792228515\n"
     ]
    }
   ],
   "source": [
    "start = time.time()\n",
    "train_test_pred(stacking , x_train , x_val)"
   ]
  },
  {
   "cell_type": "code",
   "execution_count": null,
   "metadata": {
    "colab": {
     "base_uri": "https://localhost:8080/",
     "height": 34
    },
    "executionInfo": {
     "elapsed": 663748,
     "status": "ok",
     "timestamp": 1615820544830,
     "user": {
      "displayName": "ajay jogiya",
      "photoUrl": "https://lh3.googleusercontent.com/a-/AOh14GgRAXM6e1-9rIRgaPP756Iug7UkbP0azqriVDFLww=s64",
      "userId": "14152685769056492470"
     },
     "user_tz": -330
    },
    "id": "addLmdocXbRw",
    "outputId": "45eb67bc-ecc2-4dc8-87cf-46ab3cf06379"
   },
   "outputs": [
    {
     "data": {
      "application/vnd.google.colaboratory.intrinsic+json": {
       "type": "string"
      },
      "text/plain": [
       "'Prediction on Test Data is saved.'"
      ]
     },
     "execution_count": 88,
     "metadata": {
      "tags": []
     },
     "output_type": "execute_result"
    }
   ],
   "source": [
    "test_pred(stacking,test_data,'stacking_Prediction')"
   ]
  },
  {
   "cell_type": "markdown",
   "metadata": {
    "id": "g2m5PBWZ4cma"
   },
   "source": [
    "# **Create Features From PCA**"
   ]
  },
  {
   "cell_type": "code",
   "execution_count": null,
   "metadata": {
    "id": "x442qpWrvPIV"
   },
   "outputs": [],
   "source": []
  },
  {
   "cell_type": "code",
   "execution_count": null,
   "metadata": {
    "colab": {
     "base_uri": "https://localhost:8080/",
     "height": 278
    },
    "executionInfo": {
     "elapsed": 3036,
     "status": "ok",
     "timestamp": 1615962894714,
     "user": {
      "displayName": "ajay jogiya",
      "photoUrl": "https://lh3.googleusercontent.com/a-/AOh14GgRAXM6e1-9rIRgaPP756Iug7UkbP0azqriVDFLww=s64",
      "userId": "14152685769056492470"
     },
     "user_tz": -330
    },
    "id": "gHLxHzLE4kRi",
    "outputId": "ee580d43-008c-408e-fa4a-f42b154c52fb"
   },
   "outputs": [
    {
     "data": {
      "image/png": "[encoded data removed]",
      "text/plain": [
       "<Figure size 432x288 with 1 Axes>"
      ]
     },
     "metadata": {
      "needs_background": "light",
      "tags": []
     },
     "output_type": "display_data"
    }
   ],
   "source": [
    "pca =  PCA(n_components = 20)\n",
    "pca.fit(x_train)\n",
    "\n",
    "plt.plot(np.cumsum(pca.explained_variance_ratio_))\n",
    "plt.xlabel('number of components')\n",
    "plt.ylabel('cumulative explained variance');"
   ]
  },
  {
   "cell_type": "markdown",
   "metadata": {
    "id": "KcNp95Q5seCM"
   },
   "source": [
    "#### **As we see within 6 features our most variance covers.**\n",
    "#### **we know that within 6 components our most variance covers so take 10 components for 100% variance of our data.**"
   ]
  },
  {
   "cell_type": "code",
   "execution_count": 13,
   "metadata": {
    "executionInfo": {
     "elapsed": 4209,
     "status": "ok",
     "timestamp": 1616280852284,
     "user": {
      "displayName": "ajay jogiya",
      "photoUrl": "https://lh3.googleusercontent.com/a-/AOh14GgRAXM6e1-9rIRgaPP756Iug7UkbP0azqriVDFLww=s64",
      "userId": "14152685769056492470"
     },
     "user_tz": -330
    },
    "id": "qTlHMfSA5UuF"
   },
   "outputs": [],
   "source": [
    "pca =  PCA(n_components = 10)\n",
    "pca.fit(x_train)\n",
    "pca_train = pca.transform(x_train)\n",
    "pca_val   = pca.transform(x_val)\n",
    "pca_test  = pca.transform(test_data)\n",
    "\n",
    "\n",
    "for i in range(10):\n",
    "    x_train['pca_feature'+ str(i)]   = pca_train[:, i]\n",
    "    x_val['pca_feature'+ str(i)]     = pca_val[:,i]\n",
    "    test_data['pca_feature'+ str(i)] = pca_test[:,i]"
   ]
  },
  {
   "cell_type": "code",
   "execution_count": 14,
   "metadata": {
    "executionInfo": {
     "elapsed": 1702,
     "status": "ok",
     "timestamp": 1616280852286,
     "user": {
      "displayName": "ajay jogiya",
      "photoUrl": "https://lh3.googleusercontent.com/a-/AOh14GgRAXM6e1-9rIRgaPP756Iug7UkbP0azqriVDFLww=s64",
      "userId": "14152685769056492470"
     },
     "user_tz": -330
    },
    "id": "57K2oKfcFXkU"
   },
   "outputs": [],
   "source": []
  },
  {
   "cell_type": "code",
   "execution_count": 15,
   "metadata": {
    "colab": {
     "base_uri": "https://localhost:8080/"
    },
    "executionInfo": {
     "elapsed": 665,
     "status": "ok",
     "timestamp": 1616280854024,
     "user": {
      "displayName": "ajay jogiya",
      "photoUrl": "https://lh3.googleusercontent.com/a-/AOh14GgRAXM6e1-9rIRgaPP756Iug7UkbP0azqriVDFLww=s64",
      "userId": "14152685769056492470"
     },
     "user_tz": -330
    },
    "id": "jFQN0RO_Fc-0",
    "outputId": "b9f54b60-c628-47d7-aec9-e2ad85afcfab"
   },
   "outputs": [
    {
     "name": "stdout",
     "output_type": "stream",
     "text": [
      "(187500, 42)\n",
      "(62500, 42)\n",
      "(2556790, 42)\n"
     ]
    }
   ],
   "source": [
    "print(x_train.shape)\n",
    "print(x_val.shape)\n",
    "print(test_data.shape)"
   ]
  },
  {
   "cell_type": "markdown",
   "metadata": {
    "id": "An_ZT0-A55Gn"
   },
   "source": [
    "# **Random Forest**"
   ]
  },
  {
   "cell_type": "code",
   "execution_count": null,
   "metadata": {
    "colab": {
     "base_uri": "https://localhost:8080/"
    },
    "executionInfo": {
     "elapsed": 682647,
     "status": "ok",
     "timestamp": 1615967647800,
     "user": {
      "displayName": "ajay jogiya",
      "photoUrl": "https://lh3.googleusercontent.com/a-/AOh14GgRAXM6e1-9rIRgaPP756Iug7UkbP0azqriVDFLww=s64",
      "userId": "14152685769056492470"
     },
     "user_tz": -330
    },
    "id": "4Hk9hSuZ4kDG",
    "outputId": "afc7f267-47d8-4766-8e7c-111e3dd64960"
   },
   "outputs": [
    {
     "name": "stdout",
     "output_type": "stream",
     "text": [
      "Fitting 3 folds for each of 10 candidates, totalling 30 fits\n"
     ]
    },
    {
     "name": "stderr",
     "output_type": "stream",
     "text": [
      "[Parallel(n_jobs=-1)]: Using backend LokyBackend with 2 concurrent workers.\n",
      "[Parallel(n_jobs=-1)]: Done  30 out of  30 | elapsed: 10.1min finished\n"
     ]
    },
    {
     "name": "stdout",
     "output_type": "stream",
     "text": [
      "RandomForestClassifier(bootstrap=True, ccp_alpha=0.0, class_weight='balanced',\n",
      "                       criterion='gini', max_depth=15, max_features='auto',\n",
      "                       max_leaf_nodes=None, max_samples=None,\n",
      "                       min_impurity_decrease=0.0, min_impurity_split=None,\n",
      "                       min_samples_leaf=1, min_samples_split=50,\n",
      "                       min_weight_fraction_leaf=0.0, n_estimators=100,\n",
      "                       n_jobs=None, oob_score=False, random_state=42, verbose=0,\n",
      "                       warm_start=False)\n",
      "Train AUC  : 0.7959560976204214\n",
      "Val AUC    : 0.7081201091175061\n"
     ]
    }
   ],
   "source": [
    "params = {\n",
    "    'max_depth' : [ 3,5,8,10,13,15] , \n",
    "    'min_samples_split' : [ 3,50,100,150]}\n",
    "\n",
    "clf = RandomForestClassifier(class_weight = 'balanced' , random_state=42)\n",
    "\n",
    "model = RandomizedSearchCV(clf , params , scoring='roc_auc' , n_jobs=-1 , verbose=2 , cv = 3)\n",
    "model.fit(x_train, y_train)\n",
    "\n",
    "print(model.best_estimator_)\n",
    "print('Train AUC  :' , model.score(x_train , y_train))\n",
    "print('Val AUC    :' , model.score(x_val, y_val))"
   ]
  },
  {
   "cell_type": "code",
   "execution_count": null,
   "metadata": {
    "colab": {
     "base_uri": "https://localhost:8080/"
    },
    "executionInfo": {
     "elapsed": 69108,
     "status": "ok",
     "timestamp": 1615969230931,
     "user": {
      "displayName": "ajay jogiya",
      "photoUrl": "https://lh3.googleusercontent.com/a-/AOh14GgRAXM6e1-9rIRgaPP756Iug7UkbP0azqriVDFLww=s64",
      "userId": "14152685769056492470"
     },
     "user_tz": -330
    },
    "id": "URDpqNBG4j_m",
    "outputId": "24872aae-1ed6-4e1f-b42d-d2906d7db80d"
   },
   "outputs": [
    {
     "data": {
      "text/plain": [
       "RandomForestClassifier(bootstrap=True, ccp_alpha=0.0, class_weight='balanced',\n",
       "                       criterion='gini', max_depth=15, max_features='auto',\n",
       "                       max_leaf_nodes=None, max_samples=None,\n",
       "                       min_impurity_decrease=0.0, min_impurity_split=None,\n",
       "                       min_samples_leaf=1, min_samples_split=50,\n",
       "                       min_weight_fraction_leaf=0.0, n_estimators=100,\n",
       "                       n_jobs=None, oob_score=False, random_state=42, verbose=0,\n",
       "                       warm_start=False)"
      ]
     },
     "execution_count": 72,
     "metadata": {
      "tags": []
     },
     "output_type": "execute_result"
    }
   ],
   "source": [
    "clf = RandomForestClassifier(bootstrap=True, ccp_alpha=0.0, class_weight='balanced',\n",
    "                       criterion='gini', max_depth=15, max_features='auto',\n",
    "                       max_leaf_nodes=None, max_samples=None,\n",
    "                       min_impurity_decrease=0.0, min_impurity_split=None,\n",
    "                       min_samples_leaf=1, min_samples_split=50,\n",
    "                       min_weight_fraction_leaf=0.0, n_estimators=100,\n",
    "                       n_jobs=None, oob_score=False, random_state=42, verbose=0,\n",
    "                       warm_start=False)\n",
    "\n",
    "clf.fit(x_train,y_train)"
   ]
  },
  {
   "cell_type": "code",
   "execution_count": null,
   "metadata": {
    "colab": {
     "base_uri": "https://localhost:8080/"
    },
    "executionInfo": {
     "elapsed": 25324,
     "status": "ok",
     "timestamp": 1615968226232,
     "user": {
      "displayName": "ajay jogiya",
      "photoUrl": "https://lh3.googleusercontent.com/a-/AOh14GgRAXM6e1-9rIRgaPP756Iug7UkbP0azqriVDFLww=s64",
      "userId": "14152685769056492470"
     },
     "user_tz": -330
    },
    "id": "M6jxq2Th5luP",
    "outputId": "a2db5b1b-364e-49bd-b04d-8924bb20748c"
   },
   "outputs": [
    {
     "name": "stdout",
     "output_type": "stream",
     "text": [
      "AUC Score of Train Data :  0.7974401662794004\n",
      "AUC Score of Val_data   :  0.7091436652307126\n"
     ]
    }
   ],
   "source": [
    "train_test_pred(clf , x_train , x_val)"
   ]
  },
  {
   "cell_type": "code",
   "execution_count": null,
   "metadata": {
    "colab": {
     "base_uri": "https://localhost:8080/",
     "height": 34
    },
    "executionInfo": {
     "elapsed": 258173,
     "status": "ok",
     "timestamp": 1615968517647,
     "user": {
      "displayName": "ajay jogiya",
      "photoUrl": "https://lh3.googleusercontent.com/a-/AOh14GgRAXM6e1-9rIRgaPP756Iug7UkbP0azqriVDFLww=s64",
      "userId": "14152685769056492470"
     },
     "user_tz": -330
    },
    "id": "3a6m24de5loU",
    "outputId": "84f7711b-6b40-4d92-b2e4-9adaede3530b"
   },
   "outputs": [
    {
     "data": {
      "application/vnd.google.colaboratory.intrinsic+json": {
       "type": "string"
      },
      "text/plain": [
       "'Prediction on Test Data is saved.'"
      ]
     },
     "execution_count": 69,
     "metadata": {
      "tags": []
     },
     "output_type": "execute_result"
    }
   ],
   "source": [
    "test_pred(clf,test_data,'pca_random_forest.csv')"
   ]
  },
  {
   "cell_type": "code",
   "execution_count": null,
   "metadata": {
    "colab": {
     "base_uri": "https://localhost:8080/",
     "height": 554
    },
    "executionInfo": {
     "elapsed": 1672,
     "status": "ok",
     "timestamp": 1615969814182,
     "user": {
      "displayName": "ajay jogiya",
      "photoUrl": "https://lh3.googleusercontent.com/a-/AOh14GgRAXM6e1-9rIRgaPP756Iug7UkbP0azqriVDFLww=s64",
      "userId": "14152685769056492470"
     },
     "user_tz": -330
    },
    "id": "x-9XktwyQHyJ",
    "outputId": "16219374-9f59-478b-f103-3b9a2f75940e"
   },
   "outputs": [
    {
     "data": {
      "image/png": "[encoded data removed]",
      "text/plain": [
       "<Figure size 1440x504 with 1 Axes>"
      ]
     },
     "metadata": {
      "needs_background": "light",
      "tags": []
     },
     "output_type": "display_data"
    }
   ],
   "source": [
    "feature_impotance_plot(clf , 'Random Forest with PCA Feature')"
   ]
  },
  {
   "cell_type": "markdown",
   "metadata": {
    "id": "km_sL-aIROpR"
   },
   "source": [
    "# **XGBoost**"
   ]
  },
  {
   "cell_type": "code",
   "execution_count": null,
   "metadata": {
    "colab": {
     "base_uri": "https://localhost:8080/"
    },
    "executionInfo": {
     "elapsed": 8309,
     "status": "ok",
     "timestamp": 1615973736288,
     "user": {
      "displayName": "ajay jogiya",
      "photoUrl": "https://lh3.googleusercontent.com/a-/AOh14GgRAXM6e1-9rIRgaPP756Iug7UkbP0azqriVDFLww=s64",
      "userId": "14152685769056492470"
     },
     "user_tz": -330
    },
    "id": "Xfyub7-byfrm",
    "outputId": "4e992148-51f1-4823-e3e1-77ef4cd80f01"
   },
   "outputs": [
    {
     "name": "stdout",
     "output_type": "stream",
     "text": [
      "XGBClassifier(base_score=0.5, booster='gbtree', colsample_bylevel=1,\n",
      "              colsample_bynode=1, colsample_bytree=0.5, gamma=0.2,\n",
      "              learning_rate=0.05, max_delta_step=0, max_depth=15,\n",
      "              min_child_weight=1, missing=None, n_estimators=100, n_jobs=1,\n",
      "              nthread=None, objective='binary:logistic', random_state=0,\n",
      "              reg_alpha=0, reg_lambda=1, scale_pos_weight=1, seed=None,\n",
      "              silent=None, subsample=0.5, verbosity=1)\n",
      "Train AUC  : 0.9549849554841928\n",
      "Val AUC    : 0.7074753334155434\n"
     ]
    }
   ],
   "source": [
    "params = {\n",
    " 'learning_rate':[0.01,0.05,0.1,0.3],\n",
    " 'max_depth':[3,5,10,13,15,18],\n",
    " 'colsample_bytree':[0.1,0.3,0.5,1],\n",
    " 'subsample':[0.1,0.3,0.5,1],\n",
    " 'gamma':[0.01,0.1,0.2,0.4]\n",
    "}\n",
    "\n",
    "clf = XGBClassifier()\n",
    "\n",
    "model =  RandomizedSearchCV(clf , params , scoring='roc_auc' , n_jobs=-1 , verbose=2 , cv = 3)\n",
    "model.fit(x_train, y_train)\n",
    "\n",
    "print(model.best_estimator_)\n",
    "print('Train AUC  :' , model.score(x_train , y_train))\n",
    "print('Val AUC    :' , model.score(x_val , y_val))"
   ]
  },
  {
   "cell_type": "code",
   "execution_count": null,
   "metadata": {
    "colab": {
     "base_uri": "https://localhost:8080/"
    },
    "executionInfo": {
     "elapsed": 138318,
     "status": "ok",
     "timestamp": 1615973893628,
     "user": {
      "displayName": "ajay jogiya",
      "photoUrl": "https://lh3.googleusercontent.com/a-/AOh14GgRAXM6e1-9rIRgaPP756Iug7UkbP0azqriVDFLww=s64",
      "userId": "14152685769056492470"
     },
     "user_tz": -330
    },
    "id": "XKl4WKgxyfjh",
    "outputId": "34d62d01-2c4a-4534-ae27-f63e39137756"
   },
   "outputs": [
    {
     "data": {
      "text/plain": [
       "XGBClassifier(base_score=0.5, booster='gbtree', colsample_bylevel=1,\n",
       "              colsample_bynode=1, colsample_bytree=0.5, gamma=0.2,\n",
       "              learning_rate=0.05, max_delta_step=0, max_depth=15,\n",
       "              min_child_weight=1, missing=None, n_estimators=100, n_jobs=1,\n",
       "              nthread=None, objective='binary:logistic', random_state=0,\n",
       "              reg_alpha=0, reg_lambda=1, scale_pos_weight=1, seed=None,\n",
       "              silent=None, subsample=0.5, verbosity=1)"
      ]
     },
     "execution_count": 84,
     "metadata": {
      "tags": []
     },
     "output_type": "execute_result"
    }
   ],
   "source": [
    "clf = XGBClassifier(base_score=0.5, booster='gbtree', colsample_bylevel=1,\n",
    "              colsample_bynode=1, colsample_bytree=0.5, gamma=0.2,\n",
    "              learning_rate=0.05, max_delta_step=0, max_depth=15,\n",
    "              min_child_weight=1, missing=None, n_estimators=100, n_jobs=1,\n",
    "              nthread=None, objective='binary:logistic', random_state=0,\n",
    "              reg_alpha=0, reg_lambda=1, scale_pos_weight=1, seed=None,\n",
    "              silent=None, subsample=0.5, verbosity=1)\n",
    "clf.fit(x_train , y_train)"
   ]
  },
  {
   "cell_type": "code",
   "execution_count": null,
   "metadata": {
    "colab": {
     "base_uri": "https://localhost:8080/"
    },
    "executionInfo": {
     "elapsed": 140807,
     "status": "ok",
     "timestamp": 1615973899720,
     "user": {
      "displayName": "ajay jogiya",
      "photoUrl": "https://lh3.googleusercontent.com/a-/AOh14GgRAXM6e1-9rIRgaPP756Iug7UkbP0azqriVDFLww=s64",
      "userId": "14152685769056492470"
     },
     "user_tz": -330
    },
    "id": "eVU0VmuNV2DJ",
    "outputId": "693ced1d-80f7-443d-cfcd-1c72a358115c"
   },
   "outputs": [
    {
     "name": "stdout",
     "output_type": "stream",
     "text": [
      "AUC Score of Train Data :  0.9549849554841928\n",
      "AUC Score of Val_data   :  0.7074753334155434\n"
     ]
    }
   ],
   "source": [
    "train_test_pred(clf , x_train , x_val)"
   ]
  },
  {
   "cell_type": "code",
   "execution_count": null,
   "metadata": {
    "colab": {
     "base_uri": "https://localhost:8080/",
     "height": 34
    },
    "executionInfo": {
     "elapsed": 59105,
     "status": "ok",
     "timestamp": 1615974661092,
     "user": {
      "displayName": "ajay jogiya",
      "photoUrl": "https://lh3.googleusercontent.com/a-/AOh14GgRAXM6e1-9rIRgaPP756Iug7UkbP0azqriVDFLww=s64",
      "userId": "14152685769056492470"
     },
     "user_tz": -330
    },
    "id": "Z8OraBgdV15n",
    "outputId": "61f9db91-9180-481b-ffe2-7bc1e1d5e8c3"
   },
   "outputs": [
    {
     "data": {
      "application/vnd.google.colaboratory.intrinsic+json": {
       "type": "string"
      },
      "text/plain": [
       "'Prediction on Test Data is saved.'"
      ]
     },
     "execution_count": 86,
     "metadata": {
      "tags": []
     },
     "output_type": "execute_result"
    }
   ],
   "source": [
    "test_pred(clf,test_data,'pca_xgboost')"
   ]
  },
  {
   "cell_type": "code",
   "execution_count": null,
   "metadata": {
    "colab": {
     "base_uri": "https://localhost:8080/",
     "height": 554
    },
    "executionInfo": {
     "elapsed": 4987,
     "status": "ok",
     "timestamp": 1615974822538,
     "user": {
      "displayName": "ajay jogiya",
      "photoUrl": "https://lh3.googleusercontent.com/a-/AOh14GgRAXM6e1-9rIRgaPP756Iug7UkbP0azqriVDFLww=s64",
      "userId": "14152685769056492470"
     },
     "user_tz": -330
    },
    "id": "ZSNpg20JWB7y",
    "outputId": "041154f5-dd5f-4786-99eb-93027fb944e8"
   },
   "outputs": [
    {
     "data": {
      "image/png": "[encoded data removed]",
      "text/plain": [
       "<Figure size 1440x504 with 1 Axes>"
      ]
     },
     "metadata": {
      "needs_background": "light",
      "tags": []
     },
     "output_type": "display_data"
    }
   ],
   "source": [
    "feature_impotance_plot(clf , 'xgboost with PCA Feature')"
   ]
  },
  {
   "cell_type": "markdown",
   "metadata": {
    "id": "EhkqRYZqPp8-"
   },
   "source": [
    "# **LBGM Classifier**"
   ]
  },
  {
   "cell_type": "code",
   "execution_count": null,
   "metadata": {
    "colab": {
     "base_uri": "https://localhost:8080/"
    },
    "executionInfo": {
     "elapsed": 191706,
     "status": "ok",
     "timestamp": 1615970021457,
     "user": {
      "displayName": "ajay jogiya",
      "photoUrl": "https://lh3.googleusercontent.com/a-/AOh14GgRAXM6e1-9rIRgaPP756Iug7UkbP0azqriVDFLww=s64",
      "userId": "14152685769056492470"
     },
     "user_tz": -330
    },
    "id": "qu-z3vTE5tp2",
    "outputId": "8d12e23c-bad2-4f83-91ad-d10d775b0a30"
   },
   "outputs": [
    {
     "name": "stdout",
     "output_type": "stream",
     "text": [
      "Fitting 3 folds for each of 10 candidates, totalling 30 fits\n"
     ]
    },
    {
     "name": "stderr",
     "output_type": "stream",
     "text": [
      "[Parallel(n_jobs=-1)]: Using backend LokyBackend with 2 concurrent workers.\n",
      "[Parallel(n_jobs=-1)]: Done  30 out of  30 | elapsed:  2.9min finished\n"
     ]
    },
    {
     "name": "stdout",
     "output_type": "stream",
     "text": [
      "LGBMClassifier(boosting_type='gbdt', class_weight=None, colsample_bytree=1.0,\n",
      "               importance_type='split', learning_rate=0.1, max_depth=4,\n",
      "               min_child_samples=10, min_child_weight=0.001, min_split_gain=0.0,\n",
      "               n_estimators=500, n_jobs=-1, num_leaves=18, objective=None,\n",
      "               random_state=None, reg_alpha=0.0, reg_lambda=0.0, silent=True,\n",
      "               subsample=1.0, subsample_for_bin=200000, subsample_freq=0)\n",
      "Train AUC  : 0.7428429771780117\n",
      "Val AUC    : 0.7113447920320441\n"
     ]
    }
   ],
   "source": [
    "params = {'min_child_samples' : [5,8,10,15],\n",
    " 'num_leaves' : [12,15,18,20],\n",
    " 'max_depth' : [2,4,6,8,10],\n",
    " 'n_estimators' : [100,200,300,500],\n",
    " 'learning_rate' : [0.001,0.01,0.1,0.5]\n",
    " }\n",
    "\n",
    "clf = LGBMClassifier()\n",
    "\n",
    "model =  RandomizedSearchCV(clf , params , scoring='roc_auc' , n_jobs=-1 , verbose=2 , cv = 3)\n",
    "model.fit(x_train, y_train)\n",
    "\n",
    "print(model.best_estimator_)\n",
    "print('Train AUC  :' , model.score(x_train , y_train))\n",
    "print('Val AUC    :' , model.score(x_val , y_val))"
   ]
  },
  {
   "cell_type": "code",
   "execution_count": 16,
   "metadata": {
    "colab": {
     "base_uri": "https://localhost:8080/"
    },
    "executionInfo": {
     "elapsed": 25668,
     "status": "ok",
     "timestamp": 1616280887429,
     "user": {
      "displayName": "ajay jogiya",
      "photoUrl": "https://lh3.googleusercontent.com/a-/AOh14GgRAXM6e1-9rIRgaPP756Iug7UkbP0azqriVDFLww=s64",
      "userId": "14152685769056492470"
     },
     "user_tz": -330
    },
    "id": "EeZKDnIlvOtw",
    "outputId": "b635e55f-13fa-40e5-f0a8-387c72b385f7"
   },
   "outputs": [
    {
     "data": {
      "text/plain": [
       "LGBMClassifier(boosting_type='gbdt', class_weight=None, colsample_bytree=1.0,\n",
       "               importance_type='split', learning_rate=0.1, max_depth=4,\n",
       "               min_child_samples=10, min_child_weight=0.001, min_split_gain=0.0,\n",
       "               n_estimators=1000, n_jobs=-1, num_leaves=18, objective=None,\n",
       "               random_state=None, reg_alpha=0.0, reg_lambda=0.0, silent=True,\n",
       "               subsample=1.0, subsample_for_bin=200000, subsample_freq=0)"
      ]
     },
     "execution_count": 16,
     "metadata": {
      "tags": []
     },
     "output_type": "execute_result"
    }
   ],
   "source": [
    "clf = LGBMClassifier( boosting_type='gbdt', class_weight=None, colsample_bytree=1.0,\n",
    "               importance_type='split', learning_rate=0.1, max_depth=4,\n",
    "               min_child_samples=10, min_child_weight=0.001, min_split_gain=0.0,\n",
    "               n_estimators = 1000, n_jobs=-1, num_leaves=18, objective=None,\n",
    "               random_state=None, reg_alpha=0.0, reg_lambda=0.0, silent=True,\n",
    "               subsample=1.0, subsample_for_bin=200000, subsample_freq=0)\n",
    "clf.fit( x_train, y_train )"
   ]
  },
  {
   "cell_type": "code",
   "execution_count": 17,
   "metadata": {
    "colab": {
     "base_uri": "https://localhost:8080/"
    },
    "executionInfo": {
     "elapsed": 23371,
     "status": "ok",
     "timestamp": 1616280896079,
     "user": {
      "displayName": "ajay jogiya",
      "photoUrl": "https://lh3.googleusercontent.com/a-/AOh14GgRAXM6e1-9rIRgaPP756Iug7UkbP0azqriVDFLww=s64",
      "userId": "14152685769056492470"
     },
     "user_tz": -330
    },
    "id": "YxLFstFuvOqv",
    "outputId": "dbafcd75-293c-4d1d-be4d-1fc477129c21"
   },
   "outputs": [
    {
     "name": "stdout",
     "output_type": "stream",
     "text": [
      "AUC Score of Train Data :  0.769001233762147\n",
      "AUC Score of Val_data   :  0.7124106032028676\n"
     ]
    }
   ],
   "source": [
    "train_test_pred(clf , x_train , x_val)"
   ]
  },
  {
   "cell_type": "code",
   "execution_count": 18,
   "metadata": {
    "colab": {
     "base_uri": "https://localhost:8080/",
     "height": 34
    },
    "executionInfo": {
     "elapsed": 105441,
     "status": "ok",
     "timestamp": 1616280979129,
     "user": {
      "displayName": "ajay jogiya",
      "photoUrl": "https://lh3.googleusercontent.com/a-/AOh14GgRAXM6e1-9rIRgaPP756Iug7UkbP0azqriVDFLww=s64",
      "userId": "14152685769056492470"
     },
     "user_tz": -330
    },
    "id": "-b8heDlrt4xZ",
    "outputId": "d531452d-43ed-40f7-93bc-8a08775f1db6"
   },
   "outputs": [
    {
     "data": {
      "application/vnd.google.colaboratory.intrinsic+json": {
       "type": "string"
      },
      "text/plain": [
       "'Prediction on Test Data is saved.'"
      ]
     },
     "execution_count": 18,
     "metadata": {
      "tags": []
     },
     "output_type": "execute_result"
    }
   ],
   "source": [
    "test_pred(clf,test_data,'pca_LGBM')"
   ]
  },
  {
   "cell_type": "code",
   "execution_count": null,
   "metadata": {
    "colab": {
     "base_uri": "https://localhost:8080/",
     "height": 553
    },
    "executionInfo": {
     "elapsed": 1473,
     "status": "ok",
     "timestamp": 1615970347360,
     "user": {
      "displayName": "ajay jogiya",
      "photoUrl": "https://lh3.googleusercontent.com/a-/AOh14GgRAXM6e1-9rIRgaPP756Iug7UkbP0azqriVDFLww=s64",
      "userId": "14152685769056492470"
     },
     "user_tz": -330
    },
    "id": "g01pHD3kPp9Y",
    "outputId": "80284a3e-99d3-42a5-bc09-ff9d7792a208"
   },
   "outputs": [
    {
     "data": {
      "image/png": "[encoded data removed]",
      "text/plain": [
       "<Figure size 1440x504 with 1 Axes>"
      ]
     },
     "metadata": {
      "needs_background": "light",
      "tags": []
     },
     "output_type": "display_data"
    }
   ],
   "source": [
    "feature_impotance_plot(clf , 'LGBM_with_PCA_Features')"
   ]
  },
  {
   "cell_type": "markdown",
   "metadata": {
    "id": "W6TLh12PstPc"
   },
   "source": [
    "# **Select k Features from SelectKBest**"
   ]
  },
  {
   "cell_type": "code",
   "execution_count": 20,
   "metadata": {
    "executionInfo": {
     "elapsed": 1118,
     "status": "ok",
     "timestamp": 1616281119493,
     "user": {
      "displayName": "ajay jogiya",
      "photoUrl": "https://lh3.googleusercontent.com/a-/AOh14GgRAXM6e1-9rIRgaPP756Iug7UkbP0azqriVDFLww=s64",
      "userId": "14152685769056492470"
     },
     "user_tz": -330
    },
    "id": "KxEuYpDIRpeN"
   },
   "outputs": [],
   "source": [
    "selection = SelectKBest(f_classif, k=20).fit(x_train, y_train)\n",
    "k_train = selection.transform(x_train)\n",
    "k_val   = selection.transform(x_val)\n",
    "k_test  = selection.transform(test_data)"
   ]
  },
  {
   "cell_type": "code",
   "execution_count": 21,
   "metadata": {
    "colab": {
     "base_uri": "https://localhost:8080/"
    },
    "executionInfo": {
     "elapsed": 765,
     "status": "ok",
     "timestamp": 1616281120804,
     "user": {
      "displayName": "ajay jogiya",
      "photoUrl": "https://lh3.googleusercontent.com/a-/AOh14GgRAXM6e1-9rIRgaPP756Iug7UkbP0azqriVDFLww=s64",
      "userId": "14152685769056492470"
     },
     "user_tz": -330
    },
    "id": "oK3Bwg9esphs",
    "outputId": "e17b82e1-2a4b-4b5a-a6ed-a7ec2e0bc7d5"
   },
   "outputs": [
    {
     "data": {
      "text/plain": [
       "((187500, 20), (62500, 20), (2556790, 20))"
      ]
     },
     "execution_count": 21,
     "metadata": {
      "tags": []
     },
     "output_type": "execute_result"
    }
   ],
   "source": [
    "k_train.shape , k_val.shape , k_test.shape"
   ]
  },
  {
   "cell_type": "markdown",
   "metadata": {
    "id": "AEDdRLaReHUr"
   },
   "source": [
    "## **LGBM**"
   ]
  },
  {
   "cell_type": "code",
   "execution_count": null,
   "metadata": {
    "colab": {
     "base_uri": "https://localhost:8080/"
    },
    "executionInfo": {
     "elapsed": 73491,
     "status": "ok",
     "timestamp": 1615989654146,
     "user": {
      "displayName": "ajay jogiya",
      "photoUrl": "https://lh3.googleusercontent.com/a-/AOh14GgRAXM6e1-9rIRgaPP756Iug7UkbP0azqriVDFLww=s64",
      "userId": "14152685769056492470"
     },
     "user_tz": -330
    },
    "id": "-PQaCGq5d8or",
    "outputId": "55c38521-579f-4613-dd71-4d0c7df597eb"
   },
   "outputs": [
    {
     "name": "stdout",
     "output_type": "stream",
     "text": [
      "Fitting 3 folds for each of 10 candidates, totalling 30 fits\n"
     ]
    },
    {
     "name": "stderr",
     "output_type": "stream",
     "text": [
      "[Parallel(n_jobs=-1)]: Using backend LokyBackend with 2 concurrent workers.\n",
      "[Parallel(n_jobs=-1)]: Done  30 out of  30 | elapsed:  1.1min finished\n"
     ]
    },
    {
     "name": "stdout",
     "output_type": "stream",
     "text": [
      "LGBMClassifier(boosting_type='gbdt', class_weight=None, colsample_bytree=1.0,\n",
      "               importance_type='split', learning_rate=0.1, max_depth=4,\n",
      "               min_child_samples=10, min_child_weight=0.001, min_split_gain=0.0,\n",
      "               n_estimators=100, n_jobs=-1, num_leaves=12, objective=None,\n",
      "               random_state=None, reg_alpha=0.0, reg_lambda=0.0, silent=True,\n",
      "               subsample=1.0, subsample_for_bin=200000, subsample_freq=0)\n",
      "Train AUC  : 0.7107737028711285\n",
      "Val AUC    : 0.7070701679148832\n"
     ]
    }
   ],
   "source": [
    "params = {'min_child_samples' : [5,8,10,15],\n",
    " 'num_leaves' : [12,15,18,20],\n",
    " 'max_depth' : [2,4,6,8,10],\n",
    " 'n_estimators' : [100,200,300,500],\n",
    " 'learning_rate' : [0.001,0.01,0.1,0.5]\n",
    " }\n",
    "\n",
    "clf = LGBMClassifier()\n",
    "\n",
    "model =  RandomizedSearchCV(clf , params , scoring='roc_auc' , n_jobs=-1 , verbose=2 , cv = 3)\n",
    "model.fit(k_train, y_train)\n",
    "\n",
    "print(model.best_estimator_)\n",
    "print('Train AUC  :' , model.score(k_train , y_train))\n",
    "print('Val AUC    :' , model.score(k_val , y_val))"
   ]
  },
  {
   "cell_type": "code",
   "execution_count": 22,
   "metadata": {
    "colab": {
     "base_uri": "https://localhost:8080/"
    },
    "executionInfo": {
     "elapsed": 22758,
     "status": "ok",
     "timestamp": 1616281147250,
     "user": {
      "displayName": "ajay jogiya",
      "photoUrl": "https://lh3.googleusercontent.com/a-/AOh14GgRAXM6e1-9rIRgaPP756Iug7UkbP0azqriVDFLww=s64",
      "userId": "14152685769056492470"
     },
     "user_tz": -330
    },
    "id": "sYMCB72PRpX-",
    "outputId": "c48c42a9-935e-4da9-a211-31b61b53761e"
   },
   "outputs": [
    {
     "data": {
      "text/plain": [
       "LGBMClassifier(boosting_type='gbdt', class_weight=None, colsample_bytree=1.0,\n",
       "               importance_type='split', learning_rate=0.1, max_depth=4,\n",
       "               min_child_samples=10, min_child_weight=0.001, min_split_gain=0.0,\n",
       "               n_estimators=1500, n_jobs=-1, num_leaves=12, objective=None,\n",
       "               random_state=None, reg_alpha=0.0, reg_lambda=0.0, silent=True,\n",
       "               subsample=1.0, subsample_for_bin=200000, subsample_freq=0)"
      ]
     },
     "execution_count": 22,
     "metadata": {
      "tags": []
     },
     "output_type": "execute_result"
    }
   ],
   "source": [
    "clf = LGBMClassifier( boosting_type='gbdt', class_weight=None, colsample_bytree=1.0,\n",
    "               importance_type='split', learning_rate=0.1, max_depth=4,\n",
    "               min_child_samples=10, min_child_weight=0.001, min_split_gain=0.0,\n",
    "               n_estimators=1500, n_jobs=-1, num_leaves=12, objective=None,\n",
    "               random_state=None, reg_alpha=0.0, reg_lambda=0.0, silent=True,\n",
    "               subsample=1.0, subsample_for_bin=200000, subsample_freq=0)\n",
    "clf.fit( k_train, y_train )"
   ]
  },
  {
   "cell_type": "code",
   "execution_count": 23,
   "metadata": {
    "colab": {
     "base_uri": "https://localhost:8080/"
    },
    "executionInfo": {
     "elapsed": 31782,
     "status": "ok",
     "timestamp": 1616281156803,
     "user": {
      "displayName": "ajay jogiya",
      "photoUrl": "https://lh3.googleusercontent.com/a-/AOh14GgRAXM6e1-9rIRgaPP756Iug7UkbP0azqriVDFLww=s64",
      "userId": "14152685769056492470"
     },
     "user_tz": -330
    },
    "id": "LZqL_GoPfJ5r",
    "outputId": "9795fb6e-8f3b-4d4e-8f4a-1cc8db1a1edc"
   },
   "outputs": [
    {
     "name": "stdout",
     "output_type": "stream",
     "text": [
      "AUC Score of Train Data :  0.7619187034729957\n",
      "AUC Score of Val_data   :  0.7132867474139292\n"
     ]
    }
   ],
   "source": [
    "train_test_pred(clf , k_train , k_val)"
   ]
  },
  {
   "cell_type": "code",
   "execution_count": 24,
   "metadata": {
    "colab": {
     "base_uri": "https://localhost:8080/",
     "height": 34
    },
    "executionInfo": {
     "elapsed": 133222,
     "status": "ok",
     "timestamp": 1616281261055,
     "user": {
      "displayName": "ajay jogiya",
      "photoUrl": "https://lh3.googleusercontent.com/a-/AOh14GgRAXM6e1-9rIRgaPP756Iug7UkbP0azqriVDFLww=s64",
      "userId": "14152685769056492470"
     },
     "user_tz": -330
    },
    "id": "lq1sS5_OfJ0J",
    "outputId": "c2584b93-34f8-495f-c75c-d1fa8ac3b423"
   },
   "outputs": [
    {
     "data": {
      "application/vnd.google.colaboratory.intrinsic+json": {
       "type": "string"
      },
      "text/plain": [
       "'Prediction on Test Data is saved.'"
      ]
     },
     "execution_count": 24,
     "metadata": {
      "tags": []
     },
     "output_type": "execute_result"
    }
   ],
   "source": [
    "test_pred(clf,k_test,'k_best_LGBM')"
   ]
  },
  {
   "cell_type": "code",
   "execution_count": null,
   "metadata": {
    "colab": {
     "base_uri": "https://localhost:8080/",
     "height": 573
    },
    "executionInfo": {
     "elapsed": 1209,
     "status": "ok",
     "timestamp": 1615989929759,
     "user": {
      "displayName": "ajay jogiya",
      "photoUrl": "https://lh3.googleusercontent.com/a-/AOh14GgRAXM6e1-9rIRgaPP756Iug7UkbP0azqriVDFLww=s64",
      "userId": "14152685769056492470"
     },
     "user_tz": -330
    },
    "id": "fQJ0Asp3fJuW",
    "outputId": "49e8ecde-8751-404b-dcb6-3f6567d94734"
   },
   "outputs": [
    {
     "data": {
      "image/png": "[encoded data removed]",
      "text/plain": [
       "<Figure size 1440x504 with 1 Axes>"
      ]
     },
     "metadata": {
      "needs_background": "light",
      "tags": []
     },
     "output_type": "display_data"
    }
   ],
   "source": [
    "feature_impotance_plot(clf , 'LGBM_with_k_best_Features')"
   ]
  },
  {
   "cell_type": "markdown",
   "metadata": {
    "id": "4K8NgAybrO7S"
   },
   "source": [
    "## **Stacking**\n",
    "### **Decision tree , Random Forest,XGBoost , LGBM**"
   ]
  },
  {
   "cell_type": "code",
   "execution_count": null,
   "metadata": {
    "id": "NJeJLfGWgXHv"
   },
   "outputs": [],
   "source": [
    "estimators = [ \n",
    "              ('dt' ,  DecisionTreeClassifier(  ccp_alpha=0.0, class_weight=None, criterion='gini',\n",
    "                       max_depth=10, max_features=None, max_leaf_nodes=92,\n",
    "                       min_impurity_decrease=0.0, min_impurity_split=None,\n",
    "                       min_samples_leaf=1, min_samples_split=50,\n",
    "                       min_weight_fraction_leaf=0.0, presort='deprecated',\n",
    "                       random_state=42, splitter='best'  ) ) ,\n",
    "              ( 'rf', RandomForestClassifier(bootstrap=True, ccp_alpha=0.0, class_weight='balanced',\n",
    "                       criterion='gini', max_depth=15, max_features='auto',\n",
    "                       max_leaf_nodes=None, max_samples=None,\n",
    "                       min_impurity_decrease=0.0, min_impurity_split=None,\n",
    "                       min_samples_leaf=1, min_samples_split=100,\n",
    "                       min_weight_fraction_leaf=0.0, n_estimators=1000,\n",
    "                       n_jobs=None, oob_score=False, random_state=42, verbose=0,\n",
    "                       warm_start=False) ),\n",
    "              \n",
    "              ('xgb', XGBClassifier(base_score=0.5, booster='gbtree', colsample_bylevel=1,\n",
    "                        colsample_bynode=1, colsample_bytree=1, gamma=0.01,\n",
    "                        learning_rate=0.1, max_delta_step=0, max_depth=13,\n",
    "                        min_child_weight=1, missing=None, n_estimators=1000, n_jobs=1,\n",
    "                        nthread=None, objective='binary:logistic', random_state=0,\n",
    "                        reg_alpha=0, reg_lambda=1, scale_pos_weight=1, seed=None,\n",
    "                        silent=None, subsample=1, verbosity=1)) ,\n",
    "              ('lgbm', LGBMClassifier( boosting_type='gbdt', class_weight=None, colsample_bytree=1.0,\n",
    "                        importance_type='split', learning_rate=0.1, max_depth=6,\n",
    "                        min_child_samples=8, min_child_weight=0.001, min_split_gain=0.0,\n",
    "                        n_estimators=1000, n_jobs=-1, num_leaves=15, objective=None,\n",
    "                        random_state=None, reg_alpha=0.0, reg_lambda=0.0, silent=True,\n",
    "                        subsample=1.0, subsample_for_bin=200000, subsample_freq=0 ) )\n",
    "              \n",
    " ]"
   ]
  },
  {
   "cell_type": "code",
   "execution_count": null,
   "metadata": {
    "colab": {
     "base_uri": "https://localhost:8080/"
    },
    "executionInfo": {
     "elapsed": 1291950,
     "status": "ok",
     "timestamp": 1616249886062,
     "user": {
      "displayName": "ajay jogiya",
      "photoUrl": "https://lh3.googleusercontent.com/a-/AOh14GgRAXM6e1-9rIRgaPP756Iug7UkbP0azqriVDFLww=s64",
      "userId": "14152685769056492470"
     },
     "user_tz": -330
    },
    "id": "YVm3Wy6TiNGb",
    "outputId": "502b90ae-3f08-4f57-d8a2-655f37e06d21"
   },
   "outputs": [
    {
     "name": "stderr",
     "output_type": "stream",
     "text": [
      "[Parallel(n_jobs=1)]: Using backend SequentialBackend with 1 concurrent workers.\n",
      "[Parallel(n_jobs=1)]: Done   5 out of   5 | elapsed:    5.1s finished\n",
      "[Parallel(n_jobs=1)]: Using backend SequentialBackend with 1 concurrent workers.\n",
      "[Parallel(n_jobs=1)]: Done   5 out of   5 | elapsed: 20.4min finished\n",
      "[Parallel(n_jobs=1)]: Using backend SequentialBackend with 1 concurrent workers.\n",
      "[Parallel(n_jobs=1)]: Done   5 out of   5 | elapsed: 44.5min finished\n",
      "[Parallel(n_jobs=1)]: Using backend SequentialBackend with 1 concurrent workers.\n",
      "[Parallel(n_jobs=1)]: Done   5 out of   5 | elapsed:  1.3min finished\n"
     ]
    },
    {
     "data": {
      "text/plain": [
       "StackingClassifier(cv=None,\n",
       "                   estimators=[('dt',\n",
       "                                DecisionTreeClassifier(ccp_alpha=0.0,\n",
       "                                                       class_weight=None,\n",
       "                                                       criterion='gini',\n",
       "                                                       max_depth=10,\n",
       "                                                       max_features=None,\n",
       "                                                       max_leaf_nodes=92,\n",
       "                                                       min_impurity_decrease=0.0,\n",
       "                                                       min_impurity_split=None,\n",
       "                                                       min_samples_leaf=1,\n",
       "                                                       min_samples_split=50,\n",
       "                                                       min_weight_fraction_leaf=0.0,\n",
       "                                                       presort='deprecated',\n",
       "                                                       random_state=42,\n",
       "                                                       splitter='best')),\n",
       "                               ('rf',\n",
       "                                Rand...\n",
       "                                               importance_type='split',\n",
       "                                               learning_rate=0.1, max_depth=6,\n",
       "                                               min_child_samples=8,\n",
       "                                               min_child_weight=0.001,\n",
       "                                               min_split_gain=0.0,\n",
       "                                               n_estimators=1000, n_jobs=-1,\n",
       "                                               num_leaves=15, objective=None,\n",
       "                                               random_state=None, reg_alpha=0.0,\n",
       "                                               reg_lambda=0.0, silent=True,\n",
       "                                               subsample=1.0,\n",
       "                                               subsample_for_bin=200000,\n",
       "                                               subsample_freq=0))],\n",
       "                   final_estimator=None, n_jobs=None, passthrough=False,\n",
       "                   stack_method='auto', verbose=1)"
      ]
     },
     "execution_count": 200,
     "metadata": {
      "tags": []
     },
     "output_type": "execute_result"
    }
   ],
   "source": [
    "stacking = StackingClassifier(estimators ,verbose=1 )\n",
    "stacking.fit(k_train,y_train)"
   ]
  },
  {
   "cell_type": "code",
   "execution_count": null,
   "metadata": {
    "colab": {
     "base_uri": "https://localhost:8080/"
    },
    "executionInfo": {
     "elapsed": 119936,
     "status": "ok",
     "timestamp": 1616250012475,
     "user": {
      "displayName": "ajay jogiya",
      "photoUrl": "https://lh3.googleusercontent.com/a-/AOh14GgRAXM6e1-9rIRgaPP756Iug7UkbP0azqriVDFLww=s64",
      "userId": "14152685769056492470"
     },
     "user_tz": -330
    },
    "id": "BWn9d0_ViIB5",
    "outputId": "670b9d5f-9e02-4bee-bdbe-f17ed5bd9036"
   },
   "outputs": [
    {
     "name": "stdout",
     "output_type": "stream",
     "text": [
      "AUC Score of Train Data :  0.9530974394687759\n",
      "AUC Score of Val_data   :  0.7224701000587619\n"
     ]
    }
   ],
   "source": [
    "train_test_pred(stacking , k_train , k_val)"
   ]
  },
  {
   "cell_type": "code",
   "execution_count": null,
   "metadata": {
    "colab": {
     "base_uri": "https://localhost:8080/",
     "height": 34
    },
    "executionInfo": {
     "elapsed": 1143561,
     "status": "ok",
     "timestamp": 1616251186459,
     "user": {
      "displayName": "ajay jogiya",
      "photoUrl": "https://lh3.googleusercontent.com/a-/AOh14GgRAXM6e1-9rIRgaPP756Iug7UkbP0azqriVDFLww=s64",
      "userId": "14152685769056492470"
     },
     "user_tz": -330
    },
    "id": "-K6rOJ9hq1KU",
    "outputId": "6971b499-c149-4174-ed48-76e9d322da9a"
   },
   "outputs": [
    {
     "data": {
      "application/vnd.google.colaboratory.intrinsic+json": {
       "type": "string"
      },
      "text/plain": [
       "'Prediction on Test Data is saved.'"
      ]
     },
     "execution_count": 202,
     "metadata": {
      "tags": []
     },
     "output_type": "execute_result"
    }
   ],
   "source": [
    "test_pred(stacking,k_test,'k_best_stacking')"
   ]
  },
  {
   "cell_type": "markdown",
   "metadata": {
    "id": "8yDONfxf1G0y"
   },
   "source": [
    "# **Bin Counting(log-odds ratio)**\n",
    "##### **Use conditional probability of particular category with target.**\n",
    "\n",
    "##### **log_odds ratio =  log(p(y=1 | x=1)) - log(p(y=0 | x=1))**\n",
    "##### **where y = particular category of feature and x is target variable.**"
   ]
  },
  {
   "cell_type": "markdown",
   "metadata": {},
   "source": [
    "#### Reference take from book : Feature_Engineering_For_Machine_Learning "
   ]
  },
  {
   "cell_type": "code",
   "execution_count": null,
   "metadata": {
    "id": "tOy_E-sxjAB9"
   },
   "outputs": [],
   "source": [
    "def bin_counting(col_name , x_train , x_val , test_data):\n",
    "    \n",
    "    bin_encoding = pd.DataFrame()\n",
    "    x_train['target'] = y_train\n",
    "\n",
    "    bin_encoding['target_1_count'] = x_train[col_name][x_train['target'] == 1].value_counts()\n",
    "    bin_encoding['target_0_count'] = x_train[col_name][x_train['target'] == 0].value_counts()\n",
    "    bin_encoding['Total_category_count'] = x_train[col_name].value_counts() \n",
    "\n",
    "    bin_encoding['target_1_count'] = bin_encoding['target_1_count'].fillna(0)\n",
    "    bin_encoding['target_0_count'] = bin_encoding['target_0_count'].fillna(0)\n",
    "    bin_encoding['Total_category_count'] = bin_encoding['Total_category_count'].fillna(0)\n",
    "\n",
    "    bin_encoding['positive'] = bin_encoding['target_1_count'].div(bin_encoding['Total_category_count'])\n",
    "    bin_encoding['negative'] = bin_encoding['target_0_count'].div(bin_encoding['Total_category_count'])\n",
    "    bin_encoding['log']  = np.log(bin_encoding['positive']) - np.log(bin_encoding['negative'])\n",
    "\n",
    "    d = dict([(key,values) for key,values in zip(bin_encoding.index, bin_encoding.log)])\n",
    "\n",
    "    x_train['prob_'+col_name] = x_train[col_name].map(d)\n",
    "\n",
    "    x_val['prob_'+col_name] = x_val[col_name].map(d)\n",
    "\n",
    "    test_data['prob_'+col_name] = test_data[col_name].map(d)"
   ]
  },
  {
   "cell_type": "code",
   "execution_count": null,
   "metadata": {
    "colab": {
     "base_uri": "https://localhost:8080/"
    },
    "executionInfo": {
     "elapsed": 3883,
     "status": "ok",
     "timestamp": 1616257975910,
     "user": {
      "displayName": "ajay jogiya",
      "photoUrl": "https://lh3.googleusercontent.com/a-/AOh14GgRAXM6e1-9rIRgaPP756Iug7UkbP0azqriVDFLww=s64",
      "userId": "14152685769056492470"
     },
     "user_tz": -330
    },
    "id": "u6HZSfB7vcan",
    "outputId": "2ed1c196-ac39-4e76-f269-c73b6f43fcdb"
   },
   "outputs": [
    {
     "data": {
      "text/plain": [
       "((187500, 32), (62500, 32), (2556790, 32))"
      ]
     },
     "execution_count": 47,
     "metadata": {
      "tags": []
     },
     "output_type": "execute_result"
    }
   ],
   "source": [
    "x_train.shape , x_val.shape , test_data.shape"
   ]
  },
  {
   "cell_type": "code",
   "execution_count": null,
   "metadata": {
    "colab": {
     "base_uri": "https://localhost:8080/"
    },
    "executionInfo": {
     "elapsed": 1131,
     "status": "ok",
     "timestamp": 1616257986529,
     "user": {
      "displayName": "ajay jogiya",
      "photoUrl": "https://lh3.googleusercontent.com/a-/AOh14GgRAXM6e1-9rIRgaPP756Iug7UkbP0azqriVDFLww=s64",
      "userId": "14152685769056492470"
     },
     "user_tz": -330
    },
    "id": "9syetyeYTC8j",
    "outputId": "900e9732-a682-42a2-a231-31bf8c6f75fa"
   },
   "outputs": [
    {
     "name": "stdout",
     "output_type": "stream",
     "text": [
      "source_screen_name  Done.\n",
      "source_type  Done.\n"
     ]
    }
   ],
   "source": [
    "encoding_feature = ['source_screen_name' , 'source_type' ]\n",
    "for i in encoding_feature:\n",
    "    bin_counting(i,x_train , x_val , test_data )\n",
    "    #x_train = x_train.drop('target' ,axis = 1 )"
   ]
  },
  {
   "cell_type": "code",
   "execution_count": null,
   "metadata": {
    "colab": {
     "base_uri": "https://localhost:8080/"
    },
    "executionInfo": {
     "elapsed": 993,
     "status": "ok",
     "timestamp": 1616256534624,
     "user": {
      "displayName": "ajay jogiya",
      "photoUrl": "https://lh3.googleusercontent.com/a-/AOh14GgRAXM6e1-9rIRgaPP756Iug7UkbP0azqriVDFLww=s64",
      "userId": "14152685769056492470"
     },
     "user_tz": -330
    },
    "id": "hxllGjHnoqcA",
    "outputId": "8f7d0a3d-2181-4f49-d226-400b276a6922"
   },
   "outputs": [
    {
     "data": {
      "text/plain": [
       "((187500, 34), (62500, 34), (2556790, 34))"
      ]
     },
     "execution_count": 10,
     "metadata": {
      "tags": []
     },
     "output_type": "execute_result"
    }
   ],
   "source": [
    "x_train.shape , x_val.shape , test_data.shape"
   ]
  },
  {
   "cell_type": "markdown",
   "metadata": {
    "id": "Ymt1LyD7w0Xx"
   },
   "source": [
    "# **LGBM**"
   ]
  },
  {
   "cell_type": "code",
   "execution_count": null,
   "metadata": {
    "colab": {
     "base_uri": "https://localhost:8080/"
    },
    "executionInfo": {
     "elapsed": 284037,
     "status": "ok",
     "timestamp": 1616254951767,
     "user": {
      "displayName": "ajay jogiya",
      "photoUrl": "https://lh3.googleusercontent.com/a-/AOh14GgRAXM6e1-9rIRgaPP756Iug7UkbP0azqriVDFLww=s64",
      "userId": "14152685769056492470"
     },
     "user_tz": -330
    },
    "id": "6Xlfbrk0xWYT",
    "outputId": "a430430b-4f87-4726-83cc-ce29354795fe"
   },
   "outputs": [
    {
     "name": "stdout",
     "output_type": "stream",
     "text": [
      "Fitting 3 folds for each of 10 candidates, totalling 30 fits\n"
     ]
    },
    {
     "name": "stderr",
     "output_type": "stream",
     "text": [
      "[Parallel(n_jobs=-1)]: Using backend LokyBackend with 2 concurrent workers.\n",
      "[Parallel(n_jobs=-1)]: Done  30 out of  30 | elapsed:  4.5min finished\n"
     ]
    },
    {
     "name": "stdout",
     "output_type": "stream",
     "text": [
      "LGBMClassifier(boosting_type='gbdt', class_weight=None, colsample_bytree=1.0,\n",
      "               importance_type='split', learning_rate=0.1, max_depth=4,\n",
      "               min_child_samples=5, min_child_weight=0.001, min_split_gain=0.0,\n",
      "               n_estimators=500, n_jobs=-1, num_leaves=8, objective=None,\n",
      "               random_state=42, reg_alpha=0.0, reg_lambda=0.0, silent=True,\n",
      "               subsample=1.0, subsample_for_bin=200000, subsample_freq=0)\n",
      "Train AUC  : 0.7264051950524487\n",
      "Val AUC    : 0.710975430990195\n"
     ]
    }
   ],
   "source": [
    "params = {'min_child_samples' : [5,8,10,15],\n",
    " 'num_leaves' : [8,12,15,18],\n",
    " 'max_depth' : [2,4,6,8,10],\n",
    " 'learning_rate' : [0.001,0.01,0.1,0.5]\n",
    " }\n",
    "\n",
    "clf = LGBMClassifier(n_estimators=500 , random_state=42)\n",
    "\n",
    "model =  RandomizedSearchCV(clf , params , scoring='roc_auc' , n_jobs=-1 , verbose=2 , cv = 3)\n",
    "model.fit(x_train, y_train)\n",
    "\n",
    "print(model.best_estimator_)\n",
    "\n",
    "print('Train AUC  :' , model.score(x_train , y_train))\n",
    "print('Val AUC    :' , model.score(x_val , y_val))"
   ]
  },
  {
   "cell_type": "code",
   "execution_count": null,
   "metadata": {
    "colab": {
     "base_uri": "https://localhost:8080/"
    },
    "executionInfo": {
     "elapsed": 19689,
     "status": "ok",
     "timestamp": 1616258013570,
     "user": {
      "displayName": "ajay jogiya",
      "photoUrl": "https://lh3.googleusercontent.com/a-/AOh14GgRAXM6e1-9rIRgaPP756Iug7UkbP0azqriVDFLww=s64",
      "userId": "14152685769056492470"
     },
     "user_tz": -330
    },
    "id": "pMMl68HTnu2O",
    "outputId": "00cadf06-7891-4032-b633-36db4edcabf0"
   },
   "outputs": [
    {
     "data": {
      "text/plain": [
       "LGBMClassifier(boosting_type='gbdt', class_weight=None, colsample_bytree=1.0,\n",
       "               importance_type='split', learning_rate=0.2, max_depth=10,\n",
       "               min_child_samples=5, min_child_weight=0.001, min_split_gain=0.0,\n",
       "               n_estimators=1000, n_jobs=-1, num_leaves=8, objective=None,\n",
       "               random_state=42, reg_alpha=0.0, reg_lambda=0.0, silent=True,\n",
       "               subsample=1.0, subsample_for_bin=200000, subsample_freq=0)"
      ]
     },
     "execution_count": 49,
     "metadata": {
      "tags": []
     },
     "output_type": "execute_result"
    }
   ],
   "source": [
    "clf = LGBMClassifier(boosting_type='gbdt', class_weight=None, colsample_bytree=1.0,\n",
    "               importance_type='split', learning_rate=0.2, max_depth=10,\n",
    "               min_child_samples=5, min_child_weight=0.001, min_split_gain=0.0,\n",
    "               n_estimators=1000, n_jobs=-1, num_leaves=8, objective=None,\n",
    "               random_state=42, reg_alpha=0.0, reg_lambda=0.0, silent=True,\n",
    "               subsample=1.0, subsample_for_bin=200000, subsample_freq=0)\n",
    "clf.fit( x_train, y_train )"
   ]
  },
  {
   "cell_type": "code",
   "execution_count": null,
   "metadata": {
    "colab": {
     "base_uri": "https://localhost:8080/"
    },
    "executionInfo": {
     "elapsed": 24046,
     "status": "ok",
     "timestamp": 1616256862097,
     "user": {
      "displayName": "ajay jogiya",
      "photoUrl": "https://lh3.googleusercontent.com/a-/AOh14GgRAXM6e1-9rIRgaPP756Iug7UkbP0azqriVDFLww=s64",
      "userId": "14152685769056492470"
     },
     "user_tz": -330
    },
    "id": "yO3bp5JJaFwa",
    "outputId": "1cd7f30a-5c3a-4c7f-c560-4aae6166a07e"
   },
   "outputs": [
    {
     "name": "stdout",
     "output_type": "stream",
     "text": [
      "AUC Score of Train Data :  0.773969867092791\n",
      "AUC Score of Val_data   :  0.7144373323972704\n"
     ]
    }
   ],
   "source": [
    "# source screen , source_type\n",
    "train_test_pred(clf , x_train , x_val)"
   ]
  },
  {
   "cell_type": "code",
   "execution_count": null,
   "metadata": {
    "colab": {
     "base_uri": "https://localhost:8080/",
     "height": 34
    },
    "executionInfo": {
     "elapsed": 56130,
     "status": "ok",
     "timestamp": 1616229587184,
     "user": {
      "displayName": "ajay jogiya",
      "photoUrl": "https://lh3.googleusercontent.com/a-/AOh14GgRAXM6e1-9rIRgaPP756Iug7UkbP0azqriVDFLww=s64",
      "userId": "14152685769056492470"
     },
     "user_tz": -330
    },
    "id": "sHc0bGt19Kvq",
    "outputId": "527112fd-f600-41b5-e9d4-d03049cf8da9"
   },
   "outputs": [
    {
     "data": {
      "application/vnd.google.colaboratory.intrinsic+json": {
       "type": "string"
      },
      "text/plain": [
       "'Prediction on Test Data is saved.'"
      ]
     },
     "execution_count": 167,
     "metadata": {
      "tags": []
     },
     "output_type": "execute_result"
    }
   ],
   "source": [
    "test_pred(clf,test_data,'LGBM_prob')"
   ]
  },
  {
   "cell_type": "code",
   "execution_count": null,
   "metadata": {
    "colab": {
     "base_uri": "https://localhost:8080/",
     "height": 579
    },
    "executionInfo": {
     "elapsed": 1326,
     "status": "ok",
     "timestamp": 1616256871060,
     "user": {
      "displayName": "ajay jogiya",
      "photoUrl": "https://lh3.googleusercontent.com/a-/AOh14GgRAXM6e1-9rIRgaPP756Iug7UkbP0azqriVDFLww=s64",
      "userId": "14152685769056492470"
     },
     "user_tz": -330
    },
    "id": "A3NJOo6Zn64H",
    "outputId": "764d9161-44d7-48e4-cca3-3206a95aae3d"
   },
   "outputs": [
    {
     "data": {
      "image/png": "[encoded data removed]",
      "text/plain": [
       "<Figure size 1440x504 with 1 Axes>"
      ]
     },
     "metadata": {
      "needs_background": "light",
      "tags": []
     },
     "output_type": "display_data"
    }
   ],
   "source": [
    "feature_impotance_plot(clf , 'LGBM_prob')"
   ]
  },
  {
   "cell_type": "markdown",
   "metadata": {
    "id": "65Ff0Dzzcpoz"
   },
   "source": [
    "# **AdaBoost**"
   ]
  },
  {
   "cell_type": "code",
   "execution_count": null,
   "metadata": {
    "colab": {
     "base_uri": "https://localhost:8080/"
    },
    "executionInfo": {
     "elapsed": 127020,
     "status": "ok",
     "timestamp": 1616258276542,
     "user": {
      "displayName": "ajay jogiya",
      "photoUrl": "https://lh3.googleusercontent.com/a-/AOh14GgRAXM6e1-9rIRgaPP756Iug7UkbP0azqriVDFLww=s64",
      "userId": "14152685769056492470"
     },
     "user_tz": -330
    },
    "id": "-CJ-xyatcppK",
    "outputId": "54aa85eb-4f19-4ecd-d269-3e221e061029"
   },
   "outputs": [
    {
     "name": "stdout",
     "output_type": "stream",
     "text": [
      "Fitting 3 folds for each of 4 candidates, totalling 12 fits\n"
     ]
    },
    {
     "name": "stderr",
     "output_type": "stream",
     "text": [
      "[Parallel(n_jobs=-1)]: Using backend LokyBackend with 2 concurrent workers.\n",
      "[Parallel(n_jobs=-1)]: Done  12 out of  12 | elapsed:  1.8min finished\n"
     ]
    },
    {
     "name": "stdout",
     "output_type": "stream",
     "text": [
      "AdaBoostClassifier(algorithm='SAMME.R', base_estimator=None, learning_rate=0.5,\n",
      "                   n_estimators=50, random_state=None)\n",
      "Train AUC  : 0.6982694054580443\n",
      "Val AUC    : 0.6978653216372456\n"
     ]
    }
   ],
   "source": [
    "params = {'learning_rate' : [0.01,0.1,0.5,1]}\n",
    "\n",
    "clf = AdaBoostClassifier()\n",
    "\n",
    "model =  RandomizedSearchCV(clf , params , scoring='roc_auc' , n_jobs=-1 , verbose=2 , cv = 3)\n",
    "model.fit(x_train, y_train)\n",
    "\n",
    "print(model.best_estimator_)\n",
    "print('Train AUC  :' , model.score(x_train , y_train))\n",
    "print('Val AUC    :' , model.score(x_val , y_val))"
   ]
  },
  {
   "cell_type": "code",
   "execution_count": null,
   "metadata": {
    "colab": {
     "base_uri": "https://localhost:8080/"
    },
    "executionInfo": {
     "elapsed": 342440,
     "status": "ok",
     "timestamp": 1616259055594,
     "user": {
      "displayName": "ajay jogiya",
      "photoUrl": "https://lh3.googleusercontent.com/a-/AOh14GgRAXM6e1-9rIRgaPP756Iug7UkbP0azqriVDFLww=s64",
      "userId": "14152685769056492470"
     },
     "user_tz": -330
    },
    "id": "sXQHjlwccppL",
    "outputId": "07552717-f7c8-48a5-9be1-d3edca4250b9"
   },
   "outputs": [
    {
     "name": "stdout",
     "output_type": "stream",
     "text": [
      "5.672406001885732\n"
     ]
    }
   ],
   "source": [
    "start  = time.time()\n",
    "clf = AdaBoostClassifier( algorithm='SAMME.R', base_estimator=None, learning_rate=0.5,\n",
    "                         n_estimators=1000, random_state=None )\n",
    "\n",
    "clf.fit(x_train,y_train)\n",
    "print((time.time() - start) / 60 )"
   ]
  },
  {
   "cell_type": "code",
   "execution_count": null,
   "metadata": {
    "colab": {
     "base_uri": "https://localhost:8080/"
    },
    "executionInfo": {
     "elapsed": 382066,
     "status": "ok",
     "timestamp": 1616259096472,
     "user": {
      "displayName": "ajay jogiya",
      "photoUrl": "https://lh3.googleusercontent.com/a-/AOh14GgRAXM6e1-9rIRgaPP756Iug7UkbP0azqriVDFLww=s64",
      "userId": "14152685769056492470"
     },
     "user_tz": -330
    },
    "id": "CcGjX90FcppM",
    "outputId": "a337bdec-c95b-41e1-f4b1-b566942d8169"
   },
   "outputs": [
    {
     "name": "stdout",
     "output_type": "stream",
     "text": [
      "AUC Score of Train Data :  0.7048254918774453\n",
      "AUC Score of Val_data   :  0.7018064188693149\n"
     ]
    }
   ],
   "source": [
    "train_test_pred(clf , x_train , x_val)"
   ]
  },
  {
   "cell_type": "code",
   "execution_count": null,
   "metadata": {
    "colab": {
     "base_uri": "https://localhost:8080/",
     "height": 34
    },
    "executionInfo": {
     "elapsed": 433508,
     "status": "ok",
     "timestamp": 1616259864471,
     "user": {
      "displayName": "ajay jogiya",
      "photoUrl": "https://lh3.googleusercontent.com/a-/AOh14GgRAXM6e1-9rIRgaPP756Iug7UkbP0azqriVDFLww=s64",
      "userId": "14152685769056492470"
     },
     "user_tz": -330
    },
    "id": "ur17z9S2cppN",
    "outputId": "18760edc-5b5e-41ad-bc65-ea2febcd2c48"
   },
   "outputs": [
    {
     "data": {
      "application/vnd.google.colaboratory.intrinsic+json": {
       "type": "string"
      },
      "text/plain": [
       "'Prediction on Test Data is saved.'"
      ]
     },
     "execution_count": 59,
     "metadata": {
      "tags": []
     },
     "output_type": "execute_result"
    }
   ],
   "source": [
    "# Private Score : \n",
    "# Public Score  : \n",
    "test_pred(clf,test_data , 'Adaboost_prob')"
   ]
  },
  {
   "cell_type": "code",
   "execution_count": null,
   "metadata": {
    "colab": {
     "base_uri": "https://localhost:8080/",
     "height": 579
    },
    "executionInfo": {
     "elapsed": 1597,
     "status": "ok",
     "timestamp": 1616260110648,
     "user": {
      "displayName": "ajay jogiya",
      "photoUrl": "https://lh3.googleusercontent.com/a-/AOh14GgRAXM6e1-9rIRgaPP756Iug7UkbP0azqriVDFLww=s64",
      "userId": "14152685769056492470"
     },
     "user_tz": -330
    },
    "id": "qL0YzsKmcppN",
    "outputId": "23f2f6e3-e942-4547-acd4-f98a7d530811"
   },
   "outputs": [
    {
     "data": {
      "image/png": "[encoded data removed]",
      "text/plain": [
       "<Figure size 1440x504 with 1 Axes>"
      ]
     },
     "metadata": {
      "needs_background": "light",
      "tags": []
     },
     "output_type": "display_data"
    }
   ],
   "source": [
    "feature_impotance_plot(clf , 'Adaboost_prob')"
   ]
  },
  {
   "cell_type": "markdown",
   "metadata": {
    "id": "p2IW0f68iBQu"
   },
   "source": [
    "# **Random Forest**"
   ]
  },
  {
   "cell_type": "code",
   "execution_count": null,
   "metadata": {
    "colab": {
     "base_uri": "https://localhost:8080/"
    },
    "executionInfo": {
     "elapsed": 469954,
     "status": "ok",
     "timestamp": 1616260592006,
     "user": {
      "displayName": "ajay jogiya",
      "photoUrl": "https://lh3.googleusercontent.com/a-/AOh14GgRAXM6e1-9rIRgaPP756Iug7UkbP0azqriVDFLww=s64",
      "userId": "14152685769056492470"
     },
     "user_tz": -330
    },
    "id": "FGAuBJVqiBRG",
    "outputId": "399fa0b4-f7bc-4b2a-a7c5-85c51a9cbd13"
   },
   "outputs": [
    {
     "name": "stdout",
     "output_type": "stream",
     "text": [
      "Fitting 3 folds for each of 10 candidates, totalling 30 fits\n"
     ]
    },
    {
     "name": "stderr",
     "output_type": "stream",
     "text": [
      "[Parallel(n_jobs=-1)]: Using backend LokyBackend with 2 concurrent workers.\n",
      "[Parallel(n_jobs=-1)]: Done  30 out of  30 | elapsed:  7.0min finished\n"
     ]
    },
    {
     "name": "stdout",
     "output_type": "stream",
     "text": [
      "RandomForestClassifier(bootstrap=True, ccp_alpha=0.0, class_weight='balanced',\n",
      "                       criterion='gini', max_depth=15, max_features='auto',\n",
      "                       max_leaf_nodes=None, max_samples=None,\n",
      "                       min_impurity_decrease=0.0, min_impurity_split=None,\n",
      "                       min_samples_leaf=1, min_samples_split=3,\n",
      "                       min_weight_fraction_leaf=0.0, n_estimators=100,\n",
      "                       n_jobs=None, oob_score=False, random_state=42, verbose=0,\n",
      "                       warm_start=False)\n",
      "Train AUC  : 0.8554971332999617\n",
      "Val AUC    : 0.7120280004610883\n"
     ]
    }
   ],
   "source": [
    "params = {\n",
    "    'max_depth' : [ 3,5,8,10,13,15] , \n",
    "    'min_samples_split' : [ 3,50,100,200]}\n",
    "\n",
    "clf = RandomForestClassifier(class_weight = 'balanced' , random_state=42)\n",
    "\n",
    "model = RandomizedSearchCV(clf , params , scoring='roc_auc' , n_jobs=-1 , verbose=2 , cv = 3)\n",
    "model.fit(x_train, y_train)\n",
    "\n",
    "print(model.best_estimator_)\n",
    "print('Train AUC  :' , model.score(x_train , y_train))\n",
    "print('Val AUC    :' , model.score(x_val, y_val))"
   ]
  },
  {
   "cell_type": "code",
   "execution_count": null,
   "metadata": {
    "colab": {
     "base_uri": "https://localhost:8080/"
    },
    "executionInfo": {
     "elapsed": 425378,
     "status": "ok",
     "timestamp": 1616262189636,
     "user": {
      "displayName": "ajay jogiya",
      "photoUrl": "https://lh3.googleusercontent.com/a-/AOh14GgRAXM6e1-9rIRgaPP756Iug7UkbP0azqriVDFLww=s64",
      "userId": "14152685769056492470"
     },
     "user_tz": -330
    },
    "id": "lkOxvEL-iBRI",
    "outputId": "0b25fbf3-8ce2-4ac2-c5fd-0838e613e01b"
   },
   "outputs": [
    {
     "data": {
      "text/plain": [
       "RandomForestClassifier(bootstrap=True, ccp_alpha=0.0, class_weight='balanced',\n",
       "                       criterion='gini', max_depth=15, max_features='auto',\n",
       "                       max_leaf_nodes=None, max_samples=None,\n",
       "                       min_impurity_decrease=0.0, min_impurity_split=None,\n",
       "                       min_samples_leaf=1, min_samples_split=3,\n",
       "                       min_weight_fraction_leaf=0.0, n_estimators=1000,\n",
       "                       n_jobs=None, oob_score=False, random_state=42, verbose=0,\n",
       "                       warm_start=False)"
      ]
     },
     "execution_count": 62,
     "metadata": {
      "tags": []
     },
     "output_type": "execute_result"
    }
   ],
   "source": [
    "clf = RandomForestClassifier(bootstrap=True, ccp_alpha=0.0, class_weight='balanced',\n",
    "                       criterion='gini', max_depth=15, max_features='auto',\n",
    "                       max_leaf_nodes=None, max_samples=None,\n",
    "                       min_impurity_decrease=0.0, min_impurity_split=None,\n",
    "                       min_samples_leaf=1, min_samples_split=3,\n",
    "                       min_weight_fraction_leaf=0.0, n_estimators=1000,\n",
    "                       n_jobs=None, oob_score=False, random_state=42, verbose=0,\n",
    "                       warm_start=False)\n",
    "\n",
    "clf.fit(x_train,y_train)"
   ]
  },
  {
   "cell_type": "code",
   "execution_count": null,
   "metadata": {
    "colab": {
     "base_uri": "https://localhost:8080/"
    },
    "executionInfo": {
     "elapsed": 50177,
     "status": "ok",
     "timestamp": 1616262813679,
     "user": {
      "displayName": "ajay jogiya",
      "photoUrl": "https://lh3.googleusercontent.com/a-/AOh14GgRAXM6e1-9rIRgaPP756Iug7UkbP0azqriVDFLww=s64",
      "userId": "14152685769056492470"
     },
     "user_tz": -330
    },
    "id": "mH4JTcLIiBRI",
    "outputId": "e84383c5-a995-43d8-bef7-ad5b2713acf2"
   },
   "outputs": [
    {
     "name": "stdout",
     "output_type": "stream",
     "text": [
      "AUC Score of Train Data :  0.8584070079018968\n",
      "AUC Score of Val_data   :  0.7133280823472363\n"
     ]
    }
   ],
   "source": [
    "train_test_pred(clf , x_train , x_val)"
   ]
  },
  {
   "cell_type": "code",
   "execution_count": null,
   "metadata": {
    "colab": {
     "base_uri": "https://localhost:8080/",
     "height": 34
    },
    "executionInfo": {
     "elapsed": 515663,
     "status": "ok",
     "timestamp": 1616263532798,
     "user": {
      "displayName": "ajay jogiya",
      "photoUrl": "https://lh3.googleusercontent.com/a-/AOh14GgRAXM6e1-9rIRgaPP756Iug7UkbP0azqriVDFLww=s64",
      "userId": "14152685769056492470"
     },
     "user_tz": -330
    },
    "id": "ntvTw8uEiBRJ",
    "outputId": "1c8958cd-ddeb-4110-fce6-7edf24605554"
   },
   "outputs": [
    {
     "data": {
      "application/vnd.google.colaboratory.intrinsic+json": {
       "type": "string"
      },
      "text/plain": [
       "'Prediction on Test Data is saved.'"
      ]
     },
     "execution_count": 64,
     "metadata": {
      "tags": []
     },
     "output_type": "execute_result"
    }
   ],
   "source": [
    "test_pred(clf,test_data,'random_forest_prob.csv')"
   ]
  },
  {
   "cell_type": "code",
   "execution_count": null,
   "metadata": {
    "colab": {
     "base_uri": "https://localhost:8080/",
     "height": 579
    },
    "executionInfo": {
     "elapsed": 3179,
     "status": "ok",
     "timestamp": 1616263612283,
     "user": {
      "displayName": "ajay jogiya",
      "photoUrl": "https://lh3.googleusercontent.com/a-/AOh14GgRAXM6e1-9rIRgaPP756Iug7UkbP0azqriVDFLww=s64",
      "userId": "14152685769056492470"
     },
     "user_tz": -330
    },
    "id": "8vqaw8AZiBRK",
    "outputId": "ebccb893-ff00-4a80-e687-8a62885f5290"
   },
   "outputs": [
    {
     "data": {
      "image/png": "[encoded data removed]",
      "text/plain": [
       "<Figure size 1440x504 with 1 Axes>"
      ]
     },
     "metadata": {
      "needs_background": "light",
      "tags": []
     },
     "output_type": "display_data"
    }
   ],
   "source": [
    "feature_impotance_plot(clf , 'random forest with prob')"
   ]
  },
  {
   "cell_type": "markdown",
   "metadata": {
    "id": "vl9cHPKg0jFs"
   },
   "source": [
    "# **stacking**\n",
    "### **Random Forest , Adaboost , LGBM**"
   ]
  },
  {
   "cell_type": "code",
   "execution_count": null,
   "metadata": {
    "id": "QP4KSzFO0jFt"
   },
   "outputs": [],
   "source": [
    "estimators = [\n",
    "              ( 'rf', RandomForestClassifier(bootstrap=True, ccp_alpha=0.0, class_weight='balanced',\n",
    "                        criterion='gini', max_depth=15, max_features='auto',\n",
    "                        max_leaf_nodes=None, max_samples=None,\n",
    "                        min_impurity_decrease=0.0, min_impurity_split=None,\n",
    "                        min_samples_leaf=1, min_samples_split=3,\n",
    "                        min_weight_fraction_leaf=0.0, n_estimators=1500,\n",
    "                        n_jobs=None, oob_score=False, random_state=42, verbose=0,\n",
    "                       warm_start=False) ),\n",
    "              \n",
    "              ('adaboost', AdaBoostClassifier( algorithm='SAMME.R', base_estimator=None, learning_rate=0.5,\n",
    "                        n_estimators=1000, random_state=None )),\n",
    "              \n",
    "              ('lgbm', LGBMClassifier( boosting_type='gbdt', class_weight=None, colsample_bytree=1.0,\n",
    "                        importance_type='split', learning_rate=0.2, max_depth=10,\n",
    "                        min_child_samples=5, min_child_weight=0.001, min_split_gain=0.0,\n",
    "                        n_estimators=1500, n_jobs=-1, num_leaves=8, objective=None,\n",
    "                        random_state=42, reg_alpha=0.0, reg_lambda=0.0, silent=True,\n",
    "                        subsample=1.0, subsample_for_bin=200000, subsample_freq=0 ) )\n",
    "              \n",
    " ]"
   ]
  },
  {
   "cell_type": "code",
   "execution_count": null,
   "metadata": {
    "id": "QzPwBjIw0jFu"
   },
   "outputs": [],
   "source": [
    "x_train['prob_source_screen_name'] = x_train['prob_source_screen_name'].fillna(0)\n",
    "x_val['prob_source_screen_name'] = x_val['prob_source_screen_name'].fillna(0)\n",
    "test_data['prob_source_screen_name'] = test_data['prob_source_screen_name'].fillna(0)"
   ]
  },
  {
   "cell_type": "code",
   "execution_count": null,
   "metadata": {
    "colab": {
     "base_uri": "https://localhost:8080/"
    },
    "executionInfo": {
     "elapsed": 5062610,
     "status": "ok",
     "timestamp": 1616268898922,
     "user": {
      "displayName": "ajay jogiya",
      "photoUrl": "https://lh3.googleusercontent.com/a-/AOh14GgRAXM6e1-9rIRgaPP756Iug7UkbP0azqriVDFLww=s64",
      "userId": "14152685769056492470"
     },
     "user_tz": -330
    },
    "id": "_zDlLrom0jFu",
    "outputId": "d00c130c-95a4-4d00-8a2c-76d7bd9aa8fb"
   },
   "outputs": [
    {
     "name": "stderr",
     "output_type": "stream",
     "text": [
      "[Parallel(n_jobs=1)]: Using backend SequentialBackend with 1 concurrent workers.\n",
      "[Parallel(n_jobs=1)]: Done   5 out of   5 | elapsed: 42.8min finished\n",
      "[Parallel(n_jobs=1)]: Using backend SequentialBackend with 1 concurrent workers.\n",
      "[Parallel(n_jobs=1)]: Done   5 out of   5 | elapsed: 23.0min finished\n",
      "[Parallel(n_jobs=1)]: Using backend SequentialBackend with 1 concurrent workers.\n",
      "[Parallel(n_jobs=1)]: Done   5 out of   5 | elapsed:  1.9min finished\n"
     ]
    },
    {
     "data": {
      "text/plain": [
       "StackingClassifier(cv=None,\n",
       "                   estimators=[('rf',\n",
       "                                RandomForestClassifier(bootstrap=True,\n",
       "                                                       ccp_alpha=0.0,\n",
       "                                                       class_weight='balanced',\n",
       "                                                       criterion='gini',\n",
       "                                                       max_depth=15,\n",
       "                                                       max_features='auto',\n",
       "                                                       max_leaf_nodes=None,\n",
       "                                                       max_samples=None,\n",
       "                                                       min_impurity_decrease=0.0,\n",
       "                                                       min_impurity_split=None,\n",
       "                                                       min_samples_leaf=1,\n",
       "                                                       min_samples_split=3,\n",
       "                                                       min_weight_fraction_leaf=0.0,\n",
       "                                                       n_estimators=1500,\n",
       "                                                       n_jobs...\n",
       "                                               importance_type='split',\n",
       "                                               learning_rate=0.2, max_depth=10,\n",
       "                                               min_child_samples=5,\n",
       "                                               min_child_weight=0.001,\n",
       "                                               min_split_gain=0.0,\n",
       "                                               n_estimators=1500, n_jobs=-1,\n",
       "                                               num_leaves=8, objective=None,\n",
       "                                               random_state=42, reg_alpha=0.0,\n",
       "                                               reg_lambda=0.0, silent=True,\n",
       "                                               subsample=1.0,\n",
       "                                               subsample_for_bin=200000,\n",
       "                                               subsample_freq=0))],\n",
       "                   final_estimator=None, n_jobs=None, passthrough=False,\n",
       "                   stack_method='auto', verbose=1)"
      ]
     },
     "execution_count": 67,
     "metadata": {
      "tags": []
     },
     "output_type": "execute_result"
    }
   ],
   "source": [
    "stacking = StackingClassifier(estimators ,verbose=1 )\n",
    "stacking.fit(x_train,y_train)"
   ]
  },
  {
   "cell_type": "code",
   "execution_count": null,
   "metadata": {
    "colab": {
     "base_uri": "https://localhost:8080/"
    },
    "executionInfo": {
     "elapsed": 120550,
     "status": "ok",
     "timestamp": 1616269034734,
     "user": {
      "displayName": "ajay jogiya",
      "photoUrl": "https://lh3.googleusercontent.com/a-/AOh14GgRAXM6e1-9rIRgaPP756Iug7UkbP0azqriVDFLww=s64",
      "userId": "14152685769056492470"
     },
     "user_tz": -330
    },
    "id": "4RnEpGFB0jFv",
    "outputId": "b5ab1045-b651-4dbb-8b95-0d365a1af430"
   },
   "outputs": [
    {
     "name": "stdout",
     "output_type": "stream",
     "text": [
      "AUC Score of Train Data :  0.8370780568787233\n",
      "AUC Score of Val_data   :  0.718274418715922\n"
     ]
    }
   ],
   "source": [
    "# with drop features\n",
    "train_test_pred(stacking , x_train , x_val)"
   ]
  },
  {
   "cell_type": "code",
   "execution_count": null,
   "metadata": {
    "colab": {
     "base_uri": "https://localhost:8080/",
     "height": 34
    },
    "executionInfo": {
     "elapsed": 1283720,
     "status": "ok",
     "timestamp": 1616270334337,
     "user": {
      "displayName": "ajay jogiya",
      "photoUrl": "https://lh3.googleusercontent.com/a-/AOh14GgRAXM6e1-9rIRgaPP756Iug7UkbP0azqriVDFLww=s64",
      "userId": "14152685769056492470"
     },
     "user_tz": -330
    },
    "id": "sFa9JUjG0jFv",
    "outputId": "182ad692-6d81-4a8f-e8fa-8c1eb2a1f7e0"
   },
   "outputs": [
    {
     "data": {
      "application/vnd.google.colaboratory.intrinsic+json": {
       "type": "string"
      },
      "text/plain": [
       "'Prediction on Test Data is saved.'"
      ]
     },
     "execution_count": 69,
     "metadata": {
      "tags": []
     },
     "output_type": "execute_result"
    }
   ],
   "source": [
    "test_pred(stacking ,test_data,'stacking_prob')"
   ]
  },
  {
   "cell_type": "markdown",
   "metadata": {
    "id": "JeCtDeTQ9IH6"
   },
   "source": [
    "# **stacking**\n",
    "### **Decision Tree , Random Forest , XGBoost , LGBM**"
   ]
  },
  {
   "cell_type": "code",
   "execution_count": null,
   "metadata": {
    "id": "BOms7UCHyUZI"
   },
   "outputs": [],
   "source": [
    "estimators = [ \n",
    "              ('dt' ,  DecisionTreeClassifier(  ccp_alpha=0.0, class_weight=None, criterion='gini',\n",
    "                       max_depth=10, max_features=None, max_leaf_nodes=92,\n",
    "                       min_impurity_decrease=0.0, min_impurity_split=None,\n",
    "                       min_samples_leaf=1, min_samples_split=50,\n",
    "                       min_weight_fraction_leaf=0.0, presort='deprecated',\n",
    "                       random_state=42, splitter='best'  ) ) ,\n",
    "              ( 'rf', RandomForestClassifier(bootstrap=True, ccp_alpha=0.0, class_weight='balanced',\n",
    "                       criterion='gini', max_depth=15, max_features='auto',\n",
    "                       max_leaf_nodes=None, max_samples=None,\n",
    "                       min_impurity_decrease=0.0, min_impurity_split=None,\n",
    "                       min_samples_leaf=1, min_samples_split=100,\n",
    "                       min_weight_fraction_leaf=0.0, n_estimators=1000,\n",
    "                       n_jobs=None, oob_score=False, random_state=42, verbose=0,\n",
    "                       warm_start=False) ),\n",
    "              ('xgb', XGBClassifier(base_score=0.5, booster='gbtree', colsample_bylevel=1,\n",
    "                        colsample_bynode=1, colsample_bytree=1, gamma=0.01,\n",
    "                        learning_rate=0.1, max_delta_step=0, max_depth=13,\n",
    "                        min_child_weight=1, missing=None, n_estimators=1000, n_jobs=1,\n",
    "                        nthread=None, objective='binary:logistic', random_state=0,\n",
    "                        reg_alpha=0, reg_lambda=1, scale_pos_weight=1, seed=None,\n",
    "                        silent=None, subsample=1, verbosity=1)),\n",
    "              ('lgbm', LGBMClassifier( boosting_type='gbdt', class_weight=None, colsample_bytree=1.0,\n",
    "                        importance_type='split', learning_rate=0.1, max_depth=10,\n",
    "                        min_child_samples=8, min_child_weight=0.001, min_split_gain=0.0,\n",
    "                        n_estimators=1000, n_jobs=-1, num_leaves=12, objective=None,\n",
    "                        random_state=42, reg_alpha=0.0, reg_lambda=0.0, silent=True,\n",
    "                        subsample=1.0, subsample_for_bin=200000, subsample_freq=0 ) )\n",
    "              \n",
    " ]"
   ]
  },
  {
   "cell_type": "code",
   "execution_count": null,
   "metadata": {
    "id": "8sDOMeo6zY8Z"
   },
   "outputs": [],
   "source": [
    "x_train['prob_source_screen_name'] = x_train['prob_source_screen_name'].fillna(0)\n",
    "x_val['prob_source_screen_name'] = x_val['prob_source_screen_name'].fillna(0)\n",
    "test_data['prob_source_screen_name'] = test_data['prob_source_screen_name'].fillna(0)"
   ]
  },
  {
   "cell_type": "code",
   "execution_count": null,
   "metadata": {
    "colab": {
     "base_uri": "https://localhost:8080/"
    },
    "executionInfo": {
     "elapsed": 7919810,
     "status": "ok",
     "timestamp": 1616240821435,
     "user": {
      "displayName": "ajay jogiya",
      "photoUrl": "https://lh3.googleusercontent.com/a-/AOh14GgRAXM6e1-9rIRgaPP756Iug7UkbP0azqriVDFLww=s64",
      "userId": "14152685769056492470"
     },
     "user_tz": -330
    },
    "id": "jb4zZg65yUVx",
    "outputId": "7ed8ab30-1a47-4889-bc04-8a2332b86388"
   },
   "outputs": [
    {
     "name": "stderr",
     "output_type": "stream",
     "text": [
      "[Parallel(n_jobs=1)]: Using backend SequentialBackend with 1 concurrent workers.\n",
      "[Parallel(n_jobs=1)]: Done   5 out of   5 | elapsed:    8.9s finished\n",
      "[Parallel(n_jobs=1)]: Using backend SequentialBackend with 1 concurrent workers.\n",
      "[Parallel(n_jobs=1)]: Done   5 out of   5 | elapsed: 25.9min finished\n",
      "[Parallel(n_jobs=1)]: Using backend SequentialBackend with 1 concurrent workers.\n",
      "[Parallel(n_jobs=1)]: Done   5 out of   5 | elapsed: 77.4min finished\n",
      "[Parallel(n_jobs=1)]: Using backend SequentialBackend with 1 concurrent workers.\n",
      "[Parallel(n_jobs=1)]: Done   5 out of   5 | elapsed:  1.7min finished\n"
     ]
    },
    {
     "data": {
      "text/plain": [
       "StackingClassifier(cv=None,\n",
       "                   estimators=[('dt',\n",
       "                                DecisionTreeClassifier(ccp_alpha=0.0,\n",
       "                                                       class_weight=None,\n",
       "                                                       criterion='gini',\n",
       "                                                       max_depth=10,\n",
       "                                                       max_features=None,\n",
       "                                                       max_leaf_nodes=92,\n",
       "                                                       min_impurity_decrease=0.0,\n",
       "                                                       min_impurity_split=None,\n",
       "                                                       min_samples_leaf=1,\n",
       "                                                       min_samples_split=50,\n",
       "                                                       min_weight_fraction_leaf=0.0,\n",
       "                                                       presort='deprecated',\n",
       "                                                       random_state=42,\n",
       "                                                       splitter='best')),\n",
       "                               ('rf',\n",
       "                                Rand...\n",
       "                                               importance_type='split',\n",
       "                                               learning_rate=0.1, max_depth=10,\n",
       "                                               min_child_samples=8,\n",
       "                                               min_child_weight=0.001,\n",
       "                                               min_split_gain=0.0,\n",
       "                                               n_estimators=1000, n_jobs=-1,\n",
       "                                               num_leaves=12, objective=None,\n",
       "                                               random_state=42, reg_alpha=0.0,\n",
       "                                               reg_lambda=0.0, silent=True,\n",
       "                                               subsample=1.0,\n",
       "                                               subsample_for_bin=200000,\n",
       "                                               subsample_freq=0))],\n",
       "                   final_estimator=None, n_jobs=None, passthrough=False,\n",
       "                   stack_method='auto', verbose=1)"
      ]
     },
     "execution_count": 190,
     "metadata": {
      "tags": []
     },
     "output_type": "execute_result"
    }
   ],
   "source": [
    "stacking = StackingClassifier(estimators ,verbose=1 )\n",
    "stacking.fit(x_train,y_train)"
   ]
  },
  {
   "cell_type": "code",
   "execution_count": null,
   "metadata": {
    "colab": {
     "base_uri": "https://localhost:8080/"
    },
    "executionInfo": {
     "elapsed": 114583,
     "status": "ok",
     "timestamp": 1616241842723,
     "user": {
      "displayName": "ajay jogiya",
      "photoUrl": "https://lh3.googleusercontent.com/a-/AOh14GgRAXM6e1-9rIRgaPP756Iug7UkbP0azqriVDFLww=s64",
      "userId": "14152685769056492470"
     },
     "user_tz": -330
    },
    "id": "URh4_iZiPxYz",
    "outputId": "c606f7f9-7fce-4594-bcf4-07e2462a19da"
   },
   "outputs": [
    {
     "name": "stdout",
     "output_type": "stream",
     "text": [
      "AUC Score of Train Data :  0.9947340021031384\n",
      "AUC Score of Val_data   :  0.7289496456579778\n"
     ]
    }
   ],
   "source": [
    "# with drop features\n",
    "train_test_pred(stacking , x_train , x_val)"
   ]
  },
  {
   "cell_type": "code",
   "execution_count": null,
   "metadata": {
    "colab": {
     "base_uri": "https://localhost:8080/",
     "height": 34
    },
    "executionInfo": {
     "elapsed": 1168354,
     "status": "ok",
     "timestamp": 1616243089286,
     "user": {
      "displayName": "ajay jogiya",
      "photoUrl": "https://lh3.googleusercontent.com/a-/AOh14GgRAXM6e1-9rIRgaPP756Iug7UkbP0azqriVDFLww=s64",
      "userId": "14152685769056492470"
     },
     "user_tz": -330
    },
    "id": "t8Gr7q3-Wtbp",
    "outputId": "d4126409-3be1-4dcd-fd60-9ee96720825f"
   },
   "outputs": [
    {
     "data": {
      "application/vnd.google.colaboratory.intrinsic+json": {
       "type": "string"
      },
      "text/plain": [
       "'Prediction on Test Data is saved.'"
      ]
     },
     "execution_count": 192,
     "metadata": {
      "tags": []
     },
     "output_type": "execute_result"
    }
   ],
   "source": [
    "test_pred(stacking ,test_data,'stacking_prob')"
   ]
  },
  {
   "cell_type": "markdown",
   "metadata": {
    "id": "Hw4vyWFlD95y"
   },
   "source": [
    "# **Average of LGBM and Stacking Bin counting**"
   ]
  },
  {
   "cell_type": "code",
   "execution_count": null,
   "metadata": {
    "id": "l9uzIG1aB6Iz"
   },
   "outputs": [],
   "source": [
    "clf = LGBMClassifier(boosting_type='gbdt', class_weight=None, colsample_bytree=1.0,\n",
    "               importance_type='split', learning_rate=0.2, max_depth=10,\n",
    "               min_child_samples=5, min_child_weight=0.001, min_split_gain=0.0,\n",
    "               n_estimators=1000, n_jobs=-1, num_leaves=8, objective=None,\n",
    "               random_state=42, reg_alpha=0.0, reg_lambda=0.0, silent=True,\n",
    "               subsample=1.0, subsample_for_bin=200000, subsample_freq=0)\n",
    "clf.fit( x_train, y_train )\n",
    "pred1 = clf.predict_proba(test_data)[:,1]\n",
    "\n",
    "\n",
    "estimators = [ \n",
    "              ('dt' ,  DecisionTreeClassifier(  ccp_alpha=0.0, class_weight=None, criterion='gini',\n",
    "                       max_depth=10, max_features=None, max_leaf_nodes=92,\n",
    "                       min_impurity_decrease=0.0, min_impurity_split=None,\n",
    "                       min_samples_leaf=1, min_samples_split=50,\n",
    "                       min_weight_fraction_leaf=0.0, presort='deprecated',\n",
    "                       random_state=42, splitter='best'  ) ) ,\n",
    "              ( 'rf', RandomForestClassifier(bootstrap=True, ccp_alpha=0.0, class_weight='balanced',\n",
    "                       criterion='gini', max_depth=15, max_features='auto',\n",
    "                       max_leaf_nodes=None, max_samples=None,\n",
    "                       min_impurity_decrease=0.0, min_impurity_split=None,\n",
    "                       min_samples_leaf=1, min_samples_split=100,\n",
    "                       min_weight_fraction_leaf=0.0, n_estimators=1000,\n",
    "                       n_jobs=None, oob_score=False, random_state=42, verbose=0,\n",
    "                       warm_start=False) ),\n",
    "              ('xgb', XGBClassifier(base_score=0.5, booster='gbtree', colsample_bylevel=1,\n",
    "                        colsample_bynode=1, colsample_bytree=1, gamma=0.01,\n",
    "                        learning_rate=0.1, max_delta_step=0, max_depth=13,\n",
    "                        min_child_weight=1, missing=None, n_estimators=1000, n_jobs=1,\n",
    "                        nthread=None, objective='binary:logistic', random_state=0,\n",
    "                        reg_alpha=0, reg_lambda=1, scale_pos_weight=1, seed=None,\n",
    "                        silent=None, subsample=1, verbosity=1)),\n",
    "              ('lgbm', LGBMClassifier( boosting_type='gbdt', class_weight=None, colsample_bytree=1.0,\n",
    "                        importance_type='split', learning_rate=0.1, max_depth=10,\n",
    "                        min_child_samples=8, min_child_weight=0.001, min_split_gain=0.0,\n",
    "                        n_estimators=1000, n_jobs=-1, num_leaves=12, objective=None,\n",
    "                        random_state=42, reg_alpha=0.0, reg_lambda=0.0, silent=True,\n",
    "                        subsample=1.0, subsample_for_bin=200000, subsample_freq=0 ) )\n",
    "              \n",
    " ]\n",
    "\n",
    "stacking = StackingClassifier(estimators ,verbose=1 )\n",
    "stacking.fit(x_train,y_train)\n",
    "\n",
    "stacking.fit( x_train, y_train )\n",
    "pred2 = stacking.predict_proba(test_data)[:,1]\n",
    "\n",
    "pred = (pred1 + pred2) / 2\n",
    "\n",
    "submission['id'] = ids\n",
    "submission['target'] = pred\n",
    "\n",
    "submission.to_csv('average(stacking_prob_2+LGBM_with_prob',index = False)"
   ]
  },
  {
   "cell_type": "markdown",
   "metadata": {
    "id": "c3Imzth-Fe0Z"
   },
   "source": [
    "# **Model Comparisons**"
   ]
  },
  {
   "cell_type": "code",
   "execution_count": 17,
   "metadata": {
    "executionInfo": {
     "elapsed": 1048,
     "status": "ok",
     "timestamp": 1616284286331,
     "user": {
      "displayName": "ajay jogiya",
      "photoUrl": "https://lh3.googleusercontent.com/a-/AOh14GgRAXM6e1-9rIRgaPP756Iug7UkbP0azqriVDFLww=s64",
      "userId": "14152685769056492470"
     },
     "user_tz": -330
    },
    "id": "vwbyA6pTyrV7"
   },
   "outputs": [],
   "source": [
    "x = PrettyTable()\n",
    "x.field_names = [\"Sr. No.\",'Model','Train_AUC','Val_AUC','Private_Score','Public_Score']"
   ]
  },
  {
   "cell_type": "code",
   "execution_count": 18,
   "metadata": {
    "executionInfo": {
     "elapsed": 972,
     "status": "ok",
     "timestamp": 1616284286724,
     "user": {
      "displayName": "ajay jogiya",
      "photoUrl": "https://lh3.googleusercontent.com/a-/AOh14GgRAXM6e1-9rIRgaPP756Iug7UkbP0azqriVDFLww=s64",
      "userId": "14152685769056492470"
     },
     "user_tz": -330
    },
    "id": "tcdfQxQCyrF3"
   },
   "outputs": [],
   "source": [
    "x.add_row(['1.','Decision Tree',0.70169,0.69691,0.64184,0.63551])\n",
    "x.add_row(['2.','Random Forest',0.76991,0.71046,0.65198,0.64811  ])\n",
    "x.add_row(['3.','AdaBoost',0.70042,0.69967,0.64931,0.64545])\n",
    "x.add_row(['4.','XGBoost',0.99998,0.71989,0.64208,0.63868  ])\n",
    "x.add_row(['5.','LGBM',0.74691,0.71296,0.65540,0.65209  ])\n",
    "x.add_row(['6.','Stacking(DT+RF+XGB+LGBM)',0.98395,0.72631,0.65642,0.65284  ])\n",
    "x.add_row(['7.','Random Forest with PCA' , 0.79744,0.70914,0.64979,0.64582])\n",
    "x.add_row(['8.','XGBoost with PCA' ,0.95498,0.70747,0.64289,0.63976])\n",
    "x.add_row(['9.','LGBM with PCA' , 0.76900,0.71241, 0.65274,0.64933 ])\n",
    "x.add_row(['10.','LGBM with k-best' , 0.76191 , 0.71328 , 0.65112 ,0.64811 ])\n",
    "x.add_row(['11.','Stacking(DT+RF+XGB+LGBM) with k-best' , 0.95309,0.72247,0.65112,0.64811 ])\n",
    "x.add_row(['12.','LGBM with Bin counting' ,0.77396,0.71443,0.65439,0.65165 ])\n",
    "x.add_row(['13.','Adaboost with Bin counting' , 0.70482,0.70180,'-','-'])\n",
    "x.add_row(['15.','Stacking(DT+RF+XGB+LGBM) with Bin counting' ,0.99473,0.72894,0.65867,0.65356])\n",
    "x.add_row(['14.','Stacking (Random Forest+Adaboost+LGBM)',0.83707,0.71827,'-','-'])\n",
    "x.add_row(['16.','Average of LGBM + Stacking Bin counting','-','-',0.65799,0.65500])"
   ]
  },
  {
   "cell_type": "code",
   "execution_count": 19,
   "metadata": {
    "colab": {
     "base_uri": "https://localhost:8080/"
    },
    "executionInfo": {
     "elapsed": 988,
     "status": "ok",
     "timestamp": 1616284291324,
     "user": {
      "displayName": "ajay jogiya",
      "photoUrl": "https://lh3.googleusercontent.com/a-/AOh14GgRAXM6e1-9rIRgaPP756Iug7UkbP0azqriVDFLww=s64",
      "userId": "14152685769056492470"
     },
     "user_tz": -330
    },
    "id": "0y8BC-EsyrCs",
    "outputId": "3b37ca7a-99f4-4639-cb07-a2eb8b3e538b"
   },
   "outputs": [
    {
     "name": "stdout",
     "output_type": "stream",
     "text": [
      "+---------+--------------------------------------------+-----------+---------+---------------+--------------+\n",
      "| Sr. No. |                   Model                    | Train_AUC | Val_AUC | Private_Score | Public_Score |\n",
      "+---------+--------------------------------------------+-----------+---------+---------------+--------------+\n",
      "|    1.   |               Decision Tree                |  0.70169  | 0.69691 |    0.64184    |   0.63551    |\n",
      "|    2.   |               Random Forest                |  0.76991  | 0.71046 |    0.65198    |   0.64811    |\n",
      "|    3.   |                  AdaBoost                  |  0.70042  | 0.69967 |    0.64931    |   0.64545    |\n",
      "|    4.   |                  XGBoost                   |  0.99998  | 0.71989 |    0.64208    |   0.63868    |\n",
      "|    5.   |                    LGBM                    |  0.74691  | 0.71296 |     0.6554    |   0.65209    |\n",
      "|    6.   |          Stacking(DT+RF+XGB+LGBM)          |  0.98395  | 0.72631 |    0.65642    |   0.65284    |\n",
      "|    7.   |           Random Forest with PCA           |  0.79744  | 0.70914 |    0.64979    |   0.64582    |\n",
      "|    8.   |              XGBoost with PCA              |  0.95498  | 0.70747 |    0.64289    |   0.63976    |\n",
      "|    9.   |               LGBM with PCA                |   0.769   | 0.71241 |    0.65274    |   0.64933    |\n",
      "|   10.   |              LGBM with k-best              |  0.76191  | 0.71328 |    0.65112    |   0.64811    |\n",
      "|   11.   |    Stacking(DT+RF+XGB+LGBM) with k-best    |  0.95309  | 0.72247 |    0.65112    |   0.64811    |\n",
      "|   12.   |           LGBM with Bin counting           |  0.77396  | 0.71443 |    0.65439    |   0.65165    |\n",
      "|   13.   |         Adaboost with Bin counting         |  0.70482  |  0.7018 |       -       |      -       |\n",
      "|   15.   | Stacking(DT+RF+XGB+LGBM) with Bin counting |  0.99473  | 0.72894 |    0.65867    |   0.65356    |\n",
      "|   14.   |   Stacking (Random Forest+Adaboost+LGBM)   |  0.83707  | 0.71827 |       -       |      -       |\n",
      "|   16.   |  Average of LGBM + Stacking Bin counting   |     -     |    -    |    0.65799    |    0.655     |\n",
      "+---------+--------------------------------------------+-----------+---------+---------------+--------------+\n"
     ]
    }
   ],
   "source": [
    "print(x)"
   ]
  },
  {
   "cell_type": "markdown",
   "metadata": {
    "id": "MNfZDOW3HWfT"
   },
   "source": [
    "![Screenshot (632).png](data:image/png;base64,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)"
   ]
  }
 ],
 "metadata": {
  "accelerator": "GPU",
  "colab": {
   "authorship_tag": "ABX9TyOwrZXEnfv6EwdthDUJgFdo",
   "collapsed_sections": [],
   "name": "Modeling.ipynb",
   "provenance": []
  },
  "kernelspec": {
   "display_name": "Python 3",
   "language": "python",
   "name": "python3"
  },
  "language_info": {
   "codemirror_mode": {
    "name": "ipython",
    "version": 3
   },
   "file_extension": ".py",
   "mimetype": "text/x-python",
   "name": "python",
   "nbconvert_exporter": "python",
   "pygments_lexer": "ipython3",
   "version": "3.7.3"
  }
 },
 "nbformat": 4,
 "nbformat_minor": 1
}
